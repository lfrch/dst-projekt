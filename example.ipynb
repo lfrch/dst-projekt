{
  "cells": [
    {
      "cell_type": "raw",
      "metadata": {},
      "source": [
        "---\n",
        "title: \"Projekt\"\n",
        "format: html\n",
        "---"
      ],
      "id": "f340f49b"
    },
    {
      "cell_type": "markdown",
      "metadata": {},
      "source": [
        "# H1 Title\n",
        "\n",
        "## H2 Title\n",
        "\n",
        "Text **fett**, oder *kursiv* bzw. mit [Link] (hier URL einfügen)\n",
        "\n",
        "\n",
        "\n",
        "\n",
        "```{pyhton}\n",
        "\n",
        "```"
      ],
      "id": "104b0fcd"
    }
  ],
  "metadata": {
    "kernelspec": {
      "display_name": "Python 3",
      "language": "python",
      "name": "python3"
    }
  },
  "nbformat": 4,
  "nbformat_minor": 5
}