{
 "cells": [
  {
   "cell_type": "markdown",
   "metadata": {},
   "source": [
    "# Productivity Forecast"
   ]
  },
  {
   "cell_type": "markdown",
   "metadata": {},
   "source": [
    "TO DO: Neuer DF/Objekt mit zu betrachtenden Regionen (EA17 (euro Area, GBR & DEU))\n",
    "* Line chart pro Regionen bis 2025\n"
   ]
  },
  {
   "cell_type": "markdown",
   "metadata": {},
   "source": [
    "### Setup"
   ]
  },
  {
   "cell_type": "code",
   "execution_count": 1,
   "metadata": {},
   "outputs": [],
   "source": [
    "import pandas as pd\n",
    "import altair as alt"
   ]
  },
  {
   "cell_type": "code",
   "execution_count": 2,
   "metadata": {},
   "outputs": [
    {
     "data": {
      "text/plain": [
       "DataTransformerRegistry.enable('default')"
      ]
     },
     "execution_count": 2,
     "metadata": {},
     "output_type": "execute_result"
    }
   ],
   "source": [
    "# Zeilenlimit deaktivieren (n=5000)\n",
    "# Falls Datensatz mehr als 5000 Zeilen, dann soll es deaktiviert werden\n",
    "\n",
    "alt.data_transformers.disable_max_rows()"
   ]
  },
  {
   "cell_type": "markdown",
   "metadata": {},
   "source": [
    "## Data"
   ]
  },
  {
   "cell_type": "markdown",
   "metadata": {},
   "source": [
    "Data Import"
   ]
  },
  {
   "cell_type": "markdown",
   "metadata": {},
   "source": [
    "#### Dataset Labour productivity forecast 2019 - 2024"
   ]
  },
  {
   "cell_type": "code",
   "execution_count": 3,
   "metadata": {},
   "outputs": [],
   "source": [
    "# falls Datei lokal liegt, einfach den Pfad zur CSV eingeben: ins Terminal 'pwd' eingeben, dann wird Pfad gezeigt\n",
    "LINK = '/Users/Lea/Desktop/DataStorytelling/Projekt/productivity_forecast.csv'\n",
    "\n",
    "df = pd.read_csv(LINK)"
   ]
  },
  {
   "cell_type": "code",
   "execution_count": 12,
   "metadata": {},
   "outputs": [
    {
     "data": {
      "text/html": [
       "<div>\n",
       "<style scoped>\n",
       "    .dataframe tbody tr th:only-of-type {\n",
       "        vertical-align: middle;\n",
       "    }\n",
       "\n",
       "    .dataframe tbody tr th {\n",
       "        vertical-align: top;\n",
       "    }\n",
       "\n",
       "    .dataframe thead th {\n",
       "        text-align: right;\n",
       "    }\n",
       "</style>\n",
       "<table border=\"1\" class=\"dataframe\">\n",
       "  <thead>\n",
       "    <tr style=\"text-align: right;\">\n",
       "      <th></th>\n",
       "      <th>LOCATION</th>\n",
       "      <th>INDICATOR</th>\n",
       "      <th>SUBJECT</th>\n",
       "      <th>MEASURE</th>\n",
       "      <th>FREQUENCY</th>\n",
       "      <th>TIME</th>\n",
       "      <th>Value</th>\n",
       "      <th>Flag Codes</th>\n",
       "    </tr>\n",
       "  </thead>\n",
       "  <tbody>\n",
       "    <tr>\n",
       "      <th>0</th>\n",
       "      <td>EA17</td>\n",
       "      <td>GDPHRWKDFORECAST</td>\n",
       "      <td>TOT</td>\n",
       "      <td>IDX2015</td>\n",
       "      <td>A</td>\n",
       "      <td>1964</td>\n",
       "      <td>0.475941</td>\n",
       "      <td>NaN</td>\n",
       "    </tr>\n",
       "    <tr>\n",
       "      <th>1</th>\n",
       "      <td>EA17</td>\n",
       "      <td>GDPHRWKDFORECAST</td>\n",
       "      <td>TOT</td>\n",
       "      <td>IDX2015</td>\n",
       "      <td>A</td>\n",
       "      <td>1965</td>\n",
       "      <td>0.473288</td>\n",
       "      <td>NaN</td>\n",
       "    </tr>\n",
       "    <tr>\n",
       "      <th>2</th>\n",
       "      <td>EA17</td>\n",
       "      <td>GDPHRWKDFORECAST</td>\n",
       "      <td>TOT</td>\n",
       "      <td>IDX2015</td>\n",
       "      <td>A</td>\n",
       "      <td>1966</td>\n",
       "      <td>0.478965</td>\n",
       "      <td>NaN</td>\n",
       "    </tr>\n",
       "    <tr>\n",
       "      <th>3</th>\n",
       "      <td>EA17</td>\n",
       "      <td>GDPHRWKDFORECAST</td>\n",
       "      <td>TOT</td>\n",
       "      <td>IDX2015</td>\n",
       "      <td>A</td>\n",
       "      <td>1967</td>\n",
       "      <td>0.501016</td>\n",
       "      <td>NaN</td>\n",
       "    </tr>\n",
       "    <tr>\n",
       "      <th>4</th>\n",
       "      <td>EA17</td>\n",
       "      <td>GDPHRWKDFORECAST</td>\n",
       "      <td>TOT</td>\n",
       "      <td>IDX2015</td>\n",
       "      <td>A</td>\n",
       "      <td>1968</td>\n",
       "      <td>0.515177</td>\n",
       "      <td>NaN</td>\n",
       "    </tr>\n",
       "    <tr>\n",
       "      <th>...</th>\n",
       "      <td>...</td>\n",
       "      <td>...</td>\n",
       "      <td>...</td>\n",
       "      <td>...</td>\n",
       "      <td>...</td>\n",
       "      <td>...</td>\n",
       "      <td>...</td>\n",
       "      <td>...</td>\n",
       "    </tr>\n",
       "    <tr>\n",
       "      <th>7253</th>\n",
       "      <td>EA17</td>\n",
       "      <td>GDPHRWKDFORECAST</td>\n",
       "      <td>TOT</td>\n",
       "      <td>IDX2015</td>\n",
       "      <td>A</td>\n",
       "      <td>2020</td>\n",
       "      <td>0.970571</td>\n",
       "      <td>NaN</td>\n",
       "    </tr>\n",
       "    <tr>\n",
       "      <th>7254</th>\n",
       "      <td>EA17</td>\n",
       "      <td>GDPHRWKDFORECAST</td>\n",
       "      <td>TOT</td>\n",
       "      <td>IDX2015</td>\n",
       "      <td>A</td>\n",
       "      <td>2021</td>\n",
       "      <td>1.084673</td>\n",
       "      <td>NaN</td>\n",
       "    </tr>\n",
       "    <tr>\n",
       "      <th>7255</th>\n",
       "      <td>EA17</td>\n",
       "      <td>GDPHRWKDFORECAST</td>\n",
       "      <td>TOT</td>\n",
       "      <td>IDX2015</td>\n",
       "      <td>A</td>\n",
       "      <td>2022</td>\n",
       "      <td>1.125940</td>\n",
       "      <td>NaN</td>\n",
       "    </tr>\n",
       "    <tr>\n",
       "      <th>7256</th>\n",
       "      <td>EA17</td>\n",
       "      <td>GDPHRWKDFORECAST</td>\n",
       "      <td>TOT</td>\n",
       "      <td>IDX2015</td>\n",
       "      <td>A</td>\n",
       "      <td>2023</td>\n",
       "      <td>1.121360</td>\n",
       "      <td>NaN</td>\n",
       "    </tr>\n",
       "    <tr>\n",
       "      <th>7257</th>\n",
       "      <td>EA17</td>\n",
       "      <td>GDPHRWKDFORECAST</td>\n",
       "      <td>TOT</td>\n",
       "      <td>IDX2015</td>\n",
       "      <td>A</td>\n",
       "      <td>2024</td>\n",
       "      <td>1.138047</td>\n",
       "      <td>NaN</td>\n",
       "    </tr>\n",
       "  </tbody>\n",
       "</table>\n",
       "<p>7258 rows × 8 columns</p>\n",
       "</div>"
      ],
      "text/plain": [
       "     LOCATION         INDICATOR SUBJECT  MEASURE FREQUENCY  TIME     Value  \\\n",
       "0        EA17  GDPHRWKDFORECAST     TOT  IDX2015         A  1964  0.475941   \n",
       "1        EA17  GDPHRWKDFORECAST     TOT  IDX2015         A  1965  0.473288   \n",
       "2        EA17  GDPHRWKDFORECAST     TOT  IDX2015         A  1966  0.478965   \n",
       "3        EA17  GDPHRWKDFORECAST     TOT  IDX2015         A  1967  0.501016   \n",
       "4        EA17  GDPHRWKDFORECAST     TOT  IDX2015         A  1968  0.515177   \n",
       "...       ...               ...     ...      ...       ...   ...       ...   \n",
       "7253     EA17  GDPHRWKDFORECAST     TOT  IDX2015         A  2020  0.970571   \n",
       "7254     EA17  GDPHRWKDFORECAST     TOT  IDX2015         A  2021  1.084673   \n",
       "7255     EA17  GDPHRWKDFORECAST     TOT  IDX2015         A  2022  1.125940   \n",
       "7256     EA17  GDPHRWKDFORECAST     TOT  IDX2015         A  2023  1.121360   \n",
       "7257     EA17  GDPHRWKDFORECAST     TOT  IDX2015         A  2024  1.138047   \n",
       "\n",
       "      Flag Codes  \n",
       "0            NaN  \n",
       "1            NaN  \n",
       "2            NaN  \n",
       "3            NaN  \n",
       "4            NaN  \n",
       "...          ...  \n",
       "7253         NaN  \n",
       "7254         NaN  \n",
       "7255         NaN  \n",
       "7256         NaN  \n",
       "7257         NaN  \n",
       "\n",
       "[7258 rows x 8 columns]"
      ]
     },
     "execution_count": 12,
     "metadata": {},
     "output_type": "execute_result"
    }
   ],
   "source": [
    "df\n",
    "# falls 50 Zeilen werden alle angezeigt \n",
    "#df.head() für begrenzte Anzeigen"
   ]
  },
  {
   "cell_type": "code",
   "execution_count": 5,
   "metadata": {},
   "outputs": [
    {
     "name": "stdout",
     "output_type": "stream",
     "text": [
      "<class 'pandas.core.frame.DataFrame'>\n",
      "RangeIndex: 7258 entries, 0 to 7257\n",
      "Data columns (total 8 columns):\n",
      " #   Column      Non-Null Count  Dtype  \n",
      "---  ------      --------------  -----  \n",
      " 0   LOCATION    7258 non-null   object \n",
      " 1   INDICATOR   7258 non-null   object \n",
      " 2   SUBJECT     7258 non-null   object \n",
      " 3   MEASURE     7258 non-null   object \n",
      " 4   FREQUENCY   7258 non-null   object \n",
      " 5   TIME        7258 non-null   object \n",
      " 6   Value       7258 non-null   float64\n",
      " 7   Flag Codes  0 non-null      float64\n",
      "dtypes: float64(2), object(6)\n",
      "memory usage: 453.8+ KB\n"
     ]
    }
   ],
   "source": [
    "df.info()\n",
    "\n",
    "# Objekt kann immer alles sein\n",
    "# float = numerisch stetig"
   ]
  },
  {
   "cell_type": "code",
   "execution_count": 6,
   "metadata": {},
   "outputs": [],
   "source": [
    "# Für Datenexplo oft sinnvoll Listen zu erstellen und in Loops zu verändern, da schneller\n",
    "list_cat = ['LOCATION', 'SUBJECT']\n",
    "\n",
    "for i in list_cat:\n",
    "    df[i] = df[i].astype('category')"
   ]
  },
  {
   "cell_type": "code",
   "execution_count": 7,
   "metadata": {},
   "outputs": [
    {
     "data": {
      "text/plain": [
       "LOCATION\n",
       "USA     325\n",
       "FIN     325\n",
       "BEL     325\n",
       "SWE     325\n",
       "PRT     325\n",
       "OECD    325\n",
       "JPN     325\n",
       "ITA     325\n",
       "FRA     325\n",
       "CAN     321\n",
       "AUS     305\n",
       "ISL     305\n",
       "GBR     281\n",
       "NLD     280\n",
       "NOR     275\n",
       "KOR     275\n",
       "NZL     209\n",
       "LUX     200\n",
       "IRL     175\n",
       "EA17    170\n",
       "DEU     170\n",
       "CZE     160\n",
       "LTU     150\n",
       "ISR     150\n",
       "EST     150\n",
       "COL     120\n",
       "TUR      65\n",
       "ESP      64\n",
       "CHE      60\n",
       "DNK      59\n",
       "AUT      49\n",
       "CHL      39\n",
       "SVK      31\n",
       "MEX      30\n",
       "LVA      30\n",
       "POL      30\n",
       "GRC      30\n",
       "ROU      30\n",
       "SVN      30\n",
       "BGR      30\n",
       "HRV      30\n",
       "HUN      30\n",
       "Name: count, dtype: int64"
      ]
     },
     "execution_count": 7,
     "metadata": {},
     "output_type": "execute_result"
    }
   ],
   "source": [
    "df['LOCATION'].value_counts()"
   ]
  },
  {
   "cell_type": "markdown",
   "metadata": {},
   "source": [
    "### Analysis"
   ]
  },
  {
   "cell_type": "code",
   "execution_count": 13,
   "metadata": {},
   "outputs": [
    {
     "ename": "NameError",
     "evalue": "name 'df2' is not defined",
     "output_type": "error",
     "traceback": [
      "\u001b[0;31m---------------------------------------------------------------------------\u001b[0m",
      "\u001b[0;31mNameError\u001b[0m                                 Traceback (most recent call last)",
      "\u001b[1;32m/Users/Lea/Desktop/DataStorytelling/Projekt/setup_productivityforecast.ipynb Zelle 15\u001b[0m line \u001b[0;36m6\n\u001b[1;32m      <a href='vscode-notebook-cell:/Users/Lea/Desktop/DataStorytelling/Projekt/setup_productivityforecast.ipynb#X16sZmlsZQ%3D%3D?line=0'>1</a>\u001b[0m \u001b[39m# A C M I \u001b[39;00m\n\u001b[1;32m      <a href='vscode-notebook-cell:/Users/Lea/Desktop/DataStorytelling/Projekt/setup_productivityforecast.ipynb#X16sZmlsZQ%3D%3D?line=1'>2</a>\u001b[0m \u001b[39m# Mark ist Abbildungstyp, Folgender Underscore bezeichnet genaue Art\u001b[39;00m\n\u001b[1;32m      <a href='vscode-notebook-cell:/Users/Lea/Desktop/DataStorytelling/Projekt/setup_productivityforecast.ipynb#X16sZmlsZQ%3D%3D?line=2'>3</a>\u001b[0m \n\u001b[1;32m      <a href='vscode-notebook-cell:/Users/Lea/Desktop/DataStorytelling/Projekt/setup_productivityforecast.ipynb#X16sZmlsZQ%3D%3D?line=3'>4</a>\u001b[0m \u001b[39m#aggregate=count soll Ausprägungen der Variable Homeownership zählen \u001b[39;00m\n\u001b[0;32m----> <a href='vscode-notebook-cell:/Users/Lea/Desktop/DataStorytelling/Projekt/setup_productivityforecast.ipynb#X16sZmlsZQ%3D%3D?line=5'>6</a>\u001b[0m alt\u001b[39m.\u001b[39mChart(df2)\u001b[39m.\u001b[39mmark_bar()\u001b[39m.\u001b[39mencode(\n\u001b[1;32m      <a href='vscode-notebook-cell:/Users/Lea/Desktop/DataStorytelling/Projekt/setup_productivityforecast.ipynb#X16sZmlsZQ%3D%3D?line=6'>7</a>\u001b[0m     x\u001b[39m=\u001b[39malt\u001b[39m.\u001b[39mX(\u001b[39m'\u001b[39m\u001b[39mLOCATION\u001b[39m\u001b[39m'\u001b[39m)\u001b[39m.\u001b[39msort(\u001b[39m'\u001b[39m\u001b[39m-y\u001b[39m\u001b[39m'\u001b[39m)\u001b[39m.\u001b[39maxis  \u001b[39m# - gibt an, dass nach absteigender Ausprägung sortiert wird\u001b[39;00m\n\u001b[1;32m      <a href='vscode-notebook-cell:/Users/Lea/Desktop/DataStorytelling/Projekt/setup_productivityforecast.ipynb#X16sZmlsZQ%3D%3D?line=7'>8</a>\u001b[0m     (title\u001b[39m=\u001b[39m\u001b[39m'\u001b[39m\u001b[39mLocation\u001b[39m\u001b[39m'\u001b[39m,\n\u001b[1;32m      <a href='vscode-notebook-cell:/Users/Lea/Desktop/DataStorytelling/Projekt/setup_productivityforecast.ipynb#X16sZmlsZQ%3D%3D?line=8'>9</a>\u001b[0m      titleAnchor\u001b[39m=\u001b[39m\u001b[39m'\u001b[39m\u001b[39mend\u001b[39m\u001b[39m'\u001b[39m,\n\u001b[1;32m     <a href='vscode-notebook-cell:/Users/Lea/Desktop/DataStorytelling/Projekt/setup_productivityforecast.ipynb#X16sZmlsZQ%3D%3D?line=9'>10</a>\u001b[0m      grid\u001b[39m=\u001b[39m\u001b[39mFalse\u001b[39;00m,\n\u001b[1;32m     <a href='vscode-notebook-cell:/Users/Lea/Desktop/DataStorytelling/Projekt/setup_productivityforecast.ipynb#X16sZmlsZQ%3D%3D?line=10'>11</a>\u001b[0m      labelAngle\u001b[39m=\u001b[39m\u001b[39m0\u001b[39m), \u001b[39m# Labels von Homeownership werden gedreht\u001b[39;00m\n\u001b[1;32m     <a href='vscode-notebook-cell:/Users/Lea/Desktop/DataStorytelling/Projekt/setup_productivityforecast.ipynb#X16sZmlsZQ%3D%3D?line=11'>12</a>\u001b[0m     y\u001b[39m=\u001b[39malt\u001b[39m.\u001b[39mY(\u001b[39m'\u001b[39m\u001b[39mLOCATION\u001b[39m\u001b[39m'\u001b[39m, aggregate\u001b[39m=\u001b[39m\u001b[39m'\u001b[39m\u001b[39mcount\u001b[39m\u001b[39m'\u001b[39m)\u001b[39m.\u001b[39maxis  \n\u001b[1;32m     <a href='vscode-notebook-cell:/Users/Lea/Desktop/DataStorytelling/Projekt/setup_productivityforecast.ipynb#X16sZmlsZQ%3D%3D?line=12'>13</a>\u001b[0m     (title\u001b[39m=\u001b[39m\u001b[39m'\u001b[39m\u001b[39mGDP per hour worked\u001b[39m\u001b[39m'\u001b[39m,\n\u001b[1;32m     <a href='vscode-notebook-cell:/Users/Lea/Desktop/DataStorytelling/Projekt/setup_productivityforecast.ipynb#X16sZmlsZQ%3D%3D?line=13'>14</a>\u001b[0m      titleAnchor\u001b[39m=\u001b[39m\u001b[39m'\u001b[39m\u001b[39mend\u001b[39m\u001b[39m'\u001b[39m,\n\u001b[1;32m     <a href='vscode-notebook-cell:/Users/Lea/Desktop/DataStorytelling/Projekt/setup_productivityforecast.ipynb#X16sZmlsZQ%3D%3D?line=14'>15</a>\u001b[0m       grid\u001b[39m=\u001b[39m\u001b[39mFalse\u001b[39;00m,\n\u001b[1;32m     <a href='vscode-notebook-cell:/Users/Lea/Desktop/DataStorytelling/Projekt/setup_productivityforecast.ipynb#X16sZmlsZQ%3D%3D?line=15'>16</a>\u001b[0m      labelAngle\u001b[39m=\u001b[39m\u001b[39m0\u001b[39m)\n\u001b[1;32m     <a href='vscode-notebook-cell:/Users/Lea/Desktop/DataStorytelling/Projekt/setup_productivityforecast.ipynb#X16sZmlsZQ%3D%3D?line=16'>17</a>\u001b[0m )\u001b[39m.\u001b[39mproperties(\n\u001b[1;32m     <a href='vscode-notebook-cell:/Users/Lea/Desktop/DataStorytelling/Projekt/setup_productivityforecast.ipynb#X16sZmlsZQ%3D%3D?line=17'>18</a>\u001b[0m     title\u001b[39m=\u001b[39m\u001b[39m'\u001b[39m\u001b[39mBar Chart\u001b[39m\u001b[39m'\u001b[39m,\n\u001b[1;32m     <a href='vscode-notebook-cell:/Users/Lea/Desktop/DataStorytelling/Projekt/setup_productivityforecast.ipynb#X16sZmlsZQ%3D%3D?line=18'>19</a>\u001b[0m     width\u001b[39m=\u001b[39m\u001b[39m1000\u001b[39m,\n\u001b[1;32m     <a href='vscode-notebook-cell:/Users/Lea/Desktop/DataStorytelling/Projekt/setup_productivityforecast.ipynb#X16sZmlsZQ%3D%3D?line=19'>20</a>\u001b[0m     height\u001b[39m=\u001b[39m\u001b[39m300\u001b[39m\n\u001b[1;32m     <a href='vscode-notebook-cell:/Users/Lea/Desktop/DataStorytelling/Projekt/setup_productivityforecast.ipynb#X16sZmlsZQ%3D%3D?line=20'>21</a>\u001b[0m )\u001b[39m.\u001b[39mconfigure_title(\n\u001b[1;32m     <a href='vscode-notebook-cell:/Users/Lea/Desktop/DataStorytelling/Projekt/setup_productivityforecast.ipynb#X16sZmlsZQ%3D%3D?line=21'>22</a>\u001b[0m     fontSize\u001b[39m=\u001b[39m\u001b[39m20\u001b[39m,\n\u001b[1;32m     <a href='vscode-notebook-cell:/Users/Lea/Desktop/DataStorytelling/Projekt/setup_productivityforecast.ipynb#X16sZmlsZQ%3D%3D?line=22'>23</a>\u001b[0m     font\u001b[39m=\u001b[39m\u001b[39m'\u001b[39m\u001b[39mArial\u001b[39m\u001b[39m'\u001b[39m,\n\u001b[1;32m     <a href='vscode-notebook-cell:/Users/Lea/Desktop/DataStorytelling/Projekt/setup_productivityforecast.ipynb#X16sZmlsZQ%3D%3D?line=23'>24</a>\u001b[0m     color\u001b[39m=\u001b[39m\u001b[39m'\u001b[39m\u001b[39mblack\u001b[39m\u001b[39m'\u001b[39m,\n\u001b[1;32m     <a href='vscode-notebook-cell:/Users/Lea/Desktop/DataStorytelling/Projekt/setup_productivityforecast.ipynb#X16sZmlsZQ%3D%3D?line=24'>25</a>\u001b[0m     anchor\u001b[39m=\u001b[39m\u001b[39m'\u001b[39m\u001b[39mstart\u001b[39m\u001b[39m'\u001b[39m\n\u001b[1;32m     <a href='vscode-notebook-cell:/Users/Lea/Desktop/DataStorytelling/Projekt/setup_productivityforecast.ipynb#X16sZmlsZQ%3D%3D?line=25'>26</a>\u001b[0m )\u001b[39m.\u001b[39mconfigure_view(strokeWidth\u001b[39m=\u001b[39m\u001b[39m0\u001b[39m)\n",
      "\u001b[0;31mNameError\u001b[0m: name 'df2' is not defined"
     ]
    }
   ],
   "source": [
    "# A C M I \n",
    "# Mark ist Abbildungstyp, Folgender Underscore bezeichnet genaue Art\n",
    "\n",
    "#aggregate=count soll Ausprägungen der Variable Homeownership zählen \n",
    "\n",
    "alt.Chart(df2).mark_bar().encode(\n",
    "    x=alt.X('LOCATION').sort('-y').axis  # - gibt an, dass nach absteigender Ausprägung sortiert wird\n",
    "    (title='Location',\n",
    "     titleAnchor='end',\n",
    "     grid=False,\n",
    "     labelAngle=0), # Labels von Homeownership werden gedreht\n",
    "    y=alt.Y('LOCATION', aggregate='count').axis  \n",
    "    (title='GDP per hour worked',\n",
    "     titleAnchor='end',\n",
    "      grid=False,\n",
    "     labelAngle=0)\n",
    ").properties(\n",
    "    title='Bar Chart',\n",
    "    width=1000,\n",
    "    height=300\n",
    ").configure_title(\n",
    "    fontSize=20,\n",
    "    font='Arial',\n",
    "    color='black',\n",
    "    anchor='start'\n",
    ").configure_view(strokeWidth=0)"
   ]
  }
 ],
 "metadata": {
  "kernelspec": {
   "display_name": "dst2",
   "language": "python",
   "name": "python3"
  },
  "language_info": {
   "codemirror_mode": {
    "name": "ipython",
    "version": 3
   },
   "file_extension": ".py",
   "mimetype": "text/x-python",
   "name": "python",
   "nbconvert_exporter": "python",
   "pygments_lexer": "ipython3",
   "version": "3.11.5"
  }
 },
 "nbformat": 4,
 "nbformat_minor": 2
}
