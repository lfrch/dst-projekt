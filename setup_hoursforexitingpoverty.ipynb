{
 "cells": [
  {
   "cell_type": "markdown",
   "metadata": {},
   "source": [
    "# Hours needed to exit poverty"
   ]
  },
  {
   "cell_type": "markdown",
   "metadata": {},
   "source": [
    "This indicator measures the weekly hours that a family claiming guaranteed minimum benefit needs to work to exit poverty. The measure is expressed for three hourly wage rates. The poverty line is calculated as 50% of the median disposable income in the country."
   ]
  },
  {
   "cell_type": "markdown",
   "metadata": {},
   "source": [
    "TO DO: Neuer DF/Objekt mit zu betrachtenden Regionen (OECD bzw. alle, EU28 für Europa, DEU(tschland) & GBR (UK) )\n",
    "* Distribution chart / Scatter Plot\n",
    "* Stacked Bar Chart für verschiedene Variablen (single no child, jobless couple etc. ggf. auch neue Objekte zur Vereinfachung)"
   ]
  },
  {
   "cell_type": "markdown",
   "metadata": {},
   "source": [
    "### Setup"
   ]
  },
  {
   "cell_type": "code",
   "execution_count": 1,
   "metadata": {},
   "outputs": [],
   "source": [
    "import pandas as pd\n",
    "import altair as alt"
   ]
  },
  {
   "cell_type": "code",
   "execution_count": 2,
   "metadata": {},
   "outputs": [
    {
     "data": {
      "text/plain": [
       "DataTransformerRegistry.enable('default')"
      ]
     },
     "execution_count": 2,
     "metadata": {},
     "output_type": "execute_result"
    }
   ],
   "source": [
    "# Zeilenlimit deaktivieren (n=5000)\n",
    "# Falls Datensatz mehr als 5000 Zeilen, dann soll es deaktiviert werden\n",
    "\n",
    "alt.data_transformers.disable_max_rows()\n",
    "#pd.set_option('display.max_rows', 1000)"
   ]
  },
  {
   "cell_type": "markdown",
   "metadata": {},
   "source": [
    "## Data"
   ]
  },
  {
   "cell_type": "markdown",
   "metadata": {},
   "source": [
    "Data Import"
   ]
  },
  {
   "cell_type": "markdown",
   "metadata": {},
   "source": [
    "#### Dataset Average annual hours actually worked, 2022 or latest"
   ]
  },
  {
   "cell_type": "code",
   "execution_count": 3,
   "metadata": {},
   "outputs": [],
   "source": [
    "# falls Datei lokal liegt, einfach den Pfad zur CSV eingeben: ins Terminal 'pwd' eingeben, dann wird Pfad gezeigt\n",
    "LINK = '/Users/Lea/Desktop/DataStorytelling/Projekt/exitpovertyhours.csv'\n",
    "\n",
    "df2 = pd.read_csv(LINK)"
   ]
  },
  {
   "cell_type": "code",
   "execution_count": 4,
   "metadata": {},
   "outputs": [
    {
     "data": {
      "text/html": [
       "<div>\n",
       "<style scoped>\n",
       "    .dataframe tbody tr th:only-of-type {\n",
       "        vertical-align: middle;\n",
       "    }\n",
       "\n",
       "    .dataframe tbody tr th {\n",
       "        vertical-align: top;\n",
       "    }\n",
       "\n",
       "    .dataframe thead th {\n",
       "        text-align: right;\n",
       "    }\n",
       "</style>\n",
       "<table border=\"1\" class=\"dataframe\">\n",
       "  <thead>\n",
       "    <tr style=\"text-align: right;\">\n",
       "      <th></th>\n",
       "      <th>LOCATION</th>\n",
       "      <th>INDICATOR</th>\n",
       "      <th>SUBJECT</th>\n",
       "      <th>MEASURE</th>\n",
       "      <th>FREQUENCY</th>\n",
       "      <th>TIME</th>\n",
       "      <th>Value</th>\n",
       "      <th>Flag Codes</th>\n",
       "    </tr>\n",
       "  </thead>\n",
       "  <tbody>\n",
       "    <tr>\n",
       "      <th>0</th>\n",
       "      <td>AUT</td>\n",
       "      <td>WORKEXPOV</td>\n",
       "      <td>SNGL2CHLD</td>\n",
       "      <td>HR_AVEWAGE</td>\n",
       "      <td>A</td>\n",
       "      <td>2019</td>\n",
       "      <td>19</td>\n",
       "      <td>NaN</td>\n",
       "    </tr>\n",
       "    <tr>\n",
       "      <th>1</th>\n",
       "      <td>AUT</td>\n",
       "      <td>WORKEXPOV</td>\n",
       "      <td>SNGL2CHLD</td>\n",
       "      <td>HR_AVEWAGE</td>\n",
       "      <td>A</td>\n",
       "      <td>2020</td>\n",
       "      <td>20</td>\n",
       "      <td>NaN</td>\n",
       "    </tr>\n",
       "    <tr>\n",
       "      <th>2</th>\n",
       "      <td>AUT</td>\n",
       "      <td>WORKEXPOV</td>\n",
       "      <td>SNGL2CHLD</td>\n",
       "      <td>HR_AVEWAGE</td>\n",
       "      <td>A</td>\n",
       "      <td>2021</td>\n",
       "      <td>20</td>\n",
       "      <td>NaN</td>\n",
       "    </tr>\n",
       "    <tr>\n",
       "      <th>3</th>\n",
       "      <td>AUT</td>\n",
       "      <td>WORKEXPOV</td>\n",
       "      <td>SNGL2CHLD</td>\n",
       "      <td>HR_AVEWAGE</td>\n",
       "      <td>A</td>\n",
       "      <td>2022</td>\n",
       "      <td>21</td>\n",
       "      <td>NaN</td>\n",
       "    </tr>\n",
       "    <tr>\n",
       "      <th>4</th>\n",
       "      <td>AUT</td>\n",
       "      <td>WORKEXPOV</td>\n",
       "      <td>SNGLNOCHLD</td>\n",
       "      <td>HR_AVEWAGE</td>\n",
       "      <td>A</td>\n",
       "      <td>2019</td>\n",
       "      <td>14</td>\n",
       "      <td>NaN</td>\n",
       "    </tr>\n",
       "    <tr>\n",
       "      <th>...</th>\n",
       "      <td>...</td>\n",
       "      <td>...</td>\n",
       "      <td>...</td>\n",
       "      <td>...</td>\n",
       "      <td>...</td>\n",
       "      <td>...</td>\n",
       "      <td>...</td>\n",
       "      <td>...</td>\n",
       "    </tr>\n",
       "    <tr>\n",
       "      <th>227</th>\n",
       "      <td>OECD</td>\n",
       "      <td>WORKEXPOV</td>\n",
       "      <td>SNGL2CHLD</td>\n",
       "      <td>HR_AVEWAGE</td>\n",
       "      <td>A</td>\n",
       "      <td>2022</td>\n",
       "      <td>18</td>\n",
       "      <td>NaN</td>\n",
       "    </tr>\n",
       "    <tr>\n",
       "      <th>228</th>\n",
       "      <td>OECD</td>\n",
       "      <td>WORKEXPOV</td>\n",
       "      <td>SNGLNOCHLD</td>\n",
       "      <td>HR_AVEWAGE</td>\n",
       "      <td>A</td>\n",
       "      <td>2019</td>\n",
       "      <td>15</td>\n",
       "      <td>NaN</td>\n",
       "    </tr>\n",
       "    <tr>\n",
       "      <th>229</th>\n",
       "      <td>OECD</td>\n",
       "      <td>WORKEXPOV</td>\n",
       "      <td>SNGLNOCHLD</td>\n",
       "      <td>HR_AVEWAGE</td>\n",
       "      <td>A</td>\n",
       "      <td>2020</td>\n",
       "      <td>15</td>\n",
       "      <td>NaN</td>\n",
       "    </tr>\n",
       "    <tr>\n",
       "      <th>230</th>\n",
       "      <td>OECD</td>\n",
       "      <td>WORKEXPOV</td>\n",
       "      <td>SNGLNOCHLD</td>\n",
       "      <td>HR_AVEWAGE</td>\n",
       "      <td>A</td>\n",
       "      <td>2021</td>\n",
       "      <td>14</td>\n",
       "      <td>NaN</td>\n",
       "    </tr>\n",
       "    <tr>\n",
       "      <th>231</th>\n",
       "      <td>OECD</td>\n",
       "      <td>WORKEXPOV</td>\n",
       "      <td>SNGLNOCHLD</td>\n",
       "      <td>HR_AVEWAGE</td>\n",
       "      <td>A</td>\n",
       "      <td>2022</td>\n",
       "      <td>15</td>\n",
       "      <td>NaN</td>\n",
       "    </tr>\n",
       "  </tbody>\n",
       "</table>\n",
       "<p>232 rows × 8 columns</p>\n",
       "</div>"
      ],
      "text/plain": [
       "    LOCATION  INDICATOR     SUBJECT     MEASURE FREQUENCY  TIME  Value  \\\n",
       "0        AUT  WORKEXPOV   SNGL2CHLD  HR_AVEWAGE         A  2019     19   \n",
       "1        AUT  WORKEXPOV   SNGL2CHLD  HR_AVEWAGE         A  2020     20   \n",
       "2        AUT  WORKEXPOV   SNGL2CHLD  HR_AVEWAGE         A  2021     20   \n",
       "3        AUT  WORKEXPOV   SNGL2CHLD  HR_AVEWAGE         A  2022     21   \n",
       "4        AUT  WORKEXPOV  SNGLNOCHLD  HR_AVEWAGE         A  2019     14   \n",
       "..       ...        ...         ...         ...       ...   ...    ...   \n",
       "227     OECD  WORKEXPOV   SNGL2CHLD  HR_AVEWAGE         A  2022     18   \n",
       "228     OECD  WORKEXPOV  SNGLNOCHLD  HR_AVEWAGE         A  2019     15   \n",
       "229     OECD  WORKEXPOV  SNGLNOCHLD  HR_AVEWAGE         A  2020     15   \n",
       "230     OECD  WORKEXPOV  SNGLNOCHLD  HR_AVEWAGE         A  2021     14   \n",
       "231     OECD  WORKEXPOV  SNGLNOCHLD  HR_AVEWAGE         A  2022     15   \n",
       "\n",
       "     Flag Codes  \n",
       "0           NaN  \n",
       "1           NaN  \n",
       "2           NaN  \n",
       "3           NaN  \n",
       "4           NaN  \n",
       "..          ...  \n",
       "227         NaN  \n",
       "228         NaN  \n",
       "229         NaN  \n",
       "230         NaN  \n",
       "231         NaN  \n",
       "\n",
       "[232 rows x 8 columns]"
      ]
     },
     "execution_count": 4,
     "metadata": {},
     "output_type": "execute_result"
    }
   ],
   "source": [
    "df2\n",
    "# falls 50 Zeilen werden alle angezeigt \n",
    "#df.head() für begrenzte Anzeigen"
   ]
  },
  {
   "cell_type": "code",
   "execution_count": 5,
   "metadata": {},
   "outputs": [
    {
     "name": "stdout",
     "output_type": "stream",
     "text": [
      "<class 'pandas.core.frame.DataFrame'>\n",
      "RangeIndex: 232 entries, 0 to 231\n",
      "Data columns (total 8 columns):\n",
      " #   Column      Non-Null Count  Dtype  \n",
      "---  ------      --------------  -----  \n",
      " 0   LOCATION    232 non-null    object \n",
      " 1   INDICATOR   232 non-null    object \n",
      " 2   SUBJECT     232 non-null    object \n",
      " 3   MEASURE     232 non-null    object \n",
      " 4   FREQUENCY   232 non-null    object \n",
      " 5   TIME        232 non-null    int64  \n",
      " 6   Value       232 non-null    int64  \n",
      " 7   Flag Codes  0 non-null      float64\n",
      "dtypes: float64(1), int64(2), object(5)\n",
      "memory usage: 14.6+ KB\n"
     ]
    }
   ],
   "source": [
    "df2.info()"
   ]
  },
  {
   "cell_type": "markdown",
   "metadata": {},
   "source": [
    "### Eliminate Clutter"
   ]
  },
  {
   "cell_type": "code",
   "execution_count": 6,
   "metadata": {},
   "outputs": [],
   "source": [
    "df2.drop('FREQUENCY', axis=1, inplace=True)"
   ]
  },
  {
   "cell_type": "code",
   "execution_count": 7,
   "metadata": {},
   "outputs": [],
   "source": [
    "df2.drop('Flag Codes', axis=1, inplace=True)"
   ]
  },
  {
   "cell_type": "code",
   "execution_count": 8,
   "metadata": {},
   "outputs": [],
   "source": [
    "df2.drop('INDICATOR', axis=1, inplace=True)"
   ]
  },
  {
   "cell_type": "code",
   "execution_count": 9,
   "metadata": {},
   "outputs": [],
   "source": [
    "list_cat = ['LOCATION']\n",
    "df2 = df2.astype('category')"
   ]
  },
  {
   "cell_type": "code",
   "execution_count": 10,
   "metadata": {},
   "outputs": [],
   "source": [
    "df2['TIME'] = pd.to_datetime(df2['TIME'], format='%Y').dt.year"
   ]
  },
  {
   "cell_type": "code",
   "execution_count": 11,
   "metadata": {},
   "outputs": [],
   "source": [
    "df2.rename(columns={'Value': 'VALUE'}, inplace=True)"
   ]
  },
  {
   "cell_type": "code",
   "execution_count": 12,
   "metadata": {},
   "outputs": [],
   "source": [
    "df2['VALUE'] = df2['VALUE'].astype(int)"
   ]
  },
  {
   "cell_type": "code",
   "execution_count": 13,
   "metadata": {},
   "outputs": [
    {
     "name": "stdout",
     "output_type": "stream",
     "text": [
      "<class 'pandas.core.frame.DataFrame'>\n",
      "RangeIndex: 232 entries, 0 to 231\n",
      "Data columns (total 5 columns):\n",
      " #   Column    Non-Null Count  Dtype   \n",
      "---  ------    --------------  -----   \n",
      " 0   LOCATION  232 non-null    category\n",
      " 1   SUBJECT   232 non-null    category\n",
      " 2   MEASURE   232 non-null    category\n",
      " 3   TIME      232 non-null    int32   \n",
      " 4   VALUE     232 non-null    int64   \n",
      "dtypes: category(3), int32(1), int64(1)\n",
      "memory usage: 5.0 KB\n"
     ]
    }
   ],
   "source": [
    "df2.info()"
   ]
  },
  {
   "cell_type": "code",
   "execution_count": 14,
   "metadata": {},
   "outputs": [
    {
     "data": {
      "text/html": [
       "<div>\n",
       "<style scoped>\n",
       "    .dataframe tbody tr th:only-of-type {\n",
       "        vertical-align: middle;\n",
       "    }\n",
       "\n",
       "    .dataframe tbody tr th {\n",
       "        vertical-align: top;\n",
       "    }\n",
       "\n",
       "    .dataframe thead th {\n",
       "        text-align: right;\n",
       "    }\n",
       "</style>\n",
       "<table border=\"1\" class=\"dataframe\">\n",
       "  <thead>\n",
       "    <tr style=\"text-align: right;\">\n",
       "      <th></th>\n",
       "      <th>LOCATION</th>\n",
       "      <th>SUBJECT</th>\n",
       "      <th>MEASURE</th>\n",
       "      <th>TIME</th>\n",
       "      <th>VALUE</th>\n",
       "    </tr>\n",
       "  </thead>\n",
       "  <tbody>\n",
       "    <tr>\n",
       "      <th>48</th>\n",
       "      <td>DEU</td>\n",
       "      <td>SNGL2CHLD</td>\n",
       "      <td>HR_AVEWAGE</td>\n",
       "      <td>2019</td>\n",
       "      <td>12</td>\n",
       "    </tr>\n",
       "    <tr>\n",
       "      <th>49</th>\n",
       "      <td>DEU</td>\n",
       "      <td>SNGL2CHLD</td>\n",
       "      <td>HR_AVEWAGE</td>\n",
       "      <td>2020</td>\n",
       "      <td>9</td>\n",
       "    </tr>\n",
       "    <tr>\n",
       "      <th>50</th>\n",
       "      <td>DEU</td>\n",
       "      <td>SNGL2CHLD</td>\n",
       "      <td>HR_AVEWAGE</td>\n",
       "      <td>2021</td>\n",
       "      <td>9</td>\n",
       "    </tr>\n",
       "    <tr>\n",
       "      <th>51</th>\n",
       "      <td>DEU</td>\n",
       "      <td>SNGL2CHLD</td>\n",
       "      <td>HR_AVEWAGE</td>\n",
       "      <td>2022</td>\n",
       "      <td>10</td>\n",
       "    </tr>\n",
       "    <tr>\n",
       "      <th>52</th>\n",
       "      <td>DEU</td>\n",
       "      <td>SNGLNOCHLD</td>\n",
       "      <td>HR_AVEWAGE</td>\n",
       "      <td>2019</td>\n",
       "      <td>13</td>\n",
       "    </tr>\n",
       "    <tr>\n",
       "      <th>53</th>\n",
       "      <td>DEU</td>\n",
       "      <td>SNGLNOCHLD</td>\n",
       "      <td>HR_AVEWAGE</td>\n",
       "      <td>2020</td>\n",
       "      <td>13</td>\n",
       "    </tr>\n",
       "    <tr>\n",
       "      <th>54</th>\n",
       "      <td>DEU</td>\n",
       "      <td>SNGLNOCHLD</td>\n",
       "      <td>HR_AVEWAGE</td>\n",
       "      <td>2021</td>\n",
       "      <td>13</td>\n",
       "    </tr>\n",
       "    <tr>\n",
       "      <th>55</th>\n",
       "      <td>DEU</td>\n",
       "      <td>SNGLNOCHLD</td>\n",
       "      <td>HR_AVEWAGE</td>\n",
       "      <td>2022</td>\n",
       "      <td>13</td>\n",
       "    </tr>\n",
       "    <tr>\n",
       "      <th>144</th>\n",
       "      <td>GBR</td>\n",
       "      <td>SNGL2CHLD</td>\n",
       "      <td>HR_AVEWAGE</td>\n",
       "      <td>2019</td>\n",
       "      <td>5</td>\n",
       "    </tr>\n",
       "    <tr>\n",
       "      <th>145</th>\n",
       "      <td>GBR</td>\n",
       "      <td>SNGL2CHLD</td>\n",
       "      <td>HR_AVEWAGE</td>\n",
       "      <td>2020</td>\n",
       "      <td>4</td>\n",
       "    </tr>\n",
       "    <tr>\n",
       "      <th>146</th>\n",
       "      <td>GBR</td>\n",
       "      <td>SNGL2CHLD</td>\n",
       "      <td>HR_AVEWAGE</td>\n",
       "      <td>2021</td>\n",
       "      <td>4</td>\n",
       "    </tr>\n",
       "    <tr>\n",
       "      <th>147</th>\n",
       "      <td>GBR</td>\n",
       "      <td>SNGL2CHLD</td>\n",
       "      <td>HR_AVEWAGE</td>\n",
       "      <td>2022</td>\n",
       "      <td>6</td>\n",
       "    </tr>\n",
       "    <tr>\n",
       "      <th>148</th>\n",
       "      <td>GBR</td>\n",
       "      <td>SNGLNOCHLD</td>\n",
       "      <td>HR_AVEWAGE</td>\n",
       "      <td>2019</td>\n",
       "      <td>10</td>\n",
       "    </tr>\n",
       "    <tr>\n",
       "      <th>149</th>\n",
       "      <td>GBR</td>\n",
       "      <td>SNGLNOCHLD</td>\n",
       "      <td>HR_AVEWAGE</td>\n",
       "      <td>2020</td>\n",
       "      <td>10</td>\n",
       "    </tr>\n",
       "    <tr>\n",
       "      <th>150</th>\n",
       "      <td>GBR</td>\n",
       "      <td>SNGLNOCHLD</td>\n",
       "      <td>HR_AVEWAGE</td>\n",
       "      <td>2021</td>\n",
       "      <td>10</td>\n",
       "    </tr>\n",
       "    <tr>\n",
       "      <th>151</th>\n",
       "      <td>GBR</td>\n",
       "      <td>SNGLNOCHLD</td>\n",
       "      <td>HR_AVEWAGE</td>\n",
       "      <td>2022</td>\n",
       "      <td>10</td>\n",
       "    </tr>\n",
       "    <tr>\n",
       "      <th>224</th>\n",
       "      <td>OECD</td>\n",
       "      <td>SNGL2CHLD</td>\n",
       "      <td>HR_AVEWAGE</td>\n",
       "      <td>2019</td>\n",
       "      <td>16</td>\n",
       "    </tr>\n",
       "    <tr>\n",
       "      <th>225</th>\n",
       "      <td>OECD</td>\n",
       "      <td>SNGL2CHLD</td>\n",
       "      <td>HR_AVEWAGE</td>\n",
       "      <td>2020</td>\n",
       "      <td>17</td>\n",
       "    </tr>\n",
       "    <tr>\n",
       "      <th>226</th>\n",
       "      <td>OECD</td>\n",
       "      <td>SNGL2CHLD</td>\n",
       "      <td>HR_AVEWAGE</td>\n",
       "      <td>2021</td>\n",
       "      <td>17</td>\n",
       "    </tr>\n",
       "    <tr>\n",
       "      <th>227</th>\n",
       "      <td>OECD</td>\n",
       "      <td>SNGL2CHLD</td>\n",
       "      <td>HR_AVEWAGE</td>\n",
       "      <td>2022</td>\n",
       "      <td>18</td>\n",
       "    </tr>\n",
       "    <tr>\n",
       "      <th>228</th>\n",
       "      <td>OECD</td>\n",
       "      <td>SNGLNOCHLD</td>\n",
       "      <td>HR_AVEWAGE</td>\n",
       "      <td>2019</td>\n",
       "      <td>15</td>\n",
       "    </tr>\n",
       "    <tr>\n",
       "      <th>229</th>\n",
       "      <td>OECD</td>\n",
       "      <td>SNGLNOCHLD</td>\n",
       "      <td>HR_AVEWAGE</td>\n",
       "      <td>2020</td>\n",
       "      <td>15</td>\n",
       "    </tr>\n",
       "    <tr>\n",
       "      <th>230</th>\n",
       "      <td>OECD</td>\n",
       "      <td>SNGLNOCHLD</td>\n",
       "      <td>HR_AVEWAGE</td>\n",
       "      <td>2021</td>\n",
       "      <td>14</td>\n",
       "    </tr>\n",
       "    <tr>\n",
       "      <th>231</th>\n",
       "      <td>OECD</td>\n",
       "      <td>SNGLNOCHLD</td>\n",
       "      <td>HR_AVEWAGE</td>\n",
       "      <td>2022</td>\n",
       "      <td>15</td>\n",
       "    </tr>\n",
       "  </tbody>\n",
       "</table>\n",
       "</div>"
      ],
      "text/plain": [
       "    LOCATION     SUBJECT     MEASURE  TIME  VALUE\n",
       "48       DEU   SNGL2CHLD  HR_AVEWAGE  2019     12\n",
       "49       DEU   SNGL2CHLD  HR_AVEWAGE  2020      9\n",
       "50       DEU   SNGL2CHLD  HR_AVEWAGE  2021      9\n",
       "51       DEU   SNGL2CHLD  HR_AVEWAGE  2022     10\n",
       "52       DEU  SNGLNOCHLD  HR_AVEWAGE  2019     13\n",
       "53       DEU  SNGLNOCHLD  HR_AVEWAGE  2020     13\n",
       "54       DEU  SNGLNOCHLD  HR_AVEWAGE  2021     13\n",
       "55       DEU  SNGLNOCHLD  HR_AVEWAGE  2022     13\n",
       "144      GBR   SNGL2CHLD  HR_AVEWAGE  2019      5\n",
       "145      GBR   SNGL2CHLD  HR_AVEWAGE  2020      4\n",
       "146      GBR   SNGL2CHLD  HR_AVEWAGE  2021      4\n",
       "147      GBR   SNGL2CHLD  HR_AVEWAGE  2022      6\n",
       "148      GBR  SNGLNOCHLD  HR_AVEWAGE  2019     10\n",
       "149      GBR  SNGLNOCHLD  HR_AVEWAGE  2020     10\n",
       "150      GBR  SNGLNOCHLD  HR_AVEWAGE  2021     10\n",
       "151      GBR  SNGLNOCHLD  HR_AVEWAGE  2022     10\n",
       "224     OECD   SNGL2CHLD  HR_AVEWAGE  2019     16\n",
       "225     OECD   SNGL2CHLD  HR_AVEWAGE  2020     17\n",
       "226     OECD   SNGL2CHLD  HR_AVEWAGE  2021     17\n",
       "227     OECD   SNGL2CHLD  HR_AVEWAGE  2022     18\n",
       "228     OECD  SNGLNOCHLD  HR_AVEWAGE  2019     15\n",
       "229     OECD  SNGLNOCHLD  HR_AVEWAGE  2020     15\n",
       "230     OECD  SNGLNOCHLD  HR_AVEWAGE  2021     14\n",
       "231     OECD  SNGLNOCHLD  HR_AVEWAGE  2022     15"
      ]
     },
     "execution_count": 14,
     "metadata": {},
     "output_type": "execute_result"
    }
   ],
   "source": [
    "df2_selectedlocations = df2[df2['LOCATION'].isin(['OECD', 'EU28', 'DEU', 'GBR'])]\n",
    "\n",
    "df2_selectedlocations"
   ]
  },
  {
   "cell_type": "code",
   "execution_count": 15,
   "metadata": {},
   "outputs": [
    {
     "data": {
      "text/plain": [
       "LOCATION    24\n",
       "SUBJECT     24\n",
       "MEASURE     24\n",
       "TIME        24\n",
       "VALUE       24\n",
       "dtype: int64"
      ]
     },
     "execution_count": 15,
     "metadata": {},
     "output_type": "execute_result"
    }
   ],
   "source": [
    "df2_selectedlocations.count()"
   ]
  },
  {
   "cell_type": "code",
   "execution_count": 16,
   "metadata": {},
   "outputs": [
    {
     "name": "stdout",
     "output_type": "stream",
     "text": [
      "<class 'pandas.core.frame.DataFrame'>\n",
      "Index: 24 entries, 48 to 231\n",
      "Data columns (total 5 columns):\n",
      " #   Column    Non-Null Count  Dtype   \n",
      "---  ------    --------------  -----   \n",
      " 0   LOCATION  24 non-null     category\n",
      " 1   SUBJECT   24 non-null     category\n",
      " 2   MEASURE   24 non-null     category\n",
      " 3   TIME      24 non-null     int32   \n",
      " 4   VALUE     24 non-null     int64   \n",
      "dtypes: category(3), int32(1), int64(1)\n",
      "memory usage: 2.0 KB\n"
     ]
    }
   ],
   "source": [
    "df2_selectedlocations.info()"
   ]
  },
  {
   "cell_type": "markdown",
   "metadata": {},
   "source": [
    "### Show different Dimensions of Data: Subject and Measure"
   ]
  },
  {
   "cell_type": "code",
   "execution_count": 17,
   "metadata": {},
   "outputs": [
    {
     "data": {
      "text/plain": [
       "48      DEU\n",
       "49      DEU\n",
       "50      DEU\n",
       "51      DEU\n",
       "52      DEU\n",
       "53      DEU\n",
       "54      DEU\n",
       "55      DEU\n",
       "144     GBR\n",
       "145     GBR\n",
       "146     GBR\n",
       "147     GBR\n",
       "148     GBR\n",
       "149     GBR\n",
       "150     GBR\n",
       "151     GBR\n",
       "224    OECD\n",
       "225    OECD\n",
       "226    OECD\n",
       "227    OECD\n",
       "228    OECD\n",
       "229    OECD\n",
       "230    OECD\n",
       "231    OECD\n",
       "Name: LOCATION, dtype: category\n",
       "Categories (29, object): ['AUT', 'BEL', 'BGR', 'CYP', ..., 'ROU', 'SVK', 'SVN', 'SWE']"
      ]
     },
     "execution_count": 17,
     "metadata": {},
     "output_type": "execute_result"
    }
   ],
   "source": [
    "# Warum fehlt \n",
    "df2_selectedlocations['LOCATION']"
   ]
  },
  {
   "cell_type": "code",
   "execution_count": 18,
   "metadata": {},
   "outputs": [
    {
     "data": {
      "text/plain": [
       "SUBJECT\n",
       "SNGL2CHLD     116\n",
       "SNGLNOCHLD    116\n",
       "Name: count, dtype: int64"
      ]
     },
     "execution_count": 18,
     "metadata": {},
     "output_type": "execute_result"
    }
   ],
   "source": [
    "df2['SUBJECT'].value_counts()\n"
   ]
  },
  {
   "cell_type": "code",
   "execution_count": 19,
   "metadata": {},
   "outputs": [
    {
     "data": {
      "text/plain": [
       "SUBJECT\n",
       "SNGL2CHLD     12\n",
       "SNGLNOCHLD    12\n",
       "Name: count, dtype: int64"
      ]
     },
     "execution_count": 19,
     "metadata": {},
     "output_type": "execute_result"
    }
   ],
   "source": [
    "df2_selectedlocations['SUBJECT'].value_counts()"
   ]
  },
  {
   "cell_type": "code",
   "execution_count": 20,
   "metadata": {},
   "outputs": [
    {
     "data": {
      "text/plain": [
       "MEASURE\n",
       "HR_AVEWAGE    232\n",
       "Name: count, dtype: int64"
      ]
     },
     "execution_count": 20,
     "metadata": {},
     "output_type": "execute_result"
    }
   ],
   "source": [
    "df2['MEASURE'].value_counts()"
   ]
  },
  {
   "cell_type": "code",
   "execution_count": 21,
   "metadata": {},
   "outputs": [
    {
     "data": {
      "text/plain": [
       "MEASURE\n",
       "HR_AVEWAGE    24\n",
       "Name: count, dtype: int64"
      ]
     },
     "execution_count": 21,
     "metadata": {},
     "output_type": "execute_result"
    }
   ],
   "source": [
    "df2_selectedlocations['MEASURE'].value_counts()"
   ]
  },
  {
   "cell_type": "code",
   "execution_count": 46,
   "metadata": {},
   "outputs": [
    {
     "name": "stderr",
     "output_type": "stream",
     "text": [
      "/var/folders/cg/s479mj155734fxg40v_64y4r0000gn/T/ipykernel_19236/3660539285.py:1: SettingWithCopyWarning: \n",
      "A value is trying to be set on a copy of a slice from a DataFrame\n",
      "\n",
      "See the caveats in the documentation: https://pandas.pydata.org/pandas-docs/stable/user_guide/indexing.html#returning-a-view-versus-a-copy\n",
      "  df2_selectedlocations['LOCATION'].replace({'OECD': 'Organization for Economic Cooperation and Development', 'EU27': 'European Union', 'DEU': 'Germany', 'GBR': 'United Kingdom'}, inplace=True)\n"
     ]
    }
   ],
   "source": [
    "df2_selectedlocations['LOCATION'].replace({'OECD': 'Organization for Economic Cooperation and Development', 'EU27': 'European Union', 'DEU': 'Germany', 'GBR': 'United Kingdom'}, inplace=True)"
   ]
  },
  {
   "cell_type": "markdown",
   "metadata": {},
   "source": [
    "### Data Exploration\n",
    "\n"
   ]
  },
  {
   "cell_type": "code",
   "execution_count": 47,
   "metadata": {},
   "outputs": [
    {
     "data": {
      "text/plain": [
       "Scale({\n",
       "  range: ['#003f5c', '#58508d', '#bc5090', '#ff6361', '#ffa600']\n",
       "})"
      ]
     },
     "execution_count": 47,
     "metadata": {},
     "output_type": "execute_result"
    }
   ],
   "source": [
    "#Color Scale\n",
    "\n",
    "colors = alt.Scale(\n",
    "    range=['#003f5c','#58508d','#bc5090','#ff6361','#ffa600']\n",
    ")\n",
    "colors"
   ]
  },
  {
   "cell_type": "code",
   "execution_count": 69,
   "metadata": {},
   "outputs": [
    {
     "data": {
      "text/html": [
       "\n",
       "<style>\n",
       "  #altair-viz-8baa8f703ae244d29b633f2d98f48cea.vega-embed {\n",
       "    width: 100%;\n",
       "    display: flex;\n",
       "  }\n",
       "\n",
       "  #altair-viz-8baa8f703ae244d29b633f2d98f48cea.vega-embed details,\n",
       "  #altair-viz-8baa8f703ae244d29b633f2d98f48cea.vega-embed details summary {\n",
       "    position: relative;\n",
       "  }\n",
       "</style>\n",
       "<div id=\"altair-viz-8baa8f703ae244d29b633f2d98f48cea\"></div>\n",
       "<script type=\"text/javascript\">\n",
       "  var VEGA_DEBUG = (typeof VEGA_DEBUG == \"undefined\") ? {} : VEGA_DEBUG;\n",
       "  (function(spec, embedOpt){\n",
       "    let outputDiv = document.currentScript.previousElementSibling;\n",
       "    if (outputDiv.id !== \"altair-viz-8baa8f703ae244d29b633f2d98f48cea\") {\n",
       "      outputDiv = document.getElementById(\"altair-viz-8baa8f703ae244d29b633f2d98f48cea\");\n",
       "    }\n",
       "    const paths = {\n",
       "      \"vega\": \"https://cdn.jsdelivr.net/npm/vega@5?noext\",\n",
       "      \"vega-lib\": \"https://cdn.jsdelivr.net/npm/vega-lib?noext\",\n",
       "      \"vega-lite\": \"https://cdn.jsdelivr.net/npm/vega-lite@5.15.1?noext\",\n",
       "      \"vega-embed\": \"https://cdn.jsdelivr.net/npm/vega-embed@6?noext\",\n",
       "    };\n",
       "\n",
       "    function maybeLoadScript(lib, version) {\n",
       "      var key = `${lib.replace(\"-\", \"\")}_version`;\n",
       "      return (VEGA_DEBUG[key] == version) ?\n",
       "        Promise.resolve(paths[lib]) :\n",
       "        new Promise(function(resolve, reject) {\n",
       "          var s = document.createElement('script');\n",
       "          document.getElementsByTagName(\"head\")[0].appendChild(s);\n",
       "          s.async = true;\n",
       "          s.onload = () => {\n",
       "            VEGA_DEBUG[key] = version;\n",
       "            return resolve(paths[lib]);\n",
       "          };\n",
       "          s.onerror = () => reject(`Error loading script: ${paths[lib]}`);\n",
       "          s.src = paths[lib];\n",
       "        });\n",
       "    }\n",
       "\n",
       "    function showError(err) {\n",
       "      outputDiv.innerHTML = `<div class=\"error\" style=\"color:red;\">${err}</div>`;\n",
       "      throw err;\n",
       "    }\n",
       "\n",
       "    function displayChart(vegaEmbed) {\n",
       "      vegaEmbed(outputDiv, spec, embedOpt)\n",
       "        .catch(err => showError(`Javascript Error: ${err.message}<br>This usually means there's a typo in your chart specification. See the javascript console for the full traceback.`));\n",
       "    }\n",
       "\n",
       "    if(typeof define === \"function\" && define.amd) {\n",
       "      requirejs.config({paths});\n",
       "      require([\"vega-embed\"], displayChart, err => showError(`Error loading script: ${err.message}`));\n",
       "    } else {\n",
       "      maybeLoadScript(\"vega\", \"5\")\n",
       "        .then(() => maybeLoadScript(\"vega-lite\", \"5.15.1\"))\n",
       "        .then(() => maybeLoadScript(\"vega-embed\", \"6\"))\n",
       "        .catch(showError)\n",
       "        .then(() => displayChart(vegaEmbed));\n",
       "    }\n",
       "  })({\"config\": {\"view\": {\"continuousWidth\": 300, \"continuousHeight\": 300}}, \"data\": {\"name\": \"data-b422a10a0f841811bc6b85563c6d518f\"}, \"mark\": {\"type\": \"bar\"}, \"encoding\": {\"color\": {\"field\": \"SUBJECT\", \"scale\": {\"range\": [\"#003f5c\", \"#58508d\", \"#bc5090\", \"#ff6361\", \"#ffa600\"]}, \"type\": \"nominal\"}, \"x\": {\"axis\": {\"grid\": false, \"labelAngle\": 0}, \"field\": \"LOCATION\", \"title\": \"Location\", \"type\": \"nominal\"}, \"y\": {\"axis\": {\"grid\": false}, \"field\": \"VALUE\", \"title\": \"Value\", \"type\": \"quantitative\"}}, \"height\": 400, \"title\": \"Distribution Chart\", \"width\": 600, \"$schema\": \"https://vega.github.io/schema/vega-lite/v5.15.1.json\", \"datasets\": {\"data-b422a10a0f841811bc6b85563c6d518f\": [{\"LOCATION\": \"Germany\", \"SUBJECT\": \"SNGL2CHLD\", \"MEASURE\": \"HR_AVEWAGE\", \"TIME\": 2019, \"VALUE\": 12}, {\"LOCATION\": \"Germany\", \"SUBJECT\": \"SNGL2CHLD\", \"MEASURE\": \"HR_AVEWAGE\", \"TIME\": 2020, \"VALUE\": 9}, {\"LOCATION\": \"Germany\", \"SUBJECT\": \"SNGL2CHLD\", \"MEASURE\": \"HR_AVEWAGE\", \"TIME\": 2021, \"VALUE\": 9}, {\"LOCATION\": \"Germany\", \"SUBJECT\": \"SNGL2CHLD\", \"MEASURE\": \"HR_AVEWAGE\", \"TIME\": 2022, \"VALUE\": 10}, {\"LOCATION\": \"Germany\", \"SUBJECT\": \"SNGLNOCHLD\", \"MEASURE\": \"HR_AVEWAGE\", \"TIME\": 2019, \"VALUE\": 13}, {\"LOCATION\": \"Germany\", \"SUBJECT\": \"SNGLNOCHLD\", \"MEASURE\": \"HR_AVEWAGE\", \"TIME\": 2020, \"VALUE\": 13}, {\"LOCATION\": \"Germany\", \"SUBJECT\": \"SNGLNOCHLD\", \"MEASURE\": \"HR_AVEWAGE\", \"TIME\": 2021, \"VALUE\": 13}, {\"LOCATION\": \"Germany\", \"SUBJECT\": \"SNGLNOCHLD\", \"MEASURE\": \"HR_AVEWAGE\", \"TIME\": 2022, \"VALUE\": 13}, {\"LOCATION\": \"United Kingdom\", \"SUBJECT\": \"SNGL2CHLD\", \"MEASURE\": \"HR_AVEWAGE\", \"TIME\": 2019, \"VALUE\": 5}, {\"LOCATION\": \"United Kingdom\", \"SUBJECT\": \"SNGL2CHLD\", \"MEASURE\": \"HR_AVEWAGE\", \"TIME\": 2020, \"VALUE\": 4}, {\"LOCATION\": \"United Kingdom\", \"SUBJECT\": \"SNGL2CHLD\", \"MEASURE\": \"HR_AVEWAGE\", \"TIME\": 2021, \"VALUE\": 4}, {\"LOCATION\": \"United Kingdom\", \"SUBJECT\": \"SNGL2CHLD\", \"MEASURE\": \"HR_AVEWAGE\", \"TIME\": 2022, \"VALUE\": 6}, {\"LOCATION\": \"United Kingdom\", \"SUBJECT\": \"SNGLNOCHLD\", \"MEASURE\": \"HR_AVEWAGE\", \"TIME\": 2019, \"VALUE\": 10}, {\"LOCATION\": \"United Kingdom\", \"SUBJECT\": \"SNGLNOCHLD\", \"MEASURE\": \"HR_AVEWAGE\", \"TIME\": 2020, \"VALUE\": 10}, {\"LOCATION\": \"United Kingdom\", \"SUBJECT\": \"SNGLNOCHLD\", \"MEASURE\": \"HR_AVEWAGE\", \"TIME\": 2021, \"VALUE\": 10}, {\"LOCATION\": \"United Kingdom\", \"SUBJECT\": \"SNGLNOCHLD\", \"MEASURE\": \"HR_AVEWAGE\", \"TIME\": 2022, \"VALUE\": 10}, {\"LOCATION\": \"Organization for Economic Cooperation and Development\", \"SUBJECT\": \"SNGL2CHLD\", \"MEASURE\": \"HR_AVEWAGE\", \"TIME\": 2019, \"VALUE\": 16}, {\"LOCATION\": \"Organization for Economic Cooperation and Development\", \"SUBJECT\": \"SNGL2CHLD\", \"MEASURE\": \"HR_AVEWAGE\", \"TIME\": 2020, \"VALUE\": 17}, {\"LOCATION\": \"Organization for Economic Cooperation and Development\", \"SUBJECT\": \"SNGL2CHLD\", \"MEASURE\": \"HR_AVEWAGE\", \"TIME\": 2021, \"VALUE\": 17}, {\"LOCATION\": \"Organization for Economic Cooperation and Development\", \"SUBJECT\": \"SNGL2CHLD\", \"MEASURE\": \"HR_AVEWAGE\", \"TIME\": 2022, \"VALUE\": 18}, {\"LOCATION\": \"Organization for Economic Cooperation and Development\", \"SUBJECT\": \"SNGLNOCHLD\", \"MEASURE\": \"HR_AVEWAGE\", \"TIME\": 2019, \"VALUE\": 15}, {\"LOCATION\": \"Organization for Economic Cooperation and Development\", \"SUBJECT\": \"SNGLNOCHLD\", \"MEASURE\": \"HR_AVEWAGE\", \"TIME\": 2020, \"VALUE\": 15}, {\"LOCATION\": \"Organization for Economic Cooperation and Development\", \"SUBJECT\": \"SNGLNOCHLD\", \"MEASURE\": \"HR_AVEWAGE\", \"TIME\": 2021, \"VALUE\": 14}, {\"LOCATION\": \"Organization for Economic Cooperation and Development\", \"SUBJECT\": \"SNGLNOCHLD\", \"MEASURE\": \"HR_AVEWAGE\", \"TIME\": 2022, \"VALUE\": 15}]}}, {\"mode\": \"vega-lite\"});\n",
       "</script>"
      ],
      "text/plain": [
       "alt.Chart(...)"
      ]
     },
     "execution_count": 69,
     "metadata": {},
     "output_type": "execute_result"
    }
   ],
   "source": [
    "alt.Chart(df2_selectedlocations).mark_bar().encode(\n",
    "    x=alt.X('LOCATION:N', title='Location').axis(\n",
    "        grid=False,\n",
    "        labelAngle=-0,\n",
    "    ),\n",
    "    y=alt.Y('VALUE:Q', title='Value').axis(\n",
    "        grid=False\n",
    "    ),\n",
    "    #tooltip='SUBJECT:N',\n",
    "    color=alt.Color('SUBJECT', scale=colors),\n",
    ").properties(\n",
    "    title='Distribution Chart',\n",
    "    width=600,\n",
    "    height=400\n",
    ")"
   ]
  },
  {
   "cell_type": "code",
   "execution_count": 49,
   "metadata": {},
   "outputs": [
    {
     "data": {
      "text/html": [
       "\n",
       "<style>\n",
       "  #altair-viz-910791dbb1dc4912aec702fc63300707.vega-embed {\n",
       "    width: 100%;\n",
       "    display: flex;\n",
       "  }\n",
       "\n",
       "  #altair-viz-910791dbb1dc4912aec702fc63300707.vega-embed details,\n",
       "  #altair-viz-910791dbb1dc4912aec702fc63300707.vega-embed details summary {\n",
       "    position: relative;\n",
       "  }\n",
       "</style>\n",
       "<div id=\"altair-viz-910791dbb1dc4912aec702fc63300707\"></div>\n",
       "<script type=\"text/javascript\">\n",
       "  var VEGA_DEBUG = (typeof VEGA_DEBUG == \"undefined\") ? {} : VEGA_DEBUG;\n",
       "  (function(spec, embedOpt){\n",
       "    let outputDiv = document.currentScript.previousElementSibling;\n",
       "    if (outputDiv.id !== \"altair-viz-910791dbb1dc4912aec702fc63300707\") {\n",
       "      outputDiv = document.getElementById(\"altair-viz-910791dbb1dc4912aec702fc63300707\");\n",
       "    }\n",
       "    const paths = {\n",
       "      \"vega\": \"https://cdn.jsdelivr.net/npm/vega@5?noext\",\n",
       "      \"vega-lib\": \"https://cdn.jsdelivr.net/npm/vega-lib?noext\",\n",
       "      \"vega-lite\": \"https://cdn.jsdelivr.net/npm/vega-lite@5.15.1?noext\",\n",
       "      \"vega-embed\": \"https://cdn.jsdelivr.net/npm/vega-embed@6?noext\",\n",
       "    };\n",
       "\n",
       "    function maybeLoadScript(lib, version) {\n",
       "      var key = `${lib.replace(\"-\", \"\")}_version`;\n",
       "      return (VEGA_DEBUG[key] == version) ?\n",
       "        Promise.resolve(paths[lib]) :\n",
       "        new Promise(function(resolve, reject) {\n",
       "          var s = document.createElement('script');\n",
       "          document.getElementsByTagName(\"head\")[0].appendChild(s);\n",
       "          s.async = true;\n",
       "          s.onload = () => {\n",
       "            VEGA_DEBUG[key] = version;\n",
       "            return resolve(paths[lib]);\n",
       "          };\n",
       "          s.onerror = () => reject(`Error loading script: ${paths[lib]}`);\n",
       "          s.src = paths[lib];\n",
       "        });\n",
       "    }\n",
       "\n",
       "    function showError(err) {\n",
       "      outputDiv.innerHTML = `<div class=\"error\" style=\"color:red;\">${err}</div>`;\n",
       "      throw err;\n",
       "    }\n",
       "\n",
       "    function displayChart(vegaEmbed) {\n",
       "      vegaEmbed(outputDiv, spec, embedOpt)\n",
       "        .catch(err => showError(`Javascript Error: ${err.message}<br>This usually means there's a typo in your chart specification. See the javascript console for the full traceback.`));\n",
       "    }\n",
       "\n",
       "    if(typeof define === \"function\" && define.amd) {\n",
       "      requirejs.config({paths});\n",
       "      require([\"vega-embed\"], displayChart, err => showError(`Error loading script: ${err.message}`));\n",
       "    } else {\n",
       "      maybeLoadScript(\"vega\", \"5\")\n",
       "        .then(() => maybeLoadScript(\"vega-lite\", \"5.15.1\"))\n",
       "        .then(() => maybeLoadScript(\"vega-embed\", \"6\"))\n",
       "        .catch(showError)\n",
       "        .then(() => displayChart(vegaEmbed));\n",
       "    }\n",
       "  })({\"config\": {\"view\": {\"continuousWidth\": 300, \"continuousHeight\": 300, \"strokeWidth\": 0}, \"title\": {\"anchor\": \"start\", \"color\": \"black\", \"font\": \"Arial\", \"fontSize\": 20}}, \"data\": {\"name\": \"data-b422a10a0f841811bc6b85563c6d518f\"}, \"mark\": {\"type\": \"bar\"}, \"encoding\": {\"color\": {\"field\": \"SUBJECT\", \"scale\": {\"range\": [\"#003f5c\", \"#58508d\", \"#bc5090\", \"#ff6361\", \"#ffa600\"]}, \"type\": \"nominal\"}, \"x\": {\"axis\": {\"title\": \"Location\", \"titleAnchor\": \"end\", \"grid\": false, \"labelAngle\": 0}, \"field\": \"LOCATION\", \"sort\": \"-y\", \"type\": \"nominal\"}, \"y\": {\"axis\": {\"title\": \"Hours needed to exit poverty\", \"titleAnchor\": \"end\", \"grid\": false, \"labelAngle\": 0}, \"field\": \"VALUE\", \"type\": \"quantitative\"}}, \"height\": 300, \"title\": \"Bar Chart\", \"width\": 1000, \"$schema\": \"https://vega.github.io/schema/vega-lite/v5.15.1.json\", \"datasets\": {\"data-b422a10a0f841811bc6b85563c6d518f\": [{\"LOCATION\": \"Germany\", \"SUBJECT\": \"SNGL2CHLD\", \"MEASURE\": \"HR_AVEWAGE\", \"TIME\": 2019, \"VALUE\": 12}, {\"LOCATION\": \"Germany\", \"SUBJECT\": \"SNGL2CHLD\", \"MEASURE\": \"HR_AVEWAGE\", \"TIME\": 2020, \"VALUE\": 9}, {\"LOCATION\": \"Germany\", \"SUBJECT\": \"SNGL2CHLD\", \"MEASURE\": \"HR_AVEWAGE\", \"TIME\": 2021, \"VALUE\": 9}, {\"LOCATION\": \"Germany\", \"SUBJECT\": \"SNGL2CHLD\", \"MEASURE\": \"HR_AVEWAGE\", \"TIME\": 2022, \"VALUE\": 10}, {\"LOCATION\": \"Germany\", \"SUBJECT\": \"SNGLNOCHLD\", \"MEASURE\": \"HR_AVEWAGE\", \"TIME\": 2019, \"VALUE\": 13}, {\"LOCATION\": \"Germany\", \"SUBJECT\": \"SNGLNOCHLD\", \"MEASURE\": \"HR_AVEWAGE\", \"TIME\": 2020, \"VALUE\": 13}, {\"LOCATION\": \"Germany\", \"SUBJECT\": \"SNGLNOCHLD\", \"MEASURE\": \"HR_AVEWAGE\", \"TIME\": 2021, \"VALUE\": 13}, {\"LOCATION\": \"Germany\", \"SUBJECT\": \"SNGLNOCHLD\", \"MEASURE\": \"HR_AVEWAGE\", \"TIME\": 2022, \"VALUE\": 13}, {\"LOCATION\": \"United Kingdom\", \"SUBJECT\": \"SNGL2CHLD\", \"MEASURE\": \"HR_AVEWAGE\", \"TIME\": 2019, \"VALUE\": 5}, {\"LOCATION\": \"United Kingdom\", \"SUBJECT\": \"SNGL2CHLD\", \"MEASURE\": \"HR_AVEWAGE\", \"TIME\": 2020, \"VALUE\": 4}, {\"LOCATION\": \"United Kingdom\", \"SUBJECT\": \"SNGL2CHLD\", \"MEASURE\": \"HR_AVEWAGE\", \"TIME\": 2021, \"VALUE\": 4}, {\"LOCATION\": \"United Kingdom\", \"SUBJECT\": \"SNGL2CHLD\", \"MEASURE\": \"HR_AVEWAGE\", \"TIME\": 2022, \"VALUE\": 6}, {\"LOCATION\": \"United Kingdom\", \"SUBJECT\": \"SNGLNOCHLD\", \"MEASURE\": \"HR_AVEWAGE\", \"TIME\": 2019, \"VALUE\": 10}, {\"LOCATION\": \"United Kingdom\", \"SUBJECT\": \"SNGLNOCHLD\", \"MEASURE\": \"HR_AVEWAGE\", \"TIME\": 2020, \"VALUE\": 10}, {\"LOCATION\": \"United Kingdom\", \"SUBJECT\": \"SNGLNOCHLD\", \"MEASURE\": \"HR_AVEWAGE\", \"TIME\": 2021, \"VALUE\": 10}, {\"LOCATION\": \"United Kingdom\", \"SUBJECT\": \"SNGLNOCHLD\", \"MEASURE\": \"HR_AVEWAGE\", \"TIME\": 2022, \"VALUE\": 10}, {\"LOCATION\": \"Organization for Economic Cooperation and Development\", \"SUBJECT\": \"SNGL2CHLD\", \"MEASURE\": \"HR_AVEWAGE\", \"TIME\": 2019, \"VALUE\": 16}, {\"LOCATION\": \"Organization for Economic Cooperation and Development\", \"SUBJECT\": \"SNGL2CHLD\", \"MEASURE\": \"HR_AVEWAGE\", \"TIME\": 2020, \"VALUE\": 17}, {\"LOCATION\": \"Organization for Economic Cooperation and Development\", \"SUBJECT\": \"SNGL2CHLD\", \"MEASURE\": \"HR_AVEWAGE\", \"TIME\": 2021, \"VALUE\": 17}, {\"LOCATION\": \"Organization for Economic Cooperation and Development\", \"SUBJECT\": \"SNGL2CHLD\", \"MEASURE\": \"HR_AVEWAGE\", \"TIME\": 2022, \"VALUE\": 18}, {\"LOCATION\": \"Organization for Economic Cooperation and Development\", \"SUBJECT\": \"SNGLNOCHLD\", \"MEASURE\": \"HR_AVEWAGE\", \"TIME\": 2019, \"VALUE\": 15}, {\"LOCATION\": \"Organization for Economic Cooperation and Development\", \"SUBJECT\": \"SNGLNOCHLD\", \"MEASURE\": \"HR_AVEWAGE\", \"TIME\": 2020, \"VALUE\": 15}, {\"LOCATION\": \"Organization for Economic Cooperation and Development\", \"SUBJECT\": \"SNGLNOCHLD\", \"MEASURE\": \"HR_AVEWAGE\", \"TIME\": 2021, \"VALUE\": 14}, {\"LOCATION\": \"Organization for Economic Cooperation and Development\", \"SUBJECT\": \"SNGLNOCHLD\", \"MEASURE\": \"HR_AVEWAGE\", \"TIME\": 2022, \"VALUE\": 15}]}}, {\"mode\": \"vega-lite\"});\n",
       "</script>"
      ],
      "text/plain": [
       "alt.Chart(...)"
      ]
     },
     "execution_count": 49,
     "metadata": {},
     "output_type": "execute_result"
    }
   ],
   "source": [
    "# A C M I \n",
    "# Mark ist Abbildungstyp, Folgender Underscore bezeichnet genaue Art\n",
    "\n",
    "#aggregate=count soll Ausprägungen der Variable Homeownership zählen \n",
    "\n",
    "alt.Chart(df2_selectedlocations).mark_bar().encode(\n",
    "    x=alt.X('LOCATION').sort('-y').axis  # - gibt an, dass nach absteigender Ausprägung sortiert wird\n",
    "    (title='Location',\n",
    "     titleAnchor='end',\n",
    "     grid=False,\n",
    "     labelAngle=0), # Labels von Homeownership werden gedreht\n",
    "    y=alt.Y('VALUE:Q').axis  \n",
    "    (title='Hours needed to exit poverty',\n",
    "     titleAnchor='end',\n",
    "      grid=False,\n",
    "     labelAngle=0),\n",
    "    color=alt.Color('SUBJECT', scale=colors),\n",
    ").properties(\n",
    "    title='Bar Chart',\n",
    "    width=1000,\n",
    "    height=300\n",
    ").configure_title(\n",
    "    fontSize=20,\n",
    "    font='Arial',\n",
    "    color='black',\n",
    "    anchor='start'\n",
    ").configure_view(strokeWidth=0)"
   ]
  },
  {
   "cell_type": "markdown",
   "metadata": {},
   "source": [
    "## Line Chart Aufbau"
   ]
  },
  {
   "cell_type": "code",
   "execution_count": 50,
   "metadata": {},
   "outputs": [],
   "source": [
    "family_status = df2_selectedlocations['SUBJECT'].cat.categories.to_list()"
   ]
  },
  {
   "cell_type": "code",
   "execution_count": 51,
   "metadata": {},
   "outputs": [
    {
     "data": {
      "text/plain": [
       "Scale({\n",
       "  domain: ['SNGL2CHLD', 'SNGLNOCHLD'],\n",
       "  range: ['blue', 'black']\n",
       "})"
      ]
     },
     "execution_count": 51,
     "metadata": {},
     "output_type": "execute_result"
    }
   ],
   "source": [
    "# Farbauswahl für Visualisierung\n",
    "\n",
    "colors2 = alt.Scale(\n",
    "    domain= family_status,\n",
    "    range= ['blue','black']\n",
    ")\n",
    "colors2"
   ]
  },
  {
   "cell_type": "code",
   "execution_count": 71,
   "metadata": {},
   "outputs": [
    {
     "data": {
      "text/html": [
       "\n",
       "<style>\n",
       "  #altair-viz-3a13e209eb564c75a241f61781710c21.vega-embed {\n",
       "    width: 100%;\n",
       "    display: flex;\n",
       "  }\n",
       "\n",
       "  #altair-viz-3a13e209eb564c75a241f61781710c21.vega-embed details,\n",
       "  #altair-viz-3a13e209eb564c75a241f61781710c21.vega-embed details summary {\n",
       "    position: relative;\n",
       "  }\n",
       "</style>\n",
       "<div id=\"altair-viz-3a13e209eb564c75a241f61781710c21\"></div>\n",
       "<script type=\"text/javascript\">\n",
       "  var VEGA_DEBUG = (typeof VEGA_DEBUG == \"undefined\") ? {} : VEGA_DEBUG;\n",
       "  (function(spec, embedOpt){\n",
       "    let outputDiv = document.currentScript.previousElementSibling;\n",
       "    if (outputDiv.id !== \"altair-viz-3a13e209eb564c75a241f61781710c21\") {\n",
       "      outputDiv = document.getElementById(\"altair-viz-3a13e209eb564c75a241f61781710c21\");\n",
       "    }\n",
       "    const paths = {\n",
       "      \"vega\": \"https://cdn.jsdelivr.net/npm/vega@5?noext\",\n",
       "      \"vega-lib\": \"https://cdn.jsdelivr.net/npm/vega-lib?noext\",\n",
       "      \"vega-lite\": \"https://cdn.jsdelivr.net/npm/vega-lite@5.15.1?noext\",\n",
       "      \"vega-embed\": \"https://cdn.jsdelivr.net/npm/vega-embed@6?noext\",\n",
       "    };\n",
       "\n",
       "    function maybeLoadScript(lib, version) {\n",
       "      var key = `${lib.replace(\"-\", \"\")}_version`;\n",
       "      return (VEGA_DEBUG[key] == version) ?\n",
       "        Promise.resolve(paths[lib]) :\n",
       "        new Promise(function(resolve, reject) {\n",
       "          var s = document.createElement('script');\n",
       "          document.getElementsByTagName(\"head\")[0].appendChild(s);\n",
       "          s.async = true;\n",
       "          s.onload = () => {\n",
       "            VEGA_DEBUG[key] = version;\n",
       "            return resolve(paths[lib]);\n",
       "          };\n",
       "          s.onerror = () => reject(`Error loading script: ${paths[lib]}`);\n",
       "          s.src = paths[lib];\n",
       "        });\n",
       "    }\n",
       "\n",
       "    function showError(err) {\n",
       "      outputDiv.innerHTML = `<div class=\"error\" style=\"color:red;\">${err}</div>`;\n",
       "      throw err;\n",
       "    }\n",
       "\n",
       "    function displayChart(vegaEmbed) {\n",
       "      vegaEmbed(outputDiv, spec, embedOpt)\n",
       "        .catch(err => showError(`Javascript Error: ${err.message}<br>This usually means there's a typo in your chart specification. See the javascript console for the full traceback.`));\n",
       "    }\n",
       "\n",
       "    if(typeof define === \"function\" && define.amd) {\n",
       "      requirejs.config({paths});\n",
       "      require([\"vega-embed\"], displayChart, err => showError(`Error loading script: ${err.message}`));\n",
       "    } else {\n",
       "      maybeLoadScript(\"vega\", \"5\")\n",
       "        .then(() => maybeLoadScript(\"vega-lite\", \"5.15.1\"))\n",
       "        .then(() => maybeLoadScript(\"vega-embed\", \"6\"))\n",
       "        .catch(showError)\n",
       "        .then(() => displayChart(vegaEmbed));\n",
       "    }\n",
       "  })({\"config\": {\"view\": {\"continuousWidth\": 300, \"continuousHeight\": 300}}, \"data\": {\"name\": \"data-b422a10a0f841811bc6b85563c6d518f\"}, \"mark\": {\"type\": \"line\"}, \"encoding\": {\"color\": {\"field\": \"SUBJECT\", \"scale\": {\"range\": [\"#003f5c\", \"#58508d\", \"#bc5090\", \"#ff6361\", \"#ffa600\"]}, \"type\": \"nominal\"}, \"x\": {\"field\": \"TIME\", \"title\": \"Year\", \"type\": \"ordinal\"}, \"y\": {\"aggregate\": \"mean\", \"field\": \"VALUE\", \"title\": \"Value\", \"type\": \"quantitative\"}}, \"height\": 400, \"title\": \"Line Chart\", \"width\": 600, \"$schema\": \"https://vega.github.io/schema/vega-lite/v5.15.1.json\", \"datasets\": {\"data-b422a10a0f841811bc6b85563c6d518f\": [{\"LOCATION\": \"Germany\", \"SUBJECT\": \"SNGL2CHLD\", \"MEASURE\": \"HR_AVEWAGE\", \"TIME\": 2019, \"VALUE\": 12}, {\"LOCATION\": \"Germany\", \"SUBJECT\": \"SNGL2CHLD\", \"MEASURE\": \"HR_AVEWAGE\", \"TIME\": 2020, \"VALUE\": 9}, {\"LOCATION\": \"Germany\", \"SUBJECT\": \"SNGL2CHLD\", \"MEASURE\": \"HR_AVEWAGE\", \"TIME\": 2021, \"VALUE\": 9}, {\"LOCATION\": \"Germany\", \"SUBJECT\": \"SNGL2CHLD\", \"MEASURE\": \"HR_AVEWAGE\", \"TIME\": 2022, \"VALUE\": 10}, {\"LOCATION\": \"Germany\", \"SUBJECT\": \"SNGLNOCHLD\", \"MEASURE\": \"HR_AVEWAGE\", \"TIME\": 2019, \"VALUE\": 13}, {\"LOCATION\": \"Germany\", \"SUBJECT\": \"SNGLNOCHLD\", \"MEASURE\": \"HR_AVEWAGE\", \"TIME\": 2020, \"VALUE\": 13}, {\"LOCATION\": \"Germany\", \"SUBJECT\": \"SNGLNOCHLD\", \"MEASURE\": \"HR_AVEWAGE\", \"TIME\": 2021, \"VALUE\": 13}, {\"LOCATION\": \"Germany\", \"SUBJECT\": \"SNGLNOCHLD\", \"MEASURE\": \"HR_AVEWAGE\", \"TIME\": 2022, \"VALUE\": 13}, {\"LOCATION\": \"United Kingdom\", \"SUBJECT\": \"SNGL2CHLD\", \"MEASURE\": \"HR_AVEWAGE\", \"TIME\": 2019, \"VALUE\": 5}, {\"LOCATION\": \"United Kingdom\", \"SUBJECT\": \"SNGL2CHLD\", \"MEASURE\": \"HR_AVEWAGE\", \"TIME\": 2020, \"VALUE\": 4}, {\"LOCATION\": \"United Kingdom\", \"SUBJECT\": \"SNGL2CHLD\", \"MEASURE\": \"HR_AVEWAGE\", \"TIME\": 2021, \"VALUE\": 4}, {\"LOCATION\": \"United Kingdom\", \"SUBJECT\": \"SNGL2CHLD\", \"MEASURE\": \"HR_AVEWAGE\", \"TIME\": 2022, \"VALUE\": 6}, {\"LOCATION\": \"United Kingdom\", \"SUBJECT\": \"SNGLNOCHLD\", \"MEASURE\": \"HR_AVEWAGE\", \"TIME\": 2019, \"VALUE\": 10}, {\"LOCATION\": \"United Kingdom\", \"SUBJECT\": \"SNGLNOCHLD\", \"MEASURE\": \"HR_AVEWAGE\", \"TIME\": 2020, \"VALUE\": 10}, {\"LOCATION\": \"United Kingdom\", \"SUBJECT\": \"SNGLNOCHLD\", \"MEASURE\": \"HR_AVEWAGE\", \"TIME\": 2021, \"VALUE\": 10}, {\"LOCATION\": \"United Kingdom\", \"SUBJECT\": \"SNGLNOCHLD\", \"MEASURE\": \"HR_AVEWAGE\", \"TIME\": 2022, \"VALUE\": 10}, {\"LOCATION\": \"Organization for Economic Cooperation and Development\", \"SUBJECT\": \"SNGL2CHLD\", \"MEASURE\": \"HR_AVEWAGE\", \"TIME\": 2019, \"VALUE\": 16}, {\"LOCATION\": \"Organization for Economic Cooperation and Development\", \"SUBJECT\": \"SNGL2CHLD\", \"MEASURE\": \"HR_AVEWAGE\", \"TIME\": 2020, \"VALUE\": 17}, {\"LOCATION\": \"Organization for Economic Cooperation and Development\", \"SUBJECT\": \"SNGL2CHLD\", \"MEASURE\": \"HR_AVEWAGE\", \"TIME\": 2021, \"VALUE\": 17}, {\"LOCATION\": \"Organization for Economic Cooperation and Development\", \"SUBJECT\": \"SNGL2CHLD\", \"MEASURE\": \"HR_AVEWAGE\", \"TIME\": 2022, \"VALUE\": 18}, {\"LOCATION\": \"Organization for Economic Cooperation and Development\", \"SUBJECT\": \"SNGLNOCHLD\", \"MEASURE\": \"HR_AVEWAGE\", \"TIME\": 2019, \"VALUE\": 15}, {\"LOCATION\": \"Organization for Economic Cooperation and Development\", \"SUBJECT\": \"SNGLNOCHLD\", \"MEASURE\": \"HR_AVEWAGE\", \"TIME\": 2020, \"VALUE\": 15}, {\"LOCATION\": \"Organization for Economic Cooperation and Development\", \"SUBJECT\": \"SNGLNOCHLD\", \"MEASURE\": \"HR_AVEWAGE\", \"TIME\": 2021, \"VALUE\": 14}, {\"LOCATION\": \"Organization for Economic Cooperation and Development\", \"SUBJECT\": \"SNGLNOCHLD\", \"MEASURE\": \"HR_AVEWAGE\", \"TIME\": 2022, \"VALUE\": 15}]}}, {\"mode\": \"vega-lite\"});\n",
       "</script>"
      ],
      "text/plain": [
       "alt.Chart(...)"
      ]
     },
     "execution_count": 71,
     "metadata": {},
     "output_type": "execute_result"
    }
   ],
   "source": [
    "line_chart = alt.Chart(df2_selectedlocations).mark_line().encode(\n",
    "    x=alt.X('TIME:O', title='Year'),\n",
    "    y=alt.Y('mean(VALUE)', title='Value'),\n",
    "    color=alt.Color('SUBJECT', scale=colors),\n",
    ").properties(\n",
    "    title='Line Chart',\n",
    "    width=600,\n",
    "    height=400\n",
    ")\n",
    "\n",
    "line_chart\n"
   ]
  },
  {
   "cell_type": "code",
   "execution_count": 53,
   "metadata": {},
   "outputs": [
    {
     "data": {
      "text/html": [
       "\n",
       "<style>\n",
       "  #altair-viz-f7db18f05fc8457da7e3120785d899c3.vega-embed {\n",
       "    width: 100%;\n",
       "    display: flex;\n",
       "  }\n",
       "\n",
       "  #altair-viz-f7db18f05fc8457da7e3120785d899c3.vega-embed details,\n",
       "  #altair-viz-f7db18f05fc8457da7e3120785d899c3.vega-embed details summary {\n",
       "    position: relative;\n",
       "  }\n",
       "</style>\n",
       "<div id=\"altair-viz-f7db18f05fc8457da7e3120785d899c3\"></div>\n",
       "<script type=\"text/javascript\">\n",
       "  var VEGA_DEBUG = (typeof VEGA_DEBUG == \"undefined\") ? {} : VEGA_DEBUG;\n",
       "  (function(spec, embedOpt){\n",
       "    let outputDiv = document.currentScript.previousElementSibling;\n",
       "    if (outputDiv.id !== \"altair-viz-f7db18f05fc8457da7e3120785d899c3\") {\n",
       "      outputDiv = document.getElementById(\"altair-viz-f7db18f05fc8457da7e3120785d899c3\");\n",
       "    }\n",
       "    const paths = {\n",
       "      \"vega\": \"https://cdn.jsdelivr.net/npm/vega@5?noext\",\n",
       "      \"vega-lib\": \"https://cdn.jsdelivr.net/npm/vega-lib?noext\",\n",
       "      \"vega-lite\": \"https://cdn.jsdelivr.net/npm/vega-lite@5.15.1?noext\",\n",
       "      \"vega-embed\": \"https://cdn.jsdelivr.net/npm/vega-embed@6?noext\",\n",
       "    };\n",
       "\n",
       "    function maybeLoadScript(lib, version) {\n",
       "      var key = `${lib.replace(\"-\", \"\")}_version`;\n",
       "      return (VEGA_DEBUG[key] == version) ?\n",
       "        Promise.resolve(paths[lib]) :\n",
       "        new Promise(function(resolve, reject) {\n",
       "          var s = document.createElement('script');\n",
       "          document.getElementsByTagName(\"head\")[0].appendChild(s);\n",
       "          s.async = true;\n",
       "          s.onload = () => {\n",
       "            VEGA_DEBUG[key] = version;\n",
       "            return resolve(paths[lib]);\n",
       "          };\n",
       "          s.onerror = () => reject(`Error loading script: ${paths[lib]}`);\n",
       "          s.src = paths[lib];\n",
       "        });\n",
       "    }\n",
       "\n",
       "    function showError(err) {\n",
       "      outputDiv.innerHTML = `<div class=\"error\" style=\"color:red;\">${err}</div>`;\n",
       "      throw err;\n",
       "    }\n",
       "\n",
       "    function displayChart(vegaEmbed) {\n",
       "      vegaEmbed(outputDiv, spec, embedOpt)\n",
       "        .catch(err => showError(`Javascript Error: ${err.message}<br>This usually means there's a typo in your chart specification. See the javascript console for the full traceback.`));\n",
       "    }\n",
       "\n",
       "    if(typeof define === \"function\" && define.amd) {\n",
       "      requirejs.config({paths});\n",
       "      require([\"vega-embed\"], displayChart, err => showError(`Error loading script: ${err.message}`));\n",
       "    } else {\n",
       "      maybeLoadScript(\"vega\", \"5\")\n",
       "        .then(() => maybeLoadScript(\"vega-lite\", \"5.15.1\"))\n",
       "        .then(() => maybeLoadScript(\"vega-embed\", \"6\"))\n",
       "        .catch(showError)\n",
       "        .then(() => displayChart(vegaEmbed));\n",
       "    }\n",
       "  })({\"config\": {\"view\": {\"continuousWidth\": 300, \"continuousHeight\": 300}}, \"layer\": [{\"data\": {\"name\": \"data-b422a10a0f841811bc6b85563c6d518f\"}, \"mark\": {\"type\": \"line\"}, \"encoding\": {\"color\": {\"field\": \"SUBJECT\", \"scale\": {\"range\": [\"#003f5c\", \"#58508d\", \"#bc5090\", \"#ff6361\", \"#ffa600\"]}, \"type\": \"nominal\"}, \"x\": {\"field\": \"TIME\", \"title\": \"Year\", \"type\": \"quantitative\"}, \"y\": {\"field\": \"VALUE\", \"title\": \"Value\", \"type\": \"quantitative\"}}, \"title\": \"Line Chart\"}, {\"data\": {\"name\": \"data-d751713988987e9331980363e24189ce\"}, \"mark\": {\"type\": \"circle\", \"opacity\": 1, \"size\": 150}, \"encoding\": {\"x\": {\"field\": \"TIME\", \"type\": \"temporal\"}, \"y\": {\"field\": \"VALUE\", \"type\": \"quantitative\"}}}], \"height\": 400, \"width\": 600, \"$schema\": \"https://vega.github.io/schema/vega-lite/v5.15.1.json\", \"datasets\": {\"data-b422a10a0f841811bc6b85563c6d518f\": [{\"LOCATION\": \"Germany\", \"SUBJECT\": \"SNGL2CHLD\", \"MEASURE\": \"HR_AVEWAGE\", \"TIME\": 2019, \"VALUE\": 12}, {\"LOCATION\": \"Germany\", \"SUBJECT\": \"SNGL2CHLD\", \"MEASURE\": \"HR_AVEWAGE\", \"TIME\": 2020, \"VALUE\": 9}, {\"LOCATION\": \"Germany\", \"SUBJECT\": \"SNGL2CHLD\", \"MEASURE\": \"HR_AVEWAGE\", \"TIME\": 2021, \"VALUE\": 9}, {\"LOCATION\": \"Germany\", \"SUBJECT\": \"SNGL2CHLD\", \"MEASURE\": \"HR_AVEWAGE\", \"TIME\": 2022, \"VALUE\": 10}, {\"LOCATION\": \"Germany\", \"SUBJECT\": \"SNGLNOCHLD\", \"MEASURE\": \"HR_AVEWAGE\", \"TIME\": 2019, \"VALUE\": 13}, {\"LOCATION\": \"Germany\", \"SUBJECT\": \"SNGLNOCHLD\", \"MEASURE\": \"HR_AVEWAGE\", \"TIME\": 2020, \"VALUE\": 13}, {\"LOCATION\": \"Germany\", \"SUBJECT\": \"SNGLNOCHLD\", \"MEASURE\": \"HR_AVEWAGE\", \"TIME\": 2021, \"VALUE\": 13}, {\"LOCATION\": \"Germany\", \"SUBJECT\": \"SNGLNOCHLD\", \"MEASURE\": \"HR_AVEWAGE\", \"TIME\": 2022, \"VALUE\": 13}, {\"LOCATION\": \"United Kingdom\", \"SUBJECT\": \"SNGL2CHLD\", \"MEASURE\": \"HR_AVEWAGE\", \"TIME\": 2019, \"VALUE\": 5}, {\"LOCATION\": \"United Kingdom\", \"SUBJECT\": \"SNGL2CHLD\", \"MEASURE\": \"HR_AVEWAGE\", \"TIME\": 2020, \"VALUE\": 4}, {\"LOCATION\": \"United Kingdom\", \"SUBJECT\": \"SNGL2CHLD\", \"MEASURE\": \"HR_AVEWAGE\", \"TIME\": 2021, \"VALUE\": 4}, {\"LOCATION\": \"United Kingdom\", \"SUBJECT\": \"SNGL2CHLD\", \"MEASURE\": \"HR_AVEWAGE\", \"TIME\": 2022, \"VALUE\": 6}, {\"LOCATION\": \"United Kingdom\", \"SUBJECT\": \"SNGLNOCHLD\", \"MEASURE\": \"HR_AVEWAGE\", \"TIME\": 2019, \"VALUE\": 10}, {\"LOCATION\": \"United Kingdom\", \"SUBJECT\": \"SNGLNOCHLD\", \"MEASURE\": \"HR_AVEWAGE\", \"TIME\": 2020, \"VALUE\": 10}, {\"LOCATION\": \"United Kingdom\", \"SUBJECT\": \"SNGLNOCHLD\", \"MEASURE\": \"HR_AVEWAGE\", \"TIME\": 2021, \"VALUE\": 10}, {\"LOCATION\": \"United Kingdom\", \"SUBJECT\": \"SNGLNOCHLD\", \"MEASURE\": \"HR_AVEWAGE\", \"TIME\": 2022, \"VALUE\": 10}, {\"LOCATION\": \"Organization for Economic Cooperation and Development\", \"SUBJECT\": \"SNGL2CHLD\", \"MEASURE\": \"HR_AVEWAGE\", \"TIME\": 2019, \"VALUE\": 16}, {\"LOCATION\": \"Organization for Economic Cooperation and Development\", \"SUBJECT\": \"SNGL2CHLD\", \"MEASURE\": \"HR_AVEWAGE\", \"TIME\": 2020, \"VALUE\": 17}, {\"LOCATION\": \"Organization for Economic Cooperation and Development\", \"SUBJECT\": \"SNGL2CHLD\", \"MEASURE\": \"HR_AVEWAGE\", \"TIME\": 2021, \"VALUE\": 17}, {\"LOCATION\": \"Organization for Economic Cooperation and Development\", \"SUBJECT\": \"SNGL2CHLD\", \"MEASURE\": \"HR_AVEWAGE\", \"TIME\": 2022, \"VALUE\": 18}, {\"LOCATION\": \"Organization for Economic Cooperation and Development\", \"SUBJECT\": \"SNGLNOCHLD\", \"MEASURE\": \"HR_AVEWAGE\", \"TIME\": 2019, \"VALUE\": 15}, {\"LOCATION\": \"Organization for Economic Cooperation and Development\", \"SUBJECT\": \"SNGLNOCHLD\", \"MEASURE\": \"HR_AVEWAGE\", \"TIME\": 2020, \"VALUE\": 15}, {\"LOCATION\": \"Organization for Economic Cooperation and Development\", \"SUBJECT\": \"SNGLNOCHLD\", \"MEASURE\": \"HR_AVEWAGE\", \"TIME\": 2021, \"VALUE\": 14}, {\"LOCATION\": \"Organization for Economic Cooperation and Development\", \"SUBJECT\": \"SNGLNOCHLD\", \"MEASURE\": \"HR_AVEWAGE\", \"TIME\": 2022, \"VALUE\": 15}], \"data-d751713988987e9331980363e24189ce\": []}}, {\"mode\": \"vega-lite\"});\n",
       "</script>"
      ],
      "text/plain": [
       "alt.LayerChart(...)"
      ]
     },
     "execution_count": 53,
     "metadata": {},
     "output_type": "execute_result"
    }
   ],
   "source": [
    "df2_selectedlocations2= df2_selectedlocations[df2_selectedlocations['TIME']=='2022']\n",
    "\n",
    "points= alt.Chart(df2_selectedlocations2).mark_circle(opacity=1, size=150).encode(\n",
    "    x=alt.X('TIME:T'),\n",
    "    y=alt.Y('VALUE')\n",
    ")\n",
    "\n",
    "line_chart + points"
   ]
  },
  {
   "cell_type": "code",
   "execution_count": 54,
   "metadata": {},
   "outputs": [
    {
     "data": {
      "text/html": [
       "\n",
       "<style>\n",
       "  #altair-viz-0b379644395541538a6ebffb456614b4.vega-embed {\n",
       "    width: 100%;\n",
       "    display: flex;\n",
       "  }\n",
       "\n",
       "  #altair-viz-0b379644395541538a6ebffb456614b4.vega-embed details,\n",
       "  #altair-viz-0b379644395541538a6ebffb456614b4.vega-embed details summary {\n",
       "    position: relative;\n",
       "  }\n",
       "</style>\n",
       "<div id=\"altair-viz-0b379644395541538a6ebffb456614b4\"></div>\n",
       "<script type=\"text/javascript\">\n",
       "  var VEGA_DEBUG = (typeof VEGA_DEBUG == \"undefined\") ? {} : VEGA_DEBUG;\n",
       "  (function(spec, embedOpt){\n",
       "    let outputDiv = document.currentScript.previousElementSibling;\n",
       "    if (outputDiv.id !== \"altair-viz-0b379644395541538a6ebffb456614b4\") {\n",
       "      outputDiv = document.getElementById(\"altair-viz-0b379644395541538a6ebffb456614b4\");\n",
       "    }\n",
       "    const paths = {\n",
       "      \"vega\": \"https://cdn.jsdelivr.net/npm/vega@5?noext\",\n",
       "      \"vega-lib\": \"https://cdn.jsdelivr.net/npm/vega-lib?noext\",\n",
       "      \"vega-lite\": \"https://cdn.jsdelivr.net/npm/vega-lite@5.15.1?noext\",\n",
       "      \"vega-embed\": \"https://cdn.jsdelivr.net/npm/vega-embed@6?noext\",\n",
       "    };\n",
       "\n",
       "    function maybeLoadScript(lib, version) {\n",
       "      var key = `${lib.replace(\"-\", \"\")}_version`;\n",
       "      return (VEGA_DEBUG[key] == version) ?\n",
       "        Promise.resolve(paths[lib]) :\n",
       "        new Promise(function(resolve, reject) {\n",
       "          var s = document.createElement('script');\n",
       "          document.getElementsByTagName(\"head\")[0].appendChild(s);\n",
       "          s.async = true;\n",
       "          s.onload = () => {\n",
       "            VEGA_DEBUG[key] = version;\n",
       "            return resolve(paths[lib]);\n",
       "          };\n",
       "          s.onerror = () => reject(`Error loading script: ${paths[lib]}`);\n",
       "          s.src = paths[lib];\n",
       "        });\n",
       "    }\n",
       "\n",
       "    function showError(err) {\n",
       "      outputDiv.innerHTML = `<div class=\"error\" style=\"color:red;\">${err}</div>`;\n",
       "      throw err;\n",
       "    }\n",
       "\n",
       "    function displayChart(vegaEmbed) {\n",
       "      vegaEmbed(outputDiv, spec, embedOpt)\n",
       "        .catch(err => showError(`Javascript Error: ${err.message}<br>This usually means there's a typo in your chart specification. See the javascript console for the full traceback.`));\n",
       "    }\n",
       "\n",
       "    if(typeof define === \"function\" && define.amd) {\n",
       "      requirejs.config({paths});\n",
       "      require([\"vega-embed\"], displayChart, err => showError(`Error loading script: ${err.message}`));\n",
       "    } else {\n",
       "      maybeLoadScript(\"vega\", \"5\")\n",
       "        .then(() => maybeLoadScript(\"vega-lite\", \"5.15.1\"))\n",
       "        .then(() => maybeLoadScript(\"vega-embed\", \"6\"))\n",
       "        .catch(showError)\n",
       "        .then(() => displayChart(vegaEmbed));\n",
       "    }\n",
       "  })({\"config\": {\"view\": {\"continuousWidth\": 300, \"continuousHeight\": 300}}, \"data\": {\"name\": \"data-b422a10a0f841811bc6b85563c6d518f\"}, \"mark\": {\"type\": \"line\"}, \"encoding\": {\"x\": {\"axis\": {\"title\": \"Jahr\", \"titleAnchor\": \"start\", \"labelAngle\": 0, \"grid\": false, \"labelColor\": \"black\", \"tickColor\": \"grey\"}, \"field\": \"TIME\", \"type\": \"temporal\"}, \"y\": {\"axis\": {\"title\": \"Arbeitsstunden\", \"titleAnchor\": \"end\", \"grid\": false, \"labelColor\": \"black\", \"tickColor\": \"black\"}, \"field\": \"VALUE\", \"scale\": {\"bins\": [20, 40, 60, 80], \"padding\": 30}, \"type\": \"quantitative\"}}, \"height\": 350, \"title\": {\"text\": \"Hours needed to exit poverty\", \"color\": \"grey\", \"subtitle\": \"in relation to family status\"}, \"width\": 550, \"$schema\": \"https://vega.github.io/schema/vega-lite/v5.15.1.json\", \"datasets\": {\"data-b422a10a0f841811bc6b85563c6d518f\": [{\"LOCATION\": \"Germany\", \"SUBJECT\": \"SNGL2CHLD\", \"MEASURE\": \"HR_AVEWAGE\", \"TIME\": 2019, \"VALUE\": 12}, {\"LOCATION\": \"Germany\", \"SUBJECT\": \"SNGL2CHLD\", \"MEASURE\": \"HR_AVEWAGE\", \"TIME\": 2020, \"VALUE\": 9}, {\"LOCATION\": \"Germany\", \"SUBJECT\": \"SNGL2CHLD\", \"MEASURE\": \"HR_AVEWAGE\", \"TIME\": 2021, \"VALUE\": 9}, {\"LOCATION\": \"Germany\", \"SUBJECT\": \"SNGL2CHLD\", \"MEASURE\": \"HR_AVEWAGE\", \"TIME\": 2022, \"VALUE\": 10}, {\"LOCATION\": \"Germany\", \"SUBJECT\": \"SNGLNOCHLD\", \"MEASURE\": \"HR_AVEWAGE\", \"TIME\": 2019, \"VALUE\": 13}, {\"LOCATION\": \"Germany\", \"SUBJECT\": \"SNGLNOCHLD\", \"MEASURE\": \"HR_AVEWAGE\", \"TIME\": 2020, \"VALUE\": 13}, {\"LOCATION\": \"Germany\", \"SUBJECT\": \"SNGLNOCHLD\", \"MEASURE\": \"HR_AVEWAGE\", \"TIME\": 2021, \"VALUE\": 13}, {\"LOCATION\": \"Germany\", \"SUBJECT\": \"SNGLNOCHLD\", \"MEASURE\": \"HR_AVEWAGE\", \"TIME\": 2022, \"VALUE\": 13}, {\"LOCATION\": \"United Kingdom\", \"SUBJECT\": \"SNGL2CHLD\", \"MEASURE\": \"HR_AVEWAGE\", \"TIME\": 2019, \"VALUE\": 5}, {\"LOCATION\": \"United Kingdom\", \"SUBJECT\": \"SNGL2CHLD\", \"MEASURE\": \"HR_AVEWAGE\", \"TIME\": 2020, \"VALUE\": 4}, {\"LOCATION\": \"United Kingdom\", \"SUBJECT\": \"SNGL2CHLD\", \"MEASURE\": \"HR_AVEWAGE\", \"TIME\": 2021, \"VALUE\": 4}, {\"LOCATION\": \"United Kingdom\", \"SUBJECT\": \"SNGL2CHLD\", \"MEASURE\": \"HR_AVEWAGE\", \"TIME\": 2022, \"VALUE\": 6}, {\"LOCATION\": \"United Kingdom\", \"SUBJECT\": \"SNGLNOCHLD\", \"MEASURE\": \"HR_AVEWAGE\", \"TIME\": 2019, \"VALUE\": 10}, {\"LOCATION\": \"United Kingdom\", \"SUBJECT\": \"SNGLNOCHLD\", \"MEASURE\": \"HR_AVEWAGE\", \"TIME\": 2020, \"VALUE\": 10}, {\"LOCATION\": \"United Kingdom\", \"SUBJECT\": \"SNGLNOCHLD\", \"MEASURE\": \"HR_AVEWAGE\", \"TIME\": 2021, \"VALUE\": 10}, {\"LOCATION\": \"United Kingdom\", \"SUBJECT\": \"SNGLNOCHLD\", \"MEASURE\": \"HR_AVEWAGE\", \"TIME\": 2022, \"VALUE\": 10}, {\"LOCATION\": \"Organization for Economic Cooperation and Development\", \"SUBJECT\": \"SNGL2CHLD\", \"MEASURE\": \"HR_AVEWAGE\", \"TIME\": 2019, \"VALUE\": 16}, {\"LOCATION\": \"Organization for Economic Cooperation and Development\", \"SUBJECT\": \"SNGL2CHLD\", \"MEASURE\": \"HR_AVEWAGE\", \"TIME\": 2020, \"VALUE\": 17}, {\"LOCATION\": \"Organization for Economic Cooperation and Development\", \"SUBJECT\": \"SNGL2CHLD\", \"MEASURE\": \"HR_AVEWAGE\", \"TIME\": 2021, \"VALUE\": 17}, {\"LOCATION\": \"Organization for Economic Cooperation and Development\", \"SUBJECT\": \"SNGL2CHLD\", \"MEASURE\": \"HR_AVEWAGE\", \"TIME\": 2022, \"VALUE\": 18}, {\"LOCATION\": \"Organization for Economic Cooperation and Development\", \"SUBJECT\": \"SNGLNOCHLD\", \"MEASURE\": \"HR_AVEWAGE\", \"TIME\": 2019, \"VALUE\": 15}, {\"LOCATION\": \"Organization for Economic Cooperation and Development\", \"SUBJECT\": \"SNGLNOCHLD\", \"MEASURE\": \"HR_AVEWAGE\", \"TIME\": 2020, \"VALUE\": 15}, {\"LOCATION\": \"Organization for Economic Cooperation and Development\", \"SUBJECT\": \"SNGLNOCHLD\", \"MEASURE\": \"HR_AVEWAGE\", \"TIME\": 2021, \"VALUE\": 14}, {\"LOCATION\": \"Organization for Economic Cooperation and Development\", \"SUBJECT\": \"SNGLNOCHLD\", \"MEASURE\": \"HR_AVEWAGE\", \"TIME\": 2022, \"VALUE\": 15}]}}, {\"mode\": \"vega-lite\"});\n",
       "</script>"
      ],
      "text/plain": [
       "alt.Chart(...)"
      ]
     },
     "execution_count": 54,
     "metadata": {},
     "output_type": "execute_result"
    }
   ],
   "source": [
    "line_chart = alt.Chart(df2_selectedlocations).mark_line().encode(\n",
    "    x=alt.X('TIME:T').axis(\n",
    "        title='Jahr',\n",
    "        titleAnchor='start',\n",
    "        labelAngle=0,\n",
    "        grid=False,\n",
    "        labelColor='black',\n",
    "        tickColor='grey'),\n",
    "    y=alt.Y('VALUE:Q').scale(bins=[20,40,60,80], padding=30).axis(\n",
    "        title='Arbeitsstunden',\n",
    "        titleAnchor='end',\n",
    "        grid=False,\n",
    "        labelColor='black',\n",
    "        tickColor='black'\n",
    "    ),\n",
    "    #strokeWidth=alt.value(4)    \n",
    ").properties(\n",
    "    title=alt.Title(\n",
    "        \"Hours needed to exit poverty\",\n",
    "        subtitle=\"in relation to family status\",\n",
    "        color='grey',\n",
    "    ),\n",
    "    width=550,\n",
    "    height=350\n",
    ")\n",
    "\n",
    "\n",
    "line_chart"
   ]
  },
  {
   "cell_type": "markdown",
   "metadata": {},
   "source": [
    "### Finding Connections"
   ]
  },
  {
   "cell_type": "code",
   "execution_count": 55,
   "metadata": {},
   "outputs": [
    {
     "ename": "ValueError",
     "evalue": "could not convert string to float: 'Germany'",
     "output_type": "error",
     "traceback": [
      "\u001b[0;31m---------------------------------------------------------------------------\u001b[0m",
      "\u001b[0;31mValueError\u001b[0m                                Traceback (most recent call last)",
      "Cell \u001b[0;32mIn[55], line 1\u001b[0m\n\u001b[0;32m----> 1\u001b[0m \u001b[43mdf2_selectedlocations\u001b[49m\u001b[38;5;241;43m.\u001b[39;49m\u001b[43mcorr\u001b[49m\u001b[43m(\u001b[49m\u001b[43m)\u001b[49m\n",
      "File \u001b[0;32m~/anaconda3/envs/dst2/lib/python3.11/site-packages/pandas/core/frame.py:10707\u001b[0m, in \u001b[0;36mDataFrame.corr\u001b[0;34m(self, method, min_periods, numeric_only)\u001b[0m\n\u001b[1;32m  10705\u001b[0m cols \u001b[38;5;241m=\u001b[39m data\u001b[38;5;241m.\u001b[39mcolumns\n\u001b[1;32m  10706\u001b[0m idx \u001b[38;5;241m=\u001b[39m cols\u001b[38;5;241m.\u001b[39mcopy()\n\u001b[0;32m> 10707\u001b[0m mat \u001b[38;5;241m=\u001b[39m \u001b[43mdata\u001b[49m\u001b[38;5;241;43m.\u001b[39;49m\u001b[43mto_numpy\u001b[49m\u001b[43m(\u001b[49m\u001b[43mdtype\u001b[49m\u001b[38;5;241;43m=\u001b[39;49m\u001b[38;5;28;43mfloat\u001b[39;49m\u001b[43m,\u001b[49m\u001b[43m \u001b[49m\u001b[43mna_value\u001b[49m\u001b[38;5;241;43m=\u001b[39;49m\u001b[43mnp\u001b[49m\u001b[38;5;241;43m.\u001b[39;49m\u001b[43mnan\u001b[49m\u001b[43m,\u001b[49m\u001b[43m \u001b[49m\u001b[43mcopy\u001b[49m\u001b[38;5;241;43m=\u001b[39;49m\u001b[38;5;28;43;01mFalse\u001b[39;49;00m\u001b[43m)\u001b[49m\n\u001b[1;32m  10709\u001b[0m \u001b[38;5;28;01mif\u001b[39;00m method \u001b[38;5;241m==\u001b[39m \u001b[38;5;124m\"\u001b[39m\u001b[38;5;124mpearson\u001b[39m\u001b[38;5;124m\"\u001b[39m:\n\u001b[1;32m  10710\u001b[0m     correl \u001b[38;5;241m=\u001b[39m libalgos\u001b[38;5;241m.\u001b[39mnancorr(mat, minp\u001b[38;5;241m=\u001b[39mmin_periods)\n",
      "File \u001b[0;32m~/anaconda3/envs/dst2/lib/python3.11/site-packages/pandas/core/frame.py:1892\u001b[0m, in \u001b[0;36mDataFrame.to_numpy\u001b[0;34m(self, dtype, copy, na_value)\u001b[0m\n\u001b[1;32m   1890\u001b[0m \u001b[38;5;28;01mif\u001b[39;00m dtype \u001b[38;5;129;01mis\u001b[39;00m \u001b[38;5;129;01mnot\u001b[39;00m \u001b[38;5;28;01mNone\u001b[39;00m:\n\u001b[1;32m   1891\u001b[0m     dtype \u001b[38;5;241m=\u001b[39m np\u001b[38;5;241m.\u001b[39mdtype(dtype)\n\u001b[0;32m-> 1892\u001b[0m result \u001b[38;5;241m=\u001b[39m \u001b[38;5;28;43mself\u001b[39;49m\u001b[38;5;241;43m.\u001b[39;49m\u001b[43m_mgr\u001b[49m\u001b[38;5;241;43m.\u001b[39;49m\u001b[43mas_array\u001b[49m\u001b[43m(\u001b[49m\u001b[43mdtype\u001b[49m\u001b[38;5;241;43m=\u001b[39;49m\u001b[43mdtype\u001b[49m\u001b[43m,\u001b[49m\u001b[43m \u001b[49m\u001b[43mcopy\u001b[49m\u001b[38;5;241;43m=\u001b[39;49m\u001b[43mcopy\u001b[49m\u001b[43m,\u001b[49m\u001b[43m \u001b[49m\u001b[43mna_value\u001b[49m\u001b[38;5;241;43m=\u001b[39;49m\u001b[43mna_value\u001b[49m\u001b[43m)\u001b[49m\n\u001b[1;32m   1893\u001b[0m \u001b[38;5;28;01mif\u001b[39;00m result\u001b[38;5;241m.\u001b[39mdtype \u001b[38;5;129;01mis\u001b[39;00m \u001b[38;5;129;01mnot\u001b[39;00m dtype:\n\u001b[1;32m   1894\u001b[0m     result \u001b[38;5;241m=\u001b[39m np\u001b[38;5;241m.\u001b[39marray(result, dtype\u001b[38;5;241m=\u001b[39mdtype, copy\u001b[38;5;241m=\u001b[39m\u001b[38;5;28;01mFalse\u001b[39;00m)\n",
      "File \u001b[0;32m~/anaconda3/envs/dst2/lib/python3.11/site-packages/pandas/core/internals/managers.py:1656\u001b[0m, in \u001b[0;36mBlockManager.as_array\u001b[0;34m(self, dtype, copy, na_value)\u001b[0m\n\u001b[1;32m   1654\u001b[0m         arr\u001b[38;5;241m.\u001b[39mflags\u001b[38;5;241m.\u001b[39mwriteable \u001b[38;5;241m=\u001b[39m \u001b[38;5;28;01mFalse\u001b[39;00m\n\u001b[1;32m   1655\u001b[0m \u001b[38;5;28;01melse\u001b[39;00m:\n\u001b[0;32m-> 1656\u001b[0m     arr \u001b[38;5;241m=\u001b[39m \u001b[38;5;28;43mself\u001b[39;49m\u001b[38;5;241;43m.\u001b[39;49m\u001b[43m_interleave\u001b[49m\u001b[43m(\u001b[49m\u001b[43mdtype\u001b[49m\u001b[38;5;241;43m=\u001b[39;49m\u001b[43mdtype\u001b[49m\u001b[43m,\u001b[49m\u001b[43m \u001b[49m\u001b[43mna_value\u001b[49m\u001b[38;5;241;43m=\u001b[39;49m\u001b[43mna_value\u001b[49m\u001b[43m)\u001b[49m\n\u001b[1;32m   1657\u001b[0m     \u001b[38;5;66;03m# The underlying data was copied within _interleave, so no need\u001b[39;00m\n\u001b[1;32m   1658\u001b[0m     \u001b[38;5;66;03m# to further copy if copy=True or setting na_value\u001b[39;00m\n\u001b[1;32m   1660\u001b[0m \u001b[38;5;28;01mif\u001b[39;00m na_value \u001b[38;5;129;01mis\u001b[39;00m lib\u001b[38;5;241m.\u001b[39mno_default:\n",
      "File \u001b[0;32m~/anaconda3/envs/dst2/lib/python3.11/site-packages/pandas/core/internals/managers.py:1709\u001b[0m, in \u001b[0;36mBlockManager._interleave\u001b[0;34m(self, dtype, na_value)\u001b[0m\n\u001b[1;32m   1703\u001b[0m rl \u001b[38;5;241m=\u001b[39m blk\u001b[38;5;241m.\u001b[39mmgr_locs\n\u001b[1;32m   1704\u001b[0m \u001b[38;5;28;01mif\u001b[39;00m blk\u001b[38;5;241m.\u001b[39mis_extension:\n\u001b[1;32m   1705\u001b[0m     \u001b[38;5;66;03m# Avoid implicit conversion of extension blocks to object\u001b[39;00m\n\u001b[1;32m   1706\u001b[0m \n\u001b[1;32m   1707\u001b[0m     \u001b[38;5;66;03m# error: Item \"ndarray\" of \"Union[ndarray, ExtensionArray]\" has no\u001b[39;00m\n\u001b[1;32m   1708\u001b[0m     \u001b[38;5;66;03m# attribute \"to_numpy\"\u001b[39;00m\n\u001b[0;32m-> 1709\u001b[0m     arr \u001b[38;5;241m=\u001b[39m \u001b[43mblk\u001b[49m\u001b[38;5;241;43m.\u001b[39;49m\u001b[43mvalues\u001b[49m\u001b[38;5;241;43m.\u001b[39;49m\u001b[43mto_numpy\u001b[49m\u001b[43m(\u001b[49m\u001b[43m  \u001b[49m\u001b[38;5;66;43;03m# type: ignore[union-attr]\u001b[39;49;00m\n\u001b[1;32m   1710\u001b[0m \u001b[43m        \u001b[49m\u001b[43mdtype\u001b[49m\u001b[38;5;241;43m=\u001b[39;49m\u001b[43mdtype\u001b[49m\u001b[43m,\u001b[49m\n\u001b[1;32m   1711\u001b[0m \u001b[43m        \u001b[49m\u001b[43mna_value\u001b[49m\u001b[38;5;241;43m=\u001b[39;49m\u001b[43mna_value\u001b[49m\u001b[43m,\u001b[49m\n\u001b[1;32m   1712\u001b[0m \u001b[43m    \u001b[49m\u001b[43m)\u001b[49m\n\u001b[1;32m   1713\u001b[0m \u001b[38;5;28;01melse\u001b[39;00m:\n\u001b[1;32m   1714\u001b[0m     arr \u001b[38;5;241m=\u001b[39m blk\u001b[38;5;241m.\u001b[39mget_values(dtype)\n",
      "File \u001b[0;32m~/anaconda3/envs/dst2/lib/python3.11/site-packages/pandas/core/arrays/base.py:530\u001b[0m, in \u001b[0;36mExtensionArray.to_numpy\u001b[0;34m(self, dtype, copy, na_value)\u001b[0m\n\u001b[1;32m    501\u001b[0m \u001b[38;5;28;01mdef\u001b[39;00m \u001b[38;5;21mto_numpy\u001b[39m(\n\u001b[1;32m    502\u001b[0m     \u001b[38;5;28mself\u001b[39m,\n\u001b[1;32m    503\u001b[0m     dtype: npt\u001b[38;5;241m.\u001b[39mDTypeLike \u001b[38;5;241m|\u001b[39m \u001b[38;5;28;01mNone\u001b[39;00m \u001b[38;5;241m=\u001b[39m \u001b[38;5;28;01mNone\u001b[39;00m,\n\u001b[1;32m    504\u001b[0m     copy: \u001b[38;5;28mbool\u001b[39m \u001b[38;5;241m=\u001b[39m \u001b[38;5;28;01mFalse\u001b[39;00m,\n\u001b[1;32m    505\u001b[0m     na_value: \u001b[38;5;28mobject\u001b[39m \u001b[38;5;241m=\u001b[39m lib\u001b[38;5;241m.\u001b[39mno_default,\n\u001b[1;32m    506\u001b[0m ) \u001b[38;5;241m-\u001b[39m\u001b[38;5;241m>\u001b[39m np\u001b[38;5;241m.\u001b[39mndarray:\n\u001b[1;32m    507\u001b[0m \u001b[38;5;250m    \u001b[39m\u001b[38;5;124;03m\"\"\"\u001b[39;00m\n\u001b[1;32m    508\u001b[0m \u001b[38;5;124;03m    Convert to a NumPy ndarray.\u001b[39;00m\n\u001b[1;32m    509\u001b[0m \n\u001b[0;32m   (...)\u001b[0m\n\u001b[1;32m    528\u001b[0m \u001b[38;5;124;03m    numpy.ndarray\u001b[39;00m\n\u001b[1;32m    529\u001b[0m \u001b[38;5;124;03m    \"\"\"\u001b[39;00m\n\u001b[0;32m--> 530\u001b[0m     result \u001b[38;5;241m=\u001b[39m \u001b[43mnp\u001b[49m\u001b[38;5;241;43m.\u001b[39;49m\u001b[43masarray\u001b[49m\u001b[43m(\u001b[49m\u001b[38;5;28;43mself\u001b[39;49m\u001b[43m,\u001b[49m\u001b[43m \u001b[49m\u001b[43mdtype\u001b[49m\u001b[38;5;241;43m=\u001b[39;49m\u001b[43mdtype\u001b[49m\u001b[43m)\u001b[49m\n\u001b[1;32m    531\u001b[0m     \u001b[38;5;28;01mif\u001b[39;00m copy \u001b[38;5;129;01mor\u001b[39;00m na_value \u001b[38;5;129;01mis\u001b[39;00m \u001b[38;5;129;01mnot\u001b[39;00m lib\u001b[38;5;241m.\u001b[39mno_default:\n\u001b[1;32m    532\u001b[0m         result \u001b[38;5;241m=\u001b[39m result\u001b[38;5;241m.\u001b[39mcopy()\n",
      "File \u001b[0;32m~/anaconda3/envs/dst2/lib/python3.11/site-packages/pandas/core/arrays/_mixins.py:80\u001b[0m, in \u001b[0;36mravel_compat.<locals>.method\u001b[0;34m(self, *args, **kwargs)\u001b[0m\n\u001b[1;32m     77\u001b[0m \u001b[38;5;129m@wraps\u001b[39m(meth)\n\u001b[1;32m     78\u001b[0m \u001b[38;5;28;01mdef\u001b[39;00m \u001b[38;5;21mmethod\u001b[39m(\u001b[38;5;28mself\u001b[39m, \u001b[38;5;241m*\u001b[39margs, \u001b[38;5;241m*\u001b[39m\u001b[38;5;241m*\u001b[39mkwargs):\n\u001b[1;32m     79\u001b[0m     \u001b[38;5;28;01mif\u001b[39;00m \u001b[38;5;28mself\u001b[39m\u001b[38;5;241m.\u001b[39mndim \u001b[38;5;241m==\u001b[39m \u001b[38;5;241m1\u001b[39m:\n\u001b[0;32m---> 80\u001b[0m         \u001b[38;5;28;01mreturn\u001b[39;00m \u001b[43mmeth\u001b[49m\u001b[43m(\u001b[49m\u001b[38;5;28;43mself\u001b[39;49m\u001b[43m,\u001b[49m\u001b[43m \u001b[49m\u001b[38;5;241;43m*\u001b[39;49m\u001b[43margs\u001b[49m\u001b[43m,\u001b[49m\u001b[43m \u001b[49m\u001b[38;5;241;43m*\u001b[39;49m\u001b[38;5;241;43m*\u001b[39;49m\u001b[43mkwargs\u001b[49m\u001b[43m)\u001b[49m\n\u001b[1;32m     82\u001b[0m     flags \u001b[38;5;241m=\u001b[39m \u001b[38;5;28mself\u001b[39m\u001b[38;5;241m.\u001b[39m_ndarray\u001b[38;5;241m.\u001b[39mflags\n\u001b[1;32m     83\u001b[0m     flat \u001b[38;5;241m=\u001b[39m \u001b[38;5;28mself\u001b[39m\u001b[38;5;241m.\u001b[39mravel(\u001b[38;5;124m\"\u001b[39m\u001b[38;5;124mK\u001b[39m\u001b[38;5;124m\"\u001b[39m)\n",
      "File \u001b[0;32m~/anaconda3/envs/dst2/lib/python3.11/site-packages/pandas/core/arrays/categorical.py:1635\u001b[0m, in \u001b[0;36mCategorical.__array__\u001b[0;34m(self, dtype)\u001b[0m\n\u001b[1;32m   1633\u001b[0m ret \u001b[38;5;241m=\u001b[39m take_nd(\u001b[38;5;28mself\u001b[39m\u001b[38;5;241m.\u001b[39mcategories\u001b[38;5;241m.\u001b[39m_values, \u001b[38;5;28mself\u001b[39m\u001b[38;5;241m.\u001b[39m_codes)\n\u001b[1;32m   1634\u001b[0m \u001b[38;5;28;01mif\u001b[39;00m dtype \u001b[38;5;129;01mand\u001b[39;00m np\u001b[38;5;241m.\u001b[39mdtype(dtype) \u001b[38;5;241m!=\u001b[39m \u001b[38;5;28mself\u001b[39m\u001b[38;5;241m.\u001b[39mcategories\u001b[38;5;241m.\u001b[39mdtype:\n\u001b[0;32m-> 1635\u001b[0m     \u001b[38;5;28;01mreturn\u001b[39;00m np\u001b[38;5;241m.\u001b[39masarray(ret, dtype)\n\u001b[1;32m   1636\u001b[0m \u001b[38;5;66;03m# When we're a Categorical[ExtensionArray], like Interval,\u001b[39;00m\n\u001b[1;32m   1637\u001b[0m \u001b[38;5;66;03m# we need to ensure __array__ gets all the way to an\u001b[39;00m\n\u001b[1;32m   1638\u001b[0m \u001b[38;5;66;03m# ndarray.\u001b[39;00m\n\u001b[1;32m   1639\u001b[0m \u001b[38;5;28;01mreturn\u001b[39;00m np\u001b[38;5;241m.\u001b[39masarray(ret)\n",
      "\u001b[0;31mValueError\u001b[0m: could not convert string to float: 'Germany'"
     ]
    }
   ],
   "source": [
    "df2_selectedlocations.corr()"
   ]
  }
 ],
 "metadata": {
  "kernelspec": {
   "display_name": "dst2",
   "language": "python",
   "name": "python3"
  },
  "language_info": {
   "codemirror_mode": {
    "name": "ipython",
    "version": 3
   },
   "file_extension": ".py",
   "mimetype": "text/x-python",
   "name": "python",
   "nbconvert_exporter": "python",
   "pygments_lexer": "ipython3",
   "version": "3.11.5"
  }
 },
 "nbformat": 4,
 "nbformat_minor": 2
}
