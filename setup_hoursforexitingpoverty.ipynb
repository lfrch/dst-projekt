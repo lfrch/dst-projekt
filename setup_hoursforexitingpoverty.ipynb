{
 "cells": [
  {
   "cell_type": "markdown",
   "metadata": {},
   "source": [
    "# Hours needed to exit poverty"
   ]
  },
  {
   "cell_type": "markdown",
   "metadata": {},
   "source": [
    "This indicator measures the weekly hours that a family claiming guaranteed minimum benefit needs to work to exit poverty. The measure is expressed for three hourly wage rates. The poverty line is calculated as 50% of the median disposable income in the country."
   ]
  },
  {
   "cell_type": "markdown",
   "metadata": {},
   "source": [
    "TO DO: Neuer DF/Objekt mit zu betrachtenden Regionen (OECD bzw. alle, EU28 für Europa, DEU(tschland) & GBR (UK) )\n",
    "* Distribution chart / Scatter Plot\n",
    "* Stacked Bar Chart für verschiedene Variablen (single no child, jobless couple etc. ggf. auch neue Objekte zur Vereinfachung)"
   ]
  },
  {
   "cell_type": "markdown",
   "metadata": {},
   "source": [
    "### Setup"
   ]
  },
  {
   "cell_type": "code",
   "execution_count": 121,
   "metadata": {},
   "outputs": [],
   "source": [
    "import pandas as pd\n",
    "import altair as alt"
   ]
  },
  {
   "cell_type": "code",
   "execution_count": 122,
   "metadata": {},
   "outputs": [
    {
     "data": {
      "text/plain": [
       "DataTransformerRegistry.enable('default')"
      ]
     },
     "execution_count": 122,
     "metadata": {},
     "output_type": "execute_result"
    }
   ],
   "source": [
    "# Zeilenlimit deaktivieren (n=5000)\n",
    "# Falls Datensatz mehr als 5000 Zeilen, dann soll es deaktiviert werden\n",
    "\n",
    "alt.data_transformers.disable_max_rows()\n",
    "#pd.set_option('display.max_rows', 1000)"
   ]
  },
  {
   "cell_type": "markdown",
   "metadata": {},
   "source": [
    "## Data"
   ]
  },
  {
   "cell_type": "markdown",
   "metadata": {},
   "source": [
    "Data Import"
   ]
  },
  {
   "cell_type": "markdown",
   "metadata": {},
   "source": [
    "#### Dataset Average annual hours actually worked, 2022 or latest"
   ]
  },
  {
   "cell_type": "code",
   "execution_count": 123,
   "metadata": {},
   "outputs": [],
   "source": [
    "# falls Datei lokal liegt, einfach den Pfad zur CSV eingeben: ins Terminal 'pwd' eingeben, dann wird Pfad gezeigt\n",
    "LINK = '/Users/Lea/Desktop/dst-projekt/exitpovertyhours.csv'\n",
    "\n",
    "df2 = pd.read_csv(LINK)"
   ]
  },
  {
   "cell_type": "code",
   "execution_count": 124,
   "metadata": {},
   "outputs": [
    {
     "data": {
      "text/html": [
       "<div>\n",
       "<style scoped>\n",
       "    .dataframe tbody tr th:only-of-type {\n",
       "        vertical-align: middle;\n",
       "    }\n",
       "\n",
       "    .dataframe tbody tr th {\n",
       "        vertical-align: top;\n",
       "    }\n",
       "\n",
       "    .dataframe thead th {\n",
       "        text-align: right;\n",
       "    }\n",
       "</style>\n",
       "<table border=\"1\" class=\"dataframe\">\n",
       "  <thead>\n",
       "    <tr style=\"text-align: right;\">\n",
       "      <th></th>\n",
       "      <th>LOCATION</th>\n",
       "      <th>INDICATOR</th>\n",
       "      <th>SUBJECT</th>\n",
       "      <th>MEASURE</th>\n",
       "      <th>FREQUENCY</th>\n",
       "      <th>TIME</th>\n",
       "      <th>Value</th>\n",
       "      <th>Flag Codes</th>\n",
       "    </tr>\n",
       "  </thead>\n",
       "  <tbody>\n",
       "    <tr>\n",
       "      <th>0</th>\n",
       "      <td>AUT</td>\n",
       "      <td>WORKEXPOV</td>\n",
       "      <td>SNGL2CHLD</td>\n",
       "      <td>HR_AVEWAGE</td>\n",
       "      <td>A</td>\n",
       "      <td>2019</td>\n",
       "      <td>19</td>\n",
       "      <td>NaN</td>\n",
       "    </tr>\n",
       "    <tr>\n",
       "      <th>1</th>\n",
       "      <td>AUT</td>\n",
       "      <td>WORKEXPOV</td>\n",
       "      <td>SNGL2CHLD</td>\n",
       "      <td>HR_AVEWAGE</td>\n",
       "      <td>A</td>\n",
       "      <td>2020</td>\n",
       "      <td>20</td>\n",
       "      <td>NaN</td>\n",
       "    </tr>\n",
       "    <tr>\n",
       "      <th>2</th>\n",
       "      <td>AUT</td>\n",
       "      <td>WORKEXPOV</td>\n",
       "      <td>SNGL2CHLD</td>\n",
       "      <td>HR_AVEWAGE</td>\n",
       "      <td>A</td>\n",
       "      <td>2021</td>\n",
       "      <td>20</td>\n",
       "      <td>NaN</td>\n",
       "    </tr>\n",
       "    <tr>\n",
       "      <th>3</th>\n",
       "      <td>AUT</td>\n",
       "      <td>WORKEXPOV</td>\n",
       "      <td>SNGL2CHLD</td>\n",
       "      <td>HR_AVEWAGE</td>\n",
       "      <td>A</td>\n",
       "      <td>2022</td>\n",
       "      <td>21</td>\n",
       "      <td>NaN</td>\n",
       "    </tr>\n",
       "    <tr>\n",
       "      <th>4</th>\n",
       "      <td>AUT</td>\n",
       "      <td>WORKEXPOV</td>\n",
       "      <td>SNGLNOCHLD</td>\n",
       "      <td>HR_AVEWAGE</td>\n",
       "      <td>A</td>\n",
       "      <td>2019</td>\n",
       "      <td>14</td>\n",
       "      <td>NaN</td>\n",
       "    </tr>\n",
       "    <tr>\n",
       "      <th>...</th>\n",
       "      <td>...</td>\n",
       "      <td>...</td>\n",
       "      <td>...</td>\n",
       "      <td>...</td>\n",
       "      <td>...</td>\n",
       "      <td>...</td>\n",
       "      <td>...</td>\n",
       "      <td>...</td>\n",
       "    </tr>\n",
       "    <tr>\n",
       "      <th>227</th>\n",
       "      <td>OECD</td>\n",
       "      <td>WORKEXPOV</td>\n",
       "      <td>SNGL2CHLD</td>\n",
       "      <td>HR_AVEWAGE</td>\n",
       "      <td>A</td>\n",
       "      <td>2022</td>\n",
       "      <td>18</td>\n",
       "      <td>NaN</td>\n",
       "    </tr>\n",
       "    <tr>\n",
       "      <th>228</th>\n",
       "      <td>OECD</td>\n",
       "      <td>WORKEXPOV</td>\n",
       "      <td>SNGLNOCHLD</td>\n",
       "      <td>HR_AVEWAGE</td>\n",
       "      <td>A</td>\n",
       "      <td>2019</td>\n",
       "      <td>15</td>\n",
       "      <td>NaN</td>\n",
       "    </tr>\n",
       "    <tr>\n",
       "      <th>229</th>\n",
       "      <td>OECD</td>\n",
       "      <td>WORKEXPOV</td>\n",
       "      <td>SNGLNOCHLD</td>\n",
       "      <td>HR_AVEWAGE</td>\n",
       "      <td>A</td>\n",
       "      <td>2020</td>\n",
       "      <td>15</td>\n",
       "      <td>NaN</td>\n",
       "    </tr>\n",
       "    <tr>\n",
       "      <th>230</th>\n",
       "      <td>OECD</td>\n",
       "      <td>WORKEXPOV</td>\n",
       "      <td>SNGLNOCHLD</td>\n",
       "      <td>HR_AVEWAGE</td>\n",
       "      <td>A</td>\n",
       "      <td>2021</td>\n",
       "      <td>14</td>\n",
       "      <td>NaN</td>\n",
       "    </tr>\n",
       "    <tr>\n",
       "      <th>231</th>\n",
       "      <td>OECD</td>\n",
       "      <td>WORKEXPOV</td>\n",
       "      <td>SNGLNOCHLD</td>\n",
       "      <td>HR_AVEWAGE</td>\n",
       "      <td>A</td>\n",
       "      <td>2022</td>\n",
       "      <td>15</td>\n",
       "      <td>NaN</td>\n",
       "    </tr>\n",
       "  </tbody>\n",
       "</table>\n",
       "<p>232 rows × 8 columns</p>\n",
       "</div>"
      ],
      "text/plain": [
       "    LOCATION  INDICATOR     SUBJECT     MEASURE FREQUENCY  TIME  Value  \\\n",
       "0        AUT  WORKEXPOV   SNGL2CHLD  HR_AVEWAGE         A  2019     19   \n",
       "1        AUT  WORKEXPOV   SNGL2CHLD  HR_AVEWAGE         A  2020     20   \n",
       "2        AUT  WORKEXPOV   SNGL2CHLD  HR_AVEWAGE         A  2021     20   \n",
       "3        AUT  WORKEXPOV   SNGL2CHLD  HR_AVEWAGE         A  2022     21   \n",
       "4        AUT  WORKEXPOV  SNGLNOCHLD  HR_AVEWAGE         A  2019     14   \n",
       "..       ...        ...         ...         ...       ...   ...    ...   \n",
       "227     OECD  WORKEXPOV   SNGL2CHLD  HR_AVEWAGE         A  2022     18   \n",
       "228     OECD  WORKEXPOV  SNGLNOCHLD  HR_AVEWAGE         A  2019     15   \n",
       "229     OECD  WORKEXPOV  SNGLNOCHLD  HR_AVEWAGE         A  2020     15   \n",
       "230     OECD  WORKEXPOV  SNGLNOCHLD  HR_AVEWAGE         A  2021     14   \n",
       "231     OECD  WORKEXPOV  SNGLNOCHLD  HR_AVEWAGE         A  2022     15   \n",
       "\n",
       "     Flag Codes  \n",
       "0           NaN  \n",
       "1           NaN  \n",
       "2           NaN  \n",
       "3           NaN  \n",
       "4           NaN  \n",
       "..          ...  \n",
       "227         NaN  \n",
       "228         NaN  \n",
       "229         NaN  \n",
       "230         NaN  \n",
       "231         NaN  \n",
       "\n",
       "[232 rows x 8 columns]"
      ]
     },
     "execution_count": 124,
     "metadata": {},
     "output_type": "execute_result"
    }
   ],
   "source": [
    "df2\n",
    "# falls 50 Zeilen werden alle angezeigt \n",
    "#df.head() für begrenzte Anzeigen"
   ]
  },
  {
   "cell_type": "code",
   "execution_count": 125,
   "metadata": {},
   "outputs": [
    {
     "name": "stdout",
     "output_type": "stream",
     "text": [
      "<class 'pandas.core.frame.DataFrame'>\n",
      "RangeIndex: 232 entries, 0 to 231\n",
      "Data columns (total 8 columns):\n",
      " #   Column      Non-Null Count  Dtype  \n",
      "---  ------      --------------  -----  \n",
      " 0   LOCATION    232 non-null    object \n",
      " 1   INDICATOR   232 non-null    object \n",
      " 2   SUBJECT     232 non-null    object \n",
      " 3   MEASURE     232 non-null    object \n",
      " 4   FREQUENCY   232 non-null    object \n",
      " 5   TIME        232 non-null    int64  \n",
      " 6   Value       232 non-null    int64  \n",
      " 7   Flag Codes  0 non-null      float64\n",
      "dtypes: float64(1), int64(2), object(5)\n",
      "memory usage: 14.6+ KB\n"
     ]
    }
   ],
   "source": [
    "df2.info()"
   ]
  },
  {
   "cell_type": "markdown",
   "metadata": {},
   "source": [
    "### Eliminate Clutter"
   ]
  },
  {
   "cell_type": "code",
   "execution_count": 126,
   "metadata": {},
   "outputs": [],
   "source": [
    "df2.drop('FREQUENCY', axis=1, inplace=True)"
   ]
  },
  {
   "cell_type": "code",
   "execution_count": 127,
   "metadata": {},
   "outputs": [],
   "source": [
    "df2.drop('Flag Codes', axis=1, inplace=True)"
   ]
  },
  {
   "cell_type": "code",
   "execution_count": 128,
   "metadata": {},
   "outputs": [],
   "source": [
    "df2.drop('INDICATOR', axis=1, inplace=True)"
   ]
  },
  {
   "cell_type": "code",
   "execution_count": 129,
   "metadata": {},
   "outputs": [],
   "source": [
    "list_cat = ['LOCATION']\n",
    "df2 = df2.astype('category')"
   ]
  },
  {
   "cell_type": "code",
   "execution_count": 130,
   "metadata": {},
   "outputs": [],
   "source": [
    "df2['TIME'] = pd.to_datetime(df2['TIME'], format='%Y').dt.year"
   ]
  },
  {
   "cell_type": "code",
   "execution_count": 131,
   "metadata": {},
   "outputs": [],
   "source": [
    "df2.rename(columns={'Value': 'VALUE'}, inplace=True)"
   ]
  },
  {
   "cell_type": "code",
   "execution_count": 132,
   "metadata": {},
   "outputs": [],
   "source": [
    "df2['VALUE'] = df2['VALUE'].astype(int)"
   ]
  },
  {
   "cell_type": "code",
   "execution_count": 133,
   "metadata": {},
   "outputs": [
    {
     "name": "stdout",
     "output_type": "stream",
     "text": [
      "<class 'pandas.core.frame.DataFrame'>\n",
      "RangeIndex: 232 entries, 0 to 231\n",
      "Data columns (total 5 columns):\n",
      " #   Column    Non-Null Count  Dtype   \n",
      "---  ------    --------------  -----   \n",
      " 0   LOCATION  232 non-null    category\n",
      " 1   SUBJECT   232 non-null    category\n",
      " 2   MEASURE   232 non-null    category\n",
      " 3   TIME      232 non-null    int32   \n",
      " 4   VALUE     232 non-null    int64   \n",
      "dtypes: category(3), int32(1), int64(1)\n",
      "memory usage: 5.0 KB\n"
     ]
    }
   ],
   "source": [
    "df2.info()"
   ]
  },
  {
   "cell_type": "code",
   "execution_count": 134,
   "metadata": {},
   "outputs": [
    {
     "data": {
      "text/html": [
       "<div>\n",
       "<style scoped>\n",
       "    .dataframe tbody tr th:only-of-type {\n",
       "        vertical-align: middle;\n",
       "    }\n",
       "\n",
       "    .dataframe tbody tr th {\n",
       "        vertical-align: top;\n",
       "    }\n",
       "\n",
       "    .dataframe thead th {\n",
       "        text-align: right;\n",
       "    }\n",
       "</style>\n",
       "<table border=\"1\" class=\"dataframe\">\n",
       "  <thead>\n",
       "    <tr style=\"text-align: right;\">\n",
       "      <th></th>\n",
       "      <th>LOCATION</th>\n",
       "      <th>SUBJECT</th>\n",
       "      <th>MEASURE</th>\n",
       "      <th>TIME</th>\n",
       "      <th>VALUE</th>\n",
       "    </tr>\n",
       "  </thead>\n",
       "  <tbody>\n",
       "    <tr>\n",
       "      <th>48</th>\n",
       "      <td>DEU</td>\n",
       "      <td>SNGL2CHLD</td>\n",
       "      <td>HR_AVEWAGE</td>\n",
       "      <td>2019</td>\n",
       "      <td>12</td>\n",
       "    </tr>\n",
       "    <tr>\n",
       "      <th>49</th>\n",
       "      <td>DEU</td>\n",
       "      <td>SNGL2CHLD</td>\n",
       "      <td>HR_AVEWAGE</td>\n",
       "      <td>2020</td>\n",
       "      <td>9</td>\n",
       "    </tr>\n",
       "    <tr>\n",
       "      <th>50</th>\n",
       "      <td>DEU</td>\n",
       "      <td>SNGL2CHLD</td>\n",
       "      <td>HR_AVEWAGE</td>\n",
       "      <td>2021</td>\n",
       "      <td>9</td>\n",
       "    </tr>\n",
       "    <tr>\n",
       "      <th>51</th>\n",
       "      <td>DEU</td>\n",
       "      <td>SNGL2CHLD</td>\n",
       "      <td>HR_AVEWAGE</td>\n",
       "      <td>2022</td>\n",
       "      <td>10</td>\n",
       "    </tr>\n",
       "    <tr>\n",
       "      <th>52</th>\n",
       "      <td>DEU</td>\n",
       "      <td>SNGLNOCHLD</td>\n",
       "      <td>HR_AVEWAGE</td>\n",
       "      <td>2019</td>\n",
       "      <td>13</td>\n",
       "    </tr>\n",
       "    <tr>\n",
       "      <th>53</th>\n",
       "      <td>DEU</td>\n",
       "      <td>SNGLNOCHLD</td>\n",
       "      <td>HR_AVEWAGE</td>\n",
       "      <td>2020</td>\n",
       "      <td>13</td>\n",
       "    </tr>\n",
       "    <tr>\n",
       "      <th>54</th>\n",
       "      <td>DEU</td>\n",
       "      <td>SNGLNOCHLD</td>\n",
       "      <td>HR_AVEWAGE</td>\n",
       "      <td>2021</td>\n",
       "      <td>13</td>\n",
       "    </tr>\n",
       "    <tr>\n",
       "      <th>55</th>\n",
       "      <td>DEU</td>\n",
       "      <td>SNGLNOCHLD</td>\n",
       "      <td>HR_AVEWAGE</td>\n",
       "      <td>2022</td>\n",
       "      <td>13</td>\n",
       "    </tr>\n",
       "    <tr>\n",
       "      <th>144</th>\n",
       "      <td>GBR</td>\n",
       "      <td>SNGL2CHLD</td>\n",
       "      <td>HR_AVEWAGE</td>\n",
       "      <td>2019</td>\n",
       "      <td>5</td>\n",
       "    </tr>\n",
       "    <tr>\n",
       "      <th>145</th>\n",
       "      <td>GBR</td>\n",
       "      <td>SNGL2CHLD</td>\n",
       "      <td>HR_AVEWAGE</td>\n",
       "      <td>2020</td>\n",
       "      <td>4</td>\n",
       "    </tr>\n",
       "    <tr>\n",
       "      <th>146</th>\n",
       "      <td>GBR</td>\n",
       "      <td>SNGL2CHLD</td>\n",
       "      <td>HR_AVEWAGE</td>\n",
       "      <td>2021</td>\n",
       "      <td>4</td>\n",
       "    </tr>\n",
       "    <tr>\n",
       "      <th>147</th>\n",
       "      <td>GBR</td>\n",
       "      <td>SNGL2CHLD</td>\n",
       "      <td>HR_AVEWAGE</td>\n",
       "      <td>2022</td>\n",
       "      <td>6</td>\n",
       "    </tr>\n",
       "    <tr>\n",
       "      <th>148</th>\n",
       "      <td>GBR</td>\n",
       "      <td>SNGLNOCHLD</td>\n",
       "      <td>HR_AVEWAGE</td>\n",
       "      <td>2019</td>\n",
       "      <td>10</td>\n",
       "    </tr>\n",
       "    <tr>\n",
       "      <th>149</th>\n",
       "      <td>GBR</td>\n",
       "      <td>SNGLNOCHLD</td>\n",
       "      <td>HR_AVEWAGE</td>\n",
       "      <td>2020</td>\n",
       "      <td>10</td>\n",
       "    </tr>\n",
       "    <tr>\n",
       "      <th>150</th>\n",
       "      <td>GBR</td>\n",
       "      <td>SNGLNOCHLD</td>\n",
       "      <td>HR_AVEWAGE</td>\n",
       "      <td>2021</td>\n",
       "      <td>10</td>\n",
       "    </tr>\n",
       "    <tr>\n",
       "      <th>151</th>\n",
       "      <td>GBR</td>\n",
       "      <td>SNGLNOCHLD</td>\n",
       "      <td>HR_AVEWAGE</td>\n",
       "      <td>2022</td>\n",
       "      <td>10</td>\n",
       "    </tr>\n",
       "    <tr>\n",
       "      <th>224</th>\n",
       "      <td>OECD</td>\n",
       "      <td>SNGL2CHLD</td>\n",
       "      <td>HR_AVEWAGE</td>\n",
       "      <td>2019</td>\n",
       "      <td>16</td>\n",
       "    </tr>\n",
       "    <tr>\n",
       "      <th>225</th>\n",
       "      <td>OECD</td>\n",
       "      <td>SNGL2CHLD</td>\n",
       "      <td>HR_AVEWAGE</td>\n",
       "      <td>2020</td>\n",
       "      <td>17</td>\n",
       "    </tr>\n",
       "    <tr>\n",
       "      <th>226</th>\n",
       "      <td>OECD</td>\n",
       "      <td>SNGL2CHLD</td>\n",
       "      <td>HR_AVEWAGE</td>\n",
       "      <td>2021</td>\n",
       "      <td>17</td>\n",
       "    </tr>\n",
       "    <tr>\n",
       "      <th>227</th>\n",
       "      <td>OECD</td>\n",
       "      <td>SNGL2CHLD</td>\n",
       "      <td>HR_AVEWAGE</td>\n",
       "      <td>2022</td>\n",
       "      <td>18</td>\n",
       "    </tr>\n",
       "    <tr>\n",
       "      <th>228</th>\n",
       "      <td>OECD</td>\n",
       "      <td>SNGLNOCHLD</td>\n",
       "      <td>HR_AVEWAGE</td>\n",
       "      <td>2019</td>\n",
       "      <td>15</td>\n",
       "    </tr>\n",
       "    <tr>\n",
       "      <th>229</th>\n",
       "      <td>OECD</td>\n",
       "      <td>SNGLNOCHLD</td>\n",
       "      <td>HR_AVEWAGE</td>\n",
       "      <td>2020</td>\n",
       "      <td>15</td>\n",
       "    </tr>\n",
       "    <tr>\n",
       "      <th>230</th>\n",
       "      <td>OECD</td>\n",
       "      <td>SNGLNOCHLD</td>\n",
       "      <td>HR_AVEWAGE</td>\n",
       "      <td>2021</td>\n",
       "      <td>14</td>\n",
       "    </tr>\n",
       "    <tr>\n",
       "      <th>231</th>\n",
       "      <td>OECD</td>\n",
       "      <td>SNGLNOCHLD</td>\n",
       "      <td>HR_AVEWAGE</td>\n",
       "      <td>2022</td>\n",
       "      <td>15</td>\n",
       "    </tr>\n",
       "  </tbody>\n",
       "</table>\n",
       "</div>"
      ],
      "text/plain": [
       "    LOCATION     SUBJECT     MEASURE  TIME  VALUE\n",
       "48       DEU   SNGL2CHLD  HR_AVEWAGE  2019     12\n",
       "49       DEU   SNGL2CHLD  HR_AVEWAGE  2020      9\n",
       "50       DEU   SNGL2CHLD  HR_AVEWAGE  2021      9\n",
       "51       DEU   SNGL2CHLD  HR_AVEWAGE  2022     10\n",
       "52       DEU  SNGLNOCHLD  HR_AVEWAGE  2019     13\n",
       "53       DEU  SNGLNOCHLD  HR_AVEWAGE  2020     13\n",
       "54       DEU  SNGLNOCHLD  HR_AVEWAGE  2021     13\n",
       "55       DEU  SNGLNOCHLD  HR_AVEWAGE  2022     13\n",
       "144      GBR   SNGL2CHLD  HR_AVEWAGE  2019      5\n",
       "145      GBR   SNGL2CHLD  HR_AVEWAGE  2020      4\n",
       "146      GBR   SNGL2CHLD  HR_AVEWAGE  2021      4\n",
       "147      GBR   SNGL2CHLD  HR_AVEWAGE  2022      6\n",
       "148      GBR  SNGLNOCHLD  HR_AVEWAGE  2019     10\n",
       "149      GBR  SNGLNOCHLD  HR_AVEWAGE  2020     10\n",
       "150      GBR  SNGLNOCHLD  HR_AVEWAGE  2021     10\n",
       "151      GBR  SNGLNOCHLD  HR_AVEWAGE  2022     10\n",
       "224     OECD   SNGL2CHLD  HR_AVEWAGE  2019     16\n",
       "225     OECD   SNGL2CHLD  HR_AVEWAGE  2020     17\n",
       "226     OECD   SNGL2CHLD  HR_AVEWAGE  2021     17\n",
       "227     OECD   SNGL2CHLD  HR_AVEWAGE  2022     18\n",
       "228     OECD  SNGLNOCHLD  HR_AVEWAGE  2019     15\n",
       "229     OECD  SNGLNOCHLD  HR_AVEWAGE  2020     15\n",
       "230     OECD  SNGLNOCHLD  HR_AVEWAGE  2021     14\n",
       "231     OECD  SNGLNOCHLD  HR_AVEWAGE  2022     15"
      ]
     },
     "execution_count": 134,
     "metadata": {},
     "output_type": "execute_result"
    }
   ],
   "source": [
    "df2_selectedlocations = df2[df2['LOCATION'].isin(['OECD', 'EU28', 'DEU', 'GBR'])]\n",
    "\n",
    "df2_selectedlocations"
   ]
  },
  {
   "cell_type": "code",
   "execution_count": 135,
   "metadata": {},
   "outputs": [
    {
     "data": {
      "text/plain": [
       "LOCATION    24\n",
       "SUBJECT     24\n",
       "MEASURE     24\n",
       "TIME        24\n",
       "VALUE       24\n",
       "dtype: int64"
      ]
     },
     "execution_count": 135,
     "metadata": {},
     "output_type": "execute_result"
    }
   ],
   "source": [
    "df2_selectedlocations.count()"
   ]
  },
  {
   "cell_type": "code",
   "execution_count": 136,
   "metadata": {},
   "outputs": [
    {
     "name": "stdout",
     "output_type": "stream",
     "text": [
      "<class 'pandas.core.frame.DataFrame'>\n",
      "Index: 24 entries, 48 to 231\n",
      "Data columns (total 5 columns):\n",
      " #   Column    Non-Null Count  Dtype   \n",
      "---  ------    --------------  -----   \n",
      " 0   LOCATION  24 non-null     category\n",
      " 1   SUBJECT   24 non-null     category\n",
      " 2   MEASURE   24 non-null     category\n",
      " 3   TIME      24 non-null     int32   \n",
      " 4   VALUE     24 non-null     int64   \n",
      "dtypes: category(3), int32(1), int64(1)\n",
      "memory usage: 2.0 KB\n"
     ]
    }
   ],
   "source": [
    "df2_selectedlocations.info()"
   ]
  },
  {
   "cell_type": "markdown",
   "metadata": {},
   "source": [
    "### Show different Dimensions of Data: Subject and Measure"
   ]
  },
  {
   "cell_type": "code",
   "execution_count": 137,
   "metadata": {},
   "outputs": [
    {
     "data": {
      "text/plain": [
       "48      DEU\n",
       "49      DEU\n",
       "50      DEU\n",
       "51      DEU\n",
       "52      DEU\n",
       "53      DEU\n",
       "54      DEU\n",
       "55      DEU\n",
       "144     GBR\n",
       "145     GBR\n",
       "146     GBR\n",
       "147     GBR\n",
       "148     GBR\n",
       "149     GBR\n",
       "150     GBR\n",
       "151     GBR\n",
       "224    OECD\n",
       "225    OECD\n",
       "226    OECD\n",
       "227    OECD\n",
       "228    OECD\n",
       "229    OECD\n",
       "230    OECD\n",
       "231    OECD\n",
       "Name: LOCATION, dtype: category\n",
       "Categories (29, object): ['AUT', 'BEL', 'BGR', 'CYP', ..., 'ROU', 'SVK', 'SVN', 'SWE']"
      ]
     },
     "execution_count": 137,
     "metadata": {},
     "output_type": "execute_result"
    }
   ],
   "source": [
    "# Warum fehlt \n",
    "df2_selectedlocations['LOCATION']"
   ]
  },
  {
   "cell_type": "code",
   "execution_count": 138,
   "metadata": {},
   "outputs": [
    {
     "data": {
      "text/plain": [
       "SUBJECT\n",
       "SNGL2CHLD     116\n",
       "SNGLNOCHLD    116\n",
       "Name: count, dtype: int64"
      ]
     },
     "execution_count": 138,
     "metadata": {},
     "output_type": "execute_result"
    }
   ],
   "source": [
    "df2['SUBJECT'].value_counts()\n"
   ]
  },
  {
   "cell_type": "code",
   "execution_count": 139,
   "metadata": {},
   "outputs": [
    {
     "data": {
      "text/plain": [
       "SUBJECT\n",
       "SNGL2CHLD     12\n",
       "SNGLNOCHLD    12\n",
       "Name: count, dtype: int64"
      ]
     },
     "execution_count": 139,
     "metadata": {},
     "output_type": "execute_result"
    }
   ],
   "source": [
    "df2_selectedlocations['SUBJECT'].value_counts()"
   ]
  },
  {
   "cell_type": "code",
   "execution_count": 140,
   "metadata": {},
   "outputs": [
    {
     "data": {
      "text/plain": [
       "MEASURE\n",
       "HR_AVEWAGE    232\n",
       "Name: count, dtype: int64"
      ]
     },
     "execution_count": 140,
     "metadata": {},
     "output_type": "execute_result"
    }
   ],
   "source": [
    "df2['MEASURE'].value_counts()"
   ]
  },
  {
   "cell_type": "code",
   "execution_count": 141,
   "metadata": {},
   "outputs": [
    {
     "data": {
      "text/plain": [
       "MEASURE\n",
       "HR_AVEWAGE    24\n",
       "Name: count, dtype: int64"
      ]
     },
     "execution_count": 141,
     "metadata": {},
     "output_type": "execute_result"
    }
   ],
   "source": [
    "df2_selectedlocations['MEASURE'].value_counts()"
   ]
  },
  {
   "cell_type": "code",
   "execution_count": 142,
   "metadata": {},
   "outputs": [
    {
     "name": "stderr",
     "output_type": "stream",
     "text": [
      "/var/folders/cg/s479mj155734fxg40v_64y4r0000gn/T/ipykernel_8437/1367789694.py:1: SettingWithCopyWarning: \n",
      "A value is trying to be set on a copy of a slice from a DataFrame\n",
      "\n",
      "See the caveats in the documentation: https://pandas.pydata.org/pandas-docs/stable/user_guide/indexing.html#returning-a-view-versus-a-copy\n",
      "  df2_selectedlocations['LOCATION'].replace({'EU27': 'European Union', 'DEU': 'Germany', 'GBR': 'United Kingdom'}, inplace=True)\n"
     ]
    }
   ],
   "source": [
    "df2_selectedlocations['LOCATION'].replace({'EU27': 'European Union', 'DEU': 'Germany', 'GBR': 'United Kingdom'}, inplace=True)"
   ]
  },
  {
   "cell_type": "code",
   "execution_count": 143,
   "metadata": {},
   "outputs": [
    {
     "name": "stderr",
     "output_type": "stream",
     "text": [
      "/var/folders/cg/s479mj155734fxg40v_64y4r0000gn/T/ipykernel_8437/2072630289.py:1: SettingWithCopyWarning: \n",
      "A value is trying to be set on a copy of a slice from a DataFrame\n",
      "\n",
      "See the caveats in the documentation: https://pandas.pydata.org/pandas-docs/stable/user_guide/indexing.html#returning-a-view-versus-a-copy\n",
      "  df2_selectedlocations['SUBJECT'].replace({'SNGL2CHLD': '2 CHILDREN', 'SNGLNOCHLD': 'NO CHILDREN'}, inplace=True)\n"
     ]
    }
   ],
   "source": [
    "df2_selectedlocations['SUBJECT'].replace({'SNGL2CHLD': '2 CHILDREN', 'SNGLNOCHLD': 'NO CHILDREN'}, inplace=True)"
   ]
  },
  {
   "cell_type": "markdown",
   "metadata": {},
   "source": [
    "### Data Exploration\n",
    "\n"
   ]
  },
  {
   "cell_type": "code",
   "execution_count": 144,
   "metadata": {},
   "outputs": [
    {
     "data": {
      "text/plain": [
       "Scale({\n",
       "  range: ['#003f5c', '#58508d', '#bc5090', '#ff6361', '#ffa600']\n",
       "})"
      ]
     },
     "execution_count": 144,
     "metadata": {},
     "output_type": "execute_result"
    }
   ],
   "source": [
    "#Color Scale\n",
    "\n",
    "colors = alt.Scale(\n",
    "    range=['#003f5c','#58508d','#bc5090','#ff6361','#ffa600']\n",
    ")\n",
    "colors"
   ]
  },
  {
   "cell_type": "code",
   "execution_count": 145,
   "metadata": {},
   "outputs": [
    {
     "data": {
      "text/html": [
       "\n",
       "<style>\n",
       "  #altair-viz-b3e5e3ec75be4389b7bc6135216f6046.vega-embed {\n",
       "    width: 100%;\n",
       "    display: flex;\n",
       "  }\n",
       "\n",
       "  #altair-viz-b3e5e3ec75be4389b7bc6135216f6046.vega-embed details,\n",
       "  #altair-viz-b3e5e3ec75be4389b7bc6135216f6046.vega-embed details summary {\n",
       "    position: relative;\n",
       "  }\n",
       "</style>\n",
       "<div id=\"altair-viz-b3e5e3ec75be4389b7bc6135216f6046\"></div>\n",
       "<script type=\"text/javascript\">\n",
       "  var VEGA_DEBUG = (typeof VEGA_DEBUG == \"undefined\") ? {} : VEGA_DEBUG;\n",
       "  (function(spec, embedOpt){\n",
       "    let outputDiv = document.currentScript.previousElementSibling;\n",
       "    if (outputDiv.id !== \"altair-viz-b3e5e3ec75be4389b7bc6135216f6046\") {\n",
       "      outputDiv = document.getElementById(\"altair-viz-b3e5e3ec75be4389b7bc6135216f6046\");\n",
       "    }\n",
       "    const paths = {\n",
       "      \"vega\": \"https://cdn.jsdelivr.net/npm/vega@5?noext\",\n",
       "      \"vega-lib\": \"https://cdn.jsdelivr.net/npm/vega-lib?noext\",\n",
       "      \"vega-lite\": \"https://cdn.jsdelivr.net/npm/vega-lite@5.15.1?noext\",\n",
       "      \"vega-embed\": \"https://cdn.jsdelivr.net/npm/vega-embed@6?noext\",\n",
       "    };\n",
       "\n",
       "    function maybeLoadScript(lib, version) {\n",
       "      var key = `${lib.replace(\"-\", \"\")}_version`;\n",
       "      return (VEGA_DEBUG[key] == version) ?\n",
       "        Promise.resolve(paths[lib]) :\n",
       "        new Promise(function(resolve, reject) {\n",
       "          var s = document.createElement('script');\n",
       "          document.getElementsByTagName(\"head\")[0].appendChild(s);\n",
       "          s.async = true;\n",
       "          s.onload = () => {\n",
       "            VEGA_DEBUG[key] = version;\n",
       "            return resolve(paths[lib]);\n",
       "          };\n",
       "          s.onerror = () => reject(`Error loading script: ${paths[lib]}`);\n",
       "          s.src = paths[lib];\n",
       "        });\n",
       "    }\n",
       "\n",
       "    function showError(err) {\n",
       "      outputDiv.innerHTML = `<div class=\"error\" style=\"color:red;\">${err}</div>`;\n",
       "      throw err;\n",
       "    }\n",
       "\n",
       "    function displayChart(vegaEmbed) {\n",
       "      vegaEmbed(outputDiv, spec, embedOpt)\n",
       "        .catch(err => showError(`Javascript Error: ${err.message}<br>This usually means there's a typo in your chart specification. See the javascript console for the full traceback.`));\n",
       "    }\n",
       "\n",
       "    if(typeof define === \"function\" && define.amd) {\n",
       "      requirejs.config({paths});\n",
       "      require([\"vega-embed\"], displayChart, err => showError(`Error loading script: ${err.message}`));\n",
       "    } else {\n",
       "      maybeLoadScript(\"vega\", \"5\")\n",
       "        .then(() => maybeLoadScript(\"vega-lite\", \"5.15.1\"))\n",
       "        .then(() => maybeLoadScript(\"vega-embed\", \"6\"))\n",
       "        .catch(showError)\n",
       "        .then(() => displayChart(vegaEmbed));\n",
       "    }\n",
       "  })({\"config\": {\"view\": {\"continuousWidth\": 300, \"continuousHeight\": 300}}, \"data\": {\"name\": \"data-7ac37f8d3de7093f73c28ba21ddf0d3e\"}, \"mark\": {\"type\": \"bar\"}, \"encoding\": {\"color\": {\"field\": \"SUBJECT\", \"scale\": {\"range\": [\"#003f5c\", \"#58508d\", \"#bc5090\", \"#ff6361\", \"#ffa600\"]}, \"type\": \"nominal\"}, \"x\": {\"axis\": {\"grid\": false, \"labelAngle\": 0}, \"field\": \"LOCATION\", \"title\": \"Location\", \"type\": \"nominal\"}, \"y\": {\"axis\": {\"grid\": false}, \"field\": \"VALUE\", \"title\": \"Value\", \"type\": \"quantitative\"}}, \"height\": 400, \"title\": \"Distribution Chart\", \"width\": 600, \"$schema\": \"https://vega.github.io/schema/vega-lite/v5.15.1.json\", \"datasets\": {\"data-7ac37f8d3de7093f73c28ba21ddf0d3e\": [{\"LOCATION\": \"Germany\", \"SUBJECT\": \"2 CHILDREN\", \"MEASURE\": \"HR_AVEWAGE\", \"TIME\": 2019, \"VALUE\": 12}, {\"LOCATION\": \"Germany\", \"SUBJECT\": \"2 CHILDREN\", \"MEASURE\": \"HR_AVEWAGE\", \"TIME\": 2020, \"VALUE\": 9}, {\"LOCATION\": \"Germany\", \"SUBJECT\": \"2 CHILDREN\", \"MEASURE\": \"HR_AVEWAGE\", \"TIME\": 2021, \"VALUE\": 9}, {\"LOCATION\": \"Germany\", \"SUBJECT\": \"2 CHILDREN\", \"MEASURE\": \"HR_AVEWAGE\", \"TIME\": 2022, \"VALUE\": 10}, {\"LOCATION\": \"Germany\", \"SUBJECT\": \"NO CHILDREN\", \"MEASURE\": \"HR_AVEWAGE\", \"TIME\": 2019, \"VALUE\": 13}, {\"LOCATION\": \"Germany\", \"SUBJECT\": \"NO CHILDREN\", \"MEASURE\": \"HR_AVEWAGE\", \"TIME\": 2020, \"VALUE\": 13}, {\"LOCATION\": \"Germany\", \"SUBJECT\": \"NO CHILDREN\", \"MEASURE\": \"HR_AVEWAGE\", \"TIME\": 2021, \"VALUE\": 13}, {\"LOCATION\": \"Germany\", \"SUBJECT\": \"NO CHILDREN\", \"MEASURE\": \"HR_AVEWAGE\", \"TIME\": 2022, \"VALUE\": 13}, {\"LOCATION\": \"United Kingdom\", \"SUBJECT\": \"2 CHILDREN\", \"MEASURE\": \"HR_AVEWAGE\", \"TIME\": 2019, \"VALUE\": 5}, {\"LOCATION\": \"United Kingdom\", \"SUBJECT\": \"2 CHILDREN\", \"MEASURE\": \"HR_AVEWAGE\", \"TIME\": 2020, \"VALUE\": 4}, {\"LOCATION\": \"United Kingdom\", \"SUBJECT\": \"2 CHILDREN\", \"MEASURE\": \"HR_AVEWAGE\", \"TIME\": 2021, \"VALUE\": 4}, {\"LOCATION\": \"United Kingdom\", \"SUBJECT\": \"2 CHILDREN\", \"MEASURE\": \"HR_AVEWAGE\", \"TIME\": 2022, \"VALUE\": 6}, {\"LOCATION\": \"United Kingdom\", \"SUBJECT\": \"NO CHILDREN\", \"MEASURE\": \"HR_AVEWAGE\", \"TIME\": 2019, \"VALUE\": 10}, {\"LOCATION\": \"United Kingdom\", \"SUBJECT\": \"NO CHILDREN\", \"MEASURE\": \"HR_AVEWAGE\", \"TIME\": 2020, \"VALUE\": 10}, {\"LOCATION\": \"United Kingdom\", \"SUBJECT\": \"NO CHILDREN\", \"MEASURE\": \"HR_AVEWAGE\", \"TIME\": 2021, \"VALUE\": 10}, {\"LOCATION\": \"United Kingdom\", \"SUBJECT\": \"NO CHILDREN\", \"MEASURE\": \"HR_AVEWAGE\", \"TIME\": 2022, \"VALUE\": 10}, {\"LOCATION\": \"OECD\", \"SUBJECT\": \"2 CHILDREN\", \"MEASURE\": \"HR_AVEWAGE\", \"TIME\": 2019, \"VALUE\": 16}, {\"LOCATION\": \"OECD\", \"SUBJECT\": \"2 CHILDREN\", \"MEASURE\": \"HR_AVEWAGE\", \"TIME\": 2020, \"VALUE\": 17}, {\"LOCATION\": \"OECD\", \"SUBJECT\": \"2 CHILDREN\", \"MEASURE\": \"HR_AVEWAGE\", \"TIME\": 2021, \"VALUE\": 17}, {\"LOCATION\": \"OECD\", \"SUBJECT\": \"2 CHILDREN\", \"MEASURE\": \"HR_AVEWAGE\", \"TIME\": 2022, \"VALUE\": 18}, {\"LOCATION\": \"OECD\", \"SUBJECT\": \"NO CHILDREN\", \"MEASURE\": \"HR_AVEWAGE\", \"TIME\": 2019, \"VALUE\": 15}, {\"LOCATION\": \"OECD\", \"SUBJECT\": \"NO CHILDREN\", \"MEASURE\": \"HR_AVEWAGE\", \"TIME\": 2020, \"VALUE\": 15}, {\"LOCATION\": \"OECD\", \"SUBJECT\": \"NO CHILDREN\", \"MEASURE\": \"HR_AVEWAGE\", \"TIME\": 2021, \"VALUE\": 14}, {\"LOCATION\": \"OECD\", \"SUBJECT\": \"NO CHILDREN\", \"MEASURE\": \"HR_AVEWAGE\", \"TIME\": 2022, \"VALUE\": 15}]}}, {\"mode\": \"vega-lite\"});\n",
       "</script>"
      ],
      "text/plain": [
       "alt.Chart(...)"
      ]
     },
     "execution_count": 145,
     "metadata": {},
     "output_type": "execute_result"
    }
   ],
   "source": [
    "alt.Chart(df2_selectedlocations).mark_bar().encode(\n",
    "    x=alt.X('LOCATION:N', title='Location').axis(\n",
    "        grid=False,\n",
    "        labelAngle=-0,\n",
    "    ),\n",
    "    y=alt.Y('VALUE:Q', title='Value').axis(\n",
    "        grid=False\n",
    "    ),\n",
    "    #tooltip='SUBJECT:N',\n",
    "    color=alt.Color('SUBJECT', scale=colors),\n",
    ").properties(\n",
    "    title='Distribution Chart',\n",
    "    width=600,\n",
    "    height=400\n",
    ")"
   ]
  },
  {
   "cell_type": "code",
   "execution_count": 146,
   "metadata": {},
   "outputs": [
    {
     "data": {
      "text/html": [
       "\n",
       "<style>\n",
       "  #altair-viz-40bbf2e2234c450998ebcf871d5ce50b.vega-embed {\n",
       "    width: 100%;\n",
       "    display: flex;\n",
       "  }\n",
       "\n",
       "  #altair-viz-40bbf2e2234c450998ebcf871d5ce50b.vega-embed details,\n",
       "  #altair-viz-40bbf2e2234c450998ebcf871d5ce50b.vega-embed details summary {\n",
       "    position: relative;\n",
       "  }\n",
       "</style>\n",
       "<div id=\"altair-viz-40bbf2e2234c450998ebcf871d5ce50b\"></div>\n",
       "<script type=\"text/javascript\">\n",
       "  var VEGA_DEBUG = (typeof VEGA_DEBUG == \"undefined\") ? {} : VEGA_DEBUG;\n",
       "  (function(spec, embedOpt){\n",
       "    let outputDiv = document.currentScript.previousElementSibling;\n",
       "    if (outputDiv.id !== \"altair-viz-40bbf2e2234c450998ebcf871d5ce50b\") {\n",
       "      outputDiv = document.getElementById(\"altair-viz-40bbf2e2234c450998ebcf871d5ce50b\");\n",
       "    }\n",
       "    const paths = {\n",
       "      \"vega\": \"https://cdn.jsdelivr.net/npm/vega@5?noext\",\n",
       "      \"vega-lib\": \"https://cdn.jsdelivr.net/npm/vega-lib?noext\",\n",
       "      \"vega-lite\": \"https://cdn.jsdelivr.net/npm/vega-lite@5.15.1?noext\",\n",
       "      \"vega-embed\": \"https://cdn.jsdelivr.net/npm/vega-embed@6?noext\",\n",
       "    };\n",
       "\n",
       "    function maybeLoadScript(lib, version) {\n",
       "      var key = `${lib.replace(\"-\", \"\")}_version`;\n",
       "      return (VEGA_DEBUG[key] == version) ?\n",
       "        Promise.resolve(paths[lib]) :\n",
       "        new Promise(function(resolve, reject) {\n",
       "          var s = document.createElement('script');\n",
       "          document.getElementsByTagName(\"head\")[0].appendChild(s);\n",
       "          s.async = true;\n",
       "          s.onload = () => {\n",
       "            VEGA_DEBUG[key] = version;\n",
       "            return resolve(paths[lib]);\n",
       "          };\n",
       "          s.onerror = () => reject(`Error loading script: ${paths[lib]}`);\n",
       "          s.src = paths[lib];\n",
       "        });\n",
       "    }\n",
       "\n",
       "    function showError(err) {\n",
       "      outputDiv.innerHTML = `<div class=\"error\" style=\"color:red;\">${err}</div>`;\n",
       "      throw err;\n",
       "    }\n",
       "\n",
       "    function displayChart(vegaEmbed) {\n",
       "      vegaEmbed(outputDiv, spec, embedOpt)\n",
       "        .catch(err => showError(`Javascript Error: ${err.message}<br>This usually means there's a typo in your chart specification. See the javascript console for the full traceback.`));\n",
       "    }\n",
       "\n",
       "    if(typeof define === \"function\" && define.amd) {\n",
       "      requirejs.config({paths});\n",
       "      require([\"vega-embed\"], displayChart, err => showError(`Error loading script: ${err.message}`));\n",
       "    } else {\n",
       "      maybeLoadScript(\"vega\", \"5\")\n",
       "        .then(() => maybeLoadScript(\"vega-lite\", \"5.15.1\"))\n",
       "        .then(() => maybeLoadScript(\"vega-embed\", \"6\"))\n",
       "        .catch(showError)\n",
       "        .then(() => displayChart(vegaEmbed));\n",
       "    }\n",
       "  })({\"config\": {\"view\": {\"continuousWidth\": 300, \"continuousHeight\": 300, \"strokeWidth\": 0}, \"title\": {\"anchor\": \"start\", \"color\": \"black\", \"font\": \"Arial\", \"fontSize\": 20}}, \"data\": {\"name\": \"data-7ac37f8d3de7093f73c28ba21ddf0d3e\"}, \"mark\": {\"type\": \"bar\"}, \"encoding\": {\"color\": {\"field\": \"SUBJECT\", \"scale\": {\"range\": [\"#003f5c\", \"#58508d\", \"#bc5090\", \"#ff6361\", \"#ffa600\"]}, \"type\": \"nominal\"}, \"x\": {\"axis\": {\"title\": \"Location\", \"titleAnchor\": \"end\", \"grid\": false, \"labelAngle\": 0}, \"field\": \"LOCATION\", \"sort\": \"-y\", \"type\": \"nominal\"}, \"y\": {\"axis\": {\"title\": \"Hours needed to exit poverty\", \"titleAnchor\": \"end\", \"grid\": false, \"labelAngle\": 0}, \"field\": \"VALUE\", \"type\": \"quantitative\"}}, \"height\": 300, \"title\": \"Bar Chart\", \"width\": 1000, \"$schema\": \"https://vega.github.io/schema/vega-lite/v5.15.1.json\", \"datasets\": {\"data-7ac37f8d3de7093f73c28ba21ddf0d3e\": [{\"LOCATION\": \"Germany\", \"SUBJECT\": \"2 CHILDREN\", \"MEASURE\": \"HR_AVEWAGE\", \"TIME\": 2019, \"VALUE\": 12}, {\"LOCATION\": \"Germany\", \"SUBJECT\": \"2 CHILDREN\", \"MEASURE\": \"HR_AVEWAGE\", \"TIME\": 2020, \"VALUE\": 9}, {\"LOCATION\": \"Germany\", \"SUBJECT\": \"2 CHILDREN\", \"MEASURE\": \"HR_AVEWAGE\", \"TIME\": 2021, \"VALUE\": 9}, {\"LOCATION\": \"Germany\", \"SUBJECT\": \"2 CHILDREN\", \"MEASURE\": \"HR_AVEWAGE\", \"TIME\": 2022, \"VALUE\": 10}, {\"LOCATION\": \"Germany\", \"SUBJECT\": \"NO CHILDREN\", \"MEASURE\": \"HR_AVEWAGE\", \"TIME\": 2019, \"VALUE\": 13}, {\"LOCATION\": \"Germany\", \"SUBJECT\": \"NO CHILDREN\", \"MEASURE\": \"HR_AVEWAGE\", \"TIME\": 2020, \"VALUE\": 13}, {\"LOCATION\": \"Germany\", \"SUBJECT\": \"NO CHILDREN\", \"MEASURE\": \"HR_AVEWAGE\", \"TIME\": 2021, \"VALUE\": 13}, {\"LOCATION\": \"Germany\", \"SUBJECT\": \"NO CHILDREN\", \"MEASURE\": \"HR_AVEWAGE\", \"TIME\": 2022, \"VALUE\": 13}, {\"LOCATION\": \"United Kingdom\", \"SUBJECT\": \"2 CHILDREN\", \"MEASURE\": \"HR_AVEWAGE\", \"TIME\": 2019, \"VALUE\": 5}, {\"LOCATION\": \"United Kingdom\", \"SUBJECT\": \"2 CHILDREN\", \"MEASURE\": \"HR_AVEWAGE\", \"TIME\": 2020, \"VALUE\": 4}, {\"LOCATION\": \"United Kingdom\", \"SUBJECT\": \"2 CHILDREN\", \"MEASURE\": \"HR_AVEWAGE\", \"TIME\": 2021, \"VALUE\": 4}, {\"LOCATION\": \"United Kingdom\", \"SUBJECT\": \"2 CHILDREN\", \"MEASURE\": \"HR_AVEWAGE\", \"TIME\": 2022, \"VALUE\": 6}, {\"LOCATION\": \"United Kingdom\", \"SUBJECT\": \"NO CHILDREN\", \"MEASURE\": \"HR_AVEWAGE\", \"TIME\": 2019, \"VALUE\": 10}, {\"LOCATION\": \"United Kingdom\", \"SUBJECT\": \"NO CHILDREN\", \"MEASURE\": \"HR_AVEWAGE\", \"TIME\": 2020, \"VALUE\": 10}, {\"LOCATION\": \"United Kingdom\", \"SUBJECT\": \"NO CHILDREN\", \"MEASURE\": \"HR_AVEWAGE\", \"TIME\": 2021, \"VALUE\": 10}, {\"LOCATION\": \"United Kingdom\", \"SUBJECT\": \"NO CHILDREN\", \"MEASURE\": \"HR_AVEWAGE\", \"TIME\": 2022, \"VALUE\": 10}, {\"LOCATION\": \"OECD\", \"SUBJECT\": \"2 CHILDREN\", \"MEASURE\": \"HR_AVEWAGE\", \"TIME\": 2019, \"VALUE\": 16}, {\"LOCATION\": \"OECD\", \"SUBJECT\": \"2 CHILDREN\", \"MEASURE\": \"HR_AVEWAGE\", \"TIME\": 2020, \"VALUE\": 17}, {\"LOCATION\": \"OECD\", \"SUBJECT\": \"2 CHILDREN\", \"MEASURE\": \"HR_AVEWAGE\", \"TIME\": 2021, \"VALUE\": 17}, {\"LOCATION\": \"OECD\", \"SUBJECT\": \"2 CHILDREN\", \"MEASURE\": \"HR_AVEWAGE\", \"TIME\": 2022, \"VALUE\": 18}, {\"LOCATION\": \"OECD\", \"SUBJECT\": \"NO CHILDREN\", \"MEASURE\": \"HR_AVEWAGE\", \"TIME\": 2019, \"VALUE\": 15}, {\"LOCATION\": \"OECD\", \"SUBJECT\": \"NO CHILDREN\", \"MEASURE\": \"HR_AVEWAGE\", \"TIME\": 2020, \"VALUE\": 15}, {\"LOCATION\": \"OECD\", \"SUBJECT\": \"NO CHILDREN\", \"MEASURE\": \"HR_AVEWAGE\", \"TIME\": 2021, \"VALUE\": 14}, {\"LOCATION\": \"OECD\", \"SUBJECT\": \"NO CHILDREN\", \"MEASURE\": \"HR_AVEWAGE\", \"TIME\": 2022, \"VALUE\": 15}]}}, {\"mode\": \"vega-lite\"});\n",
       "</script>"
      ],
      "text/plain": [
       "alt.Chart(...)"
      ]
     },
     "execution_count": 146,
     "metadata": {},
     "output_type": "execute_result"
    }
   ],
   "source": [
    "# A C M I \n",
    "# Mark ist Abbildungstyp, Folgender Underscore bezeichnet genaue Art\n",
    "\n",
    "#aggregate=count soll Ausprägungen der Variable Homeownership zählen \n",
    "\n",
    "alt.Chart(df2_selectedlocations).mark_bar().encode(\n",
    "    x=alt.X('LOCATION').sort('-y').axis  # - gibt an, dass nach absteigender Ausprägung sortiert wird\n",
    "    (title='Location',\n",
    "     titleAnchor='end',\n",
    "     grid=False,\n",
    "     labelAngle=0), # Labels von Homeownership werden gedreht\n",
    "    y=alt.Y('VALUE:Q').axis  \n",
    "    (title='Hours needed to exit poverty',\n",
    "     titleAnchor='end',\n",
    "      grid=False,\n",
    "     labelAngle=0),\n",
    "    color=alt.Color('SUBJECT', scale=colors),\n",
    ").properties(\n",
    "    title='Bar Chart',\n",
    "    width=1000,\n",
    "    height=300\n",
    ").configure_title(\n",
    "    fontSize=20,\n",
    "    font='Arial',\n",
    "    color='black',\n",
    "    anchor='start'\n",
    ").configure_view(strokeWidth=0)"
   ]
  },
  {
   "cell_type": "code",
   "execution_count": 147,
   "metadata": {},
   "outputs": [],
   "source": [
    "df2_selectedlocations.to_csv('df2_selectedlocations.csv', index=False)\n"
   ]
  },
  {
   "cell_type": "markdown",
   "metadata": {},
   "source": [
    "## Line Chart Aufbau"
   ]
  },
  {
   "cell_type": "code",
   "execution_count": 148,
   "metadata": {},
   "outputs": [
    {
     "data": {
      "text/plain": [
       "Scale({\n",
       "  range: ['#58508d', '#ff6361', '#ffa600']\n",
       "})"
      ]
     },
     "execution_count": 148,
     "metadata": {},
     "output_type": "execute_result"
    }
   ],
   "source": [
    "colors_linechart2 = alt.Scale(\n",
    "    range=['#58508d','#ff6361','#ffa600']\n",
    ")\n",
    "colors_linechart2"
   ]
  },
  {
   "cell_type": "code",
   "execution_count": 149,
   "metadata": {},
   "outputs": [],
   "source": [
    "linechart2 = alt.Chart(df2_selectedlocations).mark_line().encode(\n",
    "    x=alt.X('TIME:O', title='Jahr').axis(\n",
    "        titleAnchor='start',\n",
    "        labelAngle= -0,\n",
    "        ),\n",
    "    y=alt.Y('mean(VALUE)').axis(\n",
    "        title='Anzahl Stunden',\n",
    "        titleAnchor='end',\n",
    "        grid= False,\n",
    "        ),\n",
    "    strokeWidth=alt.value(4), \n",
    "    color=alt.Color('SUBJECT', scale=colors_linechart2),\n",
    "    tooltip=['SUBJECT']\n",
    ")\n"
   ]
  },
  {
   "cell_type": "code",
   "execution_count": 150,
   "metadata": {},
   "outputs": [],
   "source": [
    "status_list = df2_selectedlocations['SUBJECT'].tolist()\n",
    "\n",
    "linechart2_labels = alt.Chart(df2_selectedlocations).mark_text(align='left', dx=3).encode(\n",
    "    alt.X('TIME:O', aggregate='max'),\n",
    "    alt.Y('mean(VALUE)', aggregate={'argmax': 'VALUE'}),\n",
    "    alt.Text('SUBJECT'),\n",
    "    alt.Color('SUBJECT:N', legend=None, scale=alt.Scale(domain=status_list,type='ordinal')),\n",
    ").properties(\n",
    "    width=800,\n",
    "    height=500,\n",
    "    title=alt.Title(\n",
    "        \"Hours needed to exit poverty\",\n",
    "        subtitle=\"in relation to family status\",\n",
    "        )     \n",
    ")"
   ]
  },
  {
   "cell_type": "code",
   "execution_count": 151,
   "metadata": {},
   "outputs": [
    {
     "data": {
      "text/html": [
       "\n",
       "<style>\n",
       "  #altair-viz-22742b2e9b4d4b3999f121b15752714d.vega-embed {\n",
       "    width: 100%;\n",
       "    display: flex;\n",
       "  }\n",
       "\n",
       "  #altair-viz-22742b2e9b4d4b3999f121b15752714d.vega-embed details,\n",
       "  #altair-viz-22742b2e9b4d4b3999f121b15752714d.vega-embed details summary {\n",
       "    position: relative;\n",
       "  }\n",
       "</style>\n",
       "<div id=\"altair-viz-22742b2e9b4d4b3999f121b15752714d\"></div>\n",
       "<script type=\"text/javascript\">\n",
       "  var VEGA_DEBUG = (typeof VEGA_DEBUG == \"undefined\") ? {} : VEGA_DEBUG;\n",
       "  (function(spec, embedOpt){\n",
       "    let outputDiv = document.currentScript.previousElementSibling;\n",
       "    if (outputDiv.id !== \"altair-viz-22742b2e9b4d4b3999f121b15752714d\") {\n",
       "      outputDiv = document.getElementById(\"altair-viz-22742b2e9b4d4b3999f121b15752714d\");\n",
       "    }\n",
       "    const paths = {\n",
       "      \"vega\": \"https://cdn.jsdelivr.net/npm/vega@5?noext\",\n",
       "      \"vega-lib\": \"https://cdn.jsdelivr.net/npm/vega-lib?noext\",\n",
       "      \"vega-lite\": \"https://cdn.jsdelivr.net/npm/vega-lite@5.15.1?noext\",\n",
       "      \"vega-embed\": \"https://cdn.jsdelivr.net/npm/vega-embed@6?noext\",\n",
       "    };\n",
       "\n",
       "    function maybeLoadScript(lib, version) {\n",
       "      var key = `${lib.replace(\"-\", \"\")}_version`;\n",
       "      return (VEGA_DEBUG[key] == version) ?\n",
       "        Promise.resolve(paths[lib]) :\n",
       "        new Promise(function(resolve, reject) {\n",
       "          var s = document.createElement('script');\n",
       "          document.getElementsByTagName(\"head\")[0].appendChild(s);\n",
       "          s.async = true;\n",
       "          s.onload = () => {\n",
       "            VEGA_DEBUG[key] = version;\n",
       "            return resolve(paths[lib]);\n",
       "          };\n",
       "          s.onerror = () => reject(`Error loading script: ${paths[lib]}`);\n",
       "          s.src = paths[lib];\n",
       "        });\n",
       "    }\n",
       "\n",
       "    function showError(err) {\n",
       "      outputDiv.innerHTML = `<div class=\"error\" style=\"color:red;\">${err}</div>`;\n",
       "      throw err;\n",
       "    }\n",
       "\n",
       "    function displayChart(vegaEmbed) {\n",
       "      vegaEmbed(outputDiv, spec, embedOpt)\n",
       "        .catch(err => showError(`Javascript Error: ${err.message}<br>This usually means there's a typo in your chart specification. See the javascript console for the full traceback.`));\n",
       "    }\n",
       "\n",
       "    if(typeof define === \"function\" && define.amd) {\n",
       "      requirejs.config({paths});\n",
       "      require([\"vega-embed\"], displayChart, err => showError(`Error loading script: ${err.message}`));\n",
       "    } else {\n",
       "      maybeLoadScript(\"vega\", \"5\")\n",
       "        .then(() => maybeLoadScript(\"vega-lite\", \"5.15.1\"))\n",
       "        .then(() => maybeLoadScript(\"vega-embed\", \"6\"))\n",
       "        .catch(showError)\n",
       "        .then(() => displayChart(vegaEmbed));\n",
       "    }\n",
       "  })({\"config\": {\"view\": {\"continuousWidth\": 300, \"continuousHeight\": 300, \"strokeWidth\": 0}, \"axis\": {\"labelFontSize\": 11, \"titleColor\": \"grey\", \"titleFontSize\": 12, \"titleFontWeight\": \"normal\"}, \"text\": {\"fontSize\": 12, \"fontWeight\": \"bold\"}, \"title\": {\"anchor\": \"start\", \"fontSize\": 20, \"fontWeight\": \"bold\"}}, \"layer\": [{\"mark\": {\"type\": \"line\"}, \"encoding\": {\"color\": {\"field\": \"SUBJECT\", \"scale\": {\"range\": [\"#58508d\", \"#ff6361\", \"#ffa600\"]}, \"type\": \"nominal\"}, \"strokeWidth\": {\"value\": 4}, \"tooltip\": [{\"field\": \"SUBJECT\", \"type\": \"nominal\"}], \"x\": {\"axis\": {\"titleAnchor\": \"start\", \"labelAngle\": 0}, \"field\": \"TIME\", \"title\": \"Jahr\", \"type\": \"ordinal\"}, \"y\": {\"aggregate\": \"mean\", \"axis\": {\"title\": \"Anzahl Stunden\", \"titleAnchor\": \"end\", \"grid\": false}, \"field\": \"VALUE\", \"type\": \"quantitative\"}}}, {\"mark\": {\"type\": \"text\", \"align\": \"left\", \"dx\": 3}, \"encoding\": {\"color\": {\"field\": \"SUBJECT\", \"legend\": null, \"scale\": {\"domain\": [\"2 CHILDREN\", \"2 CHILDREN\", \"2 CHILDREN\", \"2 CHILDREN\", \"NO CHILDREN\", \"NO CHILDREN\", \"NO CHILDREN\", \"NO CHILDREN\", \"2 CHILDREN\", \"2 CHILDREN\", \"2 CHILDREN\", \"2 CHILDREN\", \"NO CHILDREN\", \"NO CHILDREN\", \"NO CHILDREN\", \"NO CHILDREN\", \"2 CHILDREN\", \"2 CHILDREN\", \"2 CHILDREN\", \"2 CHILDREN\", \"NO CHILDREN\", \"NO CHILDREN\", \"NO CHILDREN\", \"NO CHILDREN\"], \"type\": \"ordinal\"}, \"type\": \"nominal\"}, \"text\": {\"field\": \"SUBJECT\", \"type\": \"nominal\"}, \"x\": {\"aggregate\": \"max\", \"field\": \"TIME\", \"type\": \"ordinal\"}, \"y\": {\"aggregate\": {\"argmax\": \"VALUE\"}, \"field\": \"VALUE\", \"type\": \"quantitative\"}}, \"title\": {\"text\": \"Hours needed to exit poverty\", \"subtitle\": \"in relation to family status\"}}], \"data\": {\"name\": \"data-7ac37f8d3de7093f73c28ba21ddf0d3e\"}, \"height\": 500, \"width\": 800, \"$schema\": \"https://vega.github.io/schema/vega-lite/v5.15.1.json\", \"datasets\": {\"data-7ac37f8d3de7093f73c28ba21ddf0d3e\": [{\"LOCATION\": \"Germany\", \"SUBJECT\": \"2 CHILDREN\", \"MEASURE\": \"HR_AVEWAGE\", \"TIME\": 2019, \"VALUE\": 12}, {\"LOCATION\": \"Germany\", \"SUBJECT\": \"2 CHILDREN\", \"MEASURE\": \"HR_AVEWAGE\", \"TIME\": 2020, \"VALUE\": 9}, {\"LOCATION\": \"Germany\", \"SUBJECT\": \"2 CHILDREN\", \"MEASURE\": \"HR_AVEWAGE\", \"TIME\": 2021, \"VALUE\": 9}, {\"LOCATION\": \"Germany\", \"SUBJECT\": \"2 CHILDREN\", \"MEASURE\": \"HR_AVEWAGE\", \"TIME\": 2022, \"VALUE\": 10}, {\"LOCATION\": \"Germany\", \"SUBJECT\": \"NO CHILDREN\", \"MEASURE\": \"HR_AVEWAGE\", \"TIME\": 2019, \"VALUE\": 13}, {\"LOCATION\": \"Germany\", \"SUBJECT\": \"NO CHILDREN\", \"MEASURE\": \"HR_AVEWAGE\", \"TIME\": 2020, \"VALUE\": 13}, {\"LOCATION\": \"Germany\", \"SUBJECT\": \"NO CHILDREN\", \"MEASURE\": \"HR_AVEWAGE\", \"TIME\": 2021, \"VALUE\": 13}, {\"LOCATION\": \"Germany\", \"SUBJECT\": \"NO CHILDREN\", \"MEASURE\": \"HR_AVEWAGE\", \"TIME\": 2022, \"VALUE\": 13}, {\"LOCATION\": \"United Kingdom\", \"SUBJECT\": \"2 CHILDREN\", \"MEASURE\": \"HR_AVEWAGE\", \"TIME\": 2019, \"VALUE\": 5}, {\"LOCATION\": \"United Kingdom\", \"SUBJECT\": \"2 CHILDREN\", \"MEASURE\": \"HR_AVEWAGE\", \"TIME\": 2020, \"VALUE\": 4}, {\"LOCATION\": \"United Kingdom\", \"SUBJECT\": \"2 CHILDREN\", \"MEASURE\": \"HR_AVEWAGE\", \"TIME\": 2021, \"VALUE\": 4}, {\"LOCATION\": \"United Kingdom\", \"SUBJECT\": \"2 CHILDREN\", \"MEASURE\": \"HR_AVEWAGE\", \"TIME\": 2022, \"VALUE\": 6}, {\"LOCATION\": \"United Kingdom\", \"SUBJECT\": \"NO CHILDREN\", \"MEASURE\": \"HR_AVEWAGE\", \"TIME\": 2019, \"VALUE\": 10}, {\"LOCATION\": \"United Kingdom\", \"SUBJECT\": \"NO CHILDREN\", \"MEASURE\": \"HR_AVEWAGE\", \"TIME\": 2020, \"VALUE\": 10}, {\"LOCATION\": \"United Kingdom\", \"SUBJECT\": \"NO CHILDREN\", \"MEASURE\": \"HR_AVEWAGE\", \"TIME\": 2021, \"VALUE\": 10}, {\"LOCATION\": \"United Kingdom\", \"SUBJECT\": \"NO CHILDREN\", \"MEASURE\": \"HR_AVEWAGE\", \"TIME\": 2022, \"VALUE\": 10}, {\"LOCATION\": \"OECD\", \"SUBJECT\": \"2 CHILDREN\", \"MEASURE\": \"HR_AVEWAGE\", \"TIME\": 2019, \"VALUE\": 16}, {\"LOCATION\": \"OECD\", \"SUBJECT\": \"2 CHILDREN\", \"MEASURE\": \"HR_AVEWAGE\", \"TIME\": 2020, \"VALUE\": 17}, {\"LOCATION\": \"OECD\", \"SUBJECT\": \"2 CHILDREN\", \"MEASURE\": \"HR_AVEWAGE\", \"TIME\": 2021, \"VALUE\": 17}, {\"LOCATION\": \"OECD\", \"SUBJECT\": \"2 CHILDREN\", \"MEASURE\": \"HR_AVEWAGE\", \"TIME\": 2022, \"VALUE\": 18}, {\"LOCATION\": \"OECD\", \"SUBJECT\": \"NO CHILDREN\", \"MEASURE\": \"HR_AVEWAGE\", \"TIME\": 2019, \"VALUE\": 15}, {\"LOCATION\": \"OECD\", \"SUBJECT\": \"NO CHILDREN\", \"MEASURE\": \"HR_AVEWAGE\", \"TIME\": 2020, \"VALUE\": 15}, {\"LOCATION\": \"OECD\", \"SUBJECT\": \"NO CHILDREN\", \"MEASURE\": \"HR_AVEWAGE\", \"TIME\": 2021, \"VALUE\": 14}, {\"LOCATION\": \"OECD\", \"SUBJECT\": \"NO CHILDREN\", \"MEASURE\": \"HR_AVEWAGE\", \"TIME\": 2022, \"VALUE\": 15}]}}, {\"mode\": \"vega-lite\"});\n",
       "</script>"
      ],
      "text/plain": [
       "alt.LayerChart(...)"
      ]
     },
     "execution_count": 151,
     "metadata": {},
     "output_type": "execute_result"
    }
   ],
   "source": [
    "linechart2_final = alt.layer(linechart2, linechart2_labels).configure_view(\n",
    "    strokeWidth=0\n",
    ").configure_title(\n",
    "    fontSize=20,\n",
    "    anchor='start',\n",
    "    fontWeight='bold',\n",
    ").configure_axis(\n",
    "    labelFontSize = 11,\n",
    "    titleFontSize = 12,\n",
    "    titleFontWeight= 'normal',\n",
    "    titleColor='grey'\n",
    ").configure_text(\n",
    "    fontWeight='bold',\n",
    "    fontSize = 12\n",
    ")\n",
    "\n",
    "linechart2_final"
   ]
  }
 ],
 "metadata": {
  "kernelspec": {
   "display_name": "dst2",
   "language": "python",
   "name": "python3"
  },
  "language_info": {
   "codemirror_mode": {
    "name": "ipython",
    "version": 3
   },
   "file_extension": ".py",
   "mimetype": "text/x-python",
   "name": "python",
   "nbconvert_exporter": "python",
   "pygments_lexer": "ipython3",
   "version": "3.11.5"
  }
 },
 "nbformat": 4,
 "nbformat_minor": 2
}
