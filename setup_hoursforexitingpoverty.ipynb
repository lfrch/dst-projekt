{
 "cells": [
  {
   "cell_type": "markdown",
   "metadata": {},
   "source": [
    "# Hours needed to exit poverty"
   ]
  },
  {
   "cell_type": "markdown",
   "metadata": {},
   "source": [
    "This indicator measures the weekly hours that a family claiming guaranteed minimum benefit needs to work to exit poverty. The measure is expressed for three hourly wage rates. The poverty line is calculated as 50% of the median disposable income in the country."
   ]
  },
  {
   "cell_type": "markdown",
   "metadata": {},
   "source": [
    "TO DO: Neuer DF/Objekt mit zu betrachtenden Regionen (OECD bzw. alle, EU28 für Europa, DEU(tschland) & GBR (UK) )\n",
    "* Distribution chart / Scatter Plot\n",
    "* Stacked Bar Chart für verschiedene Variablen (single no child, jobless couple etc. ggf. auch neue Objekte zur Vereinfachung)"
   ]
  },
  {
   "cell_type": "markdown",
   "metadata": {},
   "source": [
    "### Setup"
   ]
  },
  {
   "cell_type": "code",
   "execution_count": 1,
   "metadata": {},
   "outputs": [],
   "source": [
    "import pandas as pd\n",
    "import altair as alt"
   ]
  },
  {
   "cell_type": "code",
   "execution_count": 2,
   "metadata": {},
   "outputs": [
    {
     "data": {
      "text/plain": [
       "DataTransformerRegistry.enable('default')"
      ]
     },
     "execution_count": 2,
     "metadata": {},
     "output_type": "execute_result"
    }
   ],
   "source": [
    "# Zeilenlimit deaktivieren (n=5000)\n",
    "# Falls Datensatz mehr als 5000 Zeilen, dann soll es deaktiviert werden\n",
    "\n",
    "alt.data_transformers.disable_max_rows()\n",
    "#pd.set_option('display.max_rows', 1000)"
   ]
  },
  {
   "cell_type": "markdown",
   "metadata": {},
   "source": [
    "## Data"
   ]
  },
  {
   "cell_type": "markdown",
   "metadata": {},
   "source": [
    "Data Import"
   ]
  },
  {
   "cell_type": "markdown",
   "metadata": {},
   "source": [
    "#### Dataset Average annual hours actually worked, 2022 or latest"
   ]
  },
  {
   "cell_type": "code",
   "execution_count": 3,
   "metadata": {},
   "outputs": [],
   "source": [
    "# falls Datei lokal liegt, einfach den Pfad zur CSV eingeben: ins Terminal 'pwd' eingeben, dann wird Pfad gezeigt\n",
    "LINK = '/Users/Lea/Desktop/dst-projekt/exitpovertyhours.csv'\n",
    "\n",
    "df = pd.read_csv(LINK)"
   ]
  },
  {
   "cell_type": "code",
   "execution_count": 4,
   "metadata": {},
   "outputs": [
    {
     "data": {
      "text/html": [
       "<div>\n",
       "<style scoped>\n",
       "    .dataframe tbody tr th:only-of-type {\n",
       "        vertical-align: middle;\n",
       "    }\n",
       "\n",
       "    .dataframe tbody tr th {\n",
       "        vertical-align: top;\n",
       "    }\n",
       "\n",
       "    .dataframe thead th {\n",
       "        text-align: right;\n",
       "    }\n",
       "</style>\n",
       "<table border=\"1\" class=\"dataframe\">\n",
       "  <thead>\n",
       "    <tr style=\"text-align: right;\">\n",
       "      <th></th>\n",
       "      <th>LOCATION</th>\n",
       "      <th>INDICATOR</th>\n",
       "      <th>SUBJECT</th>\n",
       "      <th>MEASURE</th>\n",
       "      <th>FREQUENCY</th>\n",
       "      <th>TIME</th>\n",
       "      <th>Value</th>\n",
       "      <th>Flag Codes</th>\n",
       "    </tr>\n",
       "  </thead>\n",
       "  <tbody>\n",
       "    <tr>\n",
       "      <th>0</th>\n",
       "      <td>AUT</td>\n",
       "      <td>WORKEXPOV</td>\n",
       "      <td>SNGL2CHLD</td>\n",
       "      <td>HR_AVEWAGE</td>\n",
       "      <td>A</td>\n",
       "      <td>2019</td>\n",
       "      <td>19</td>\n",
       "      <td>NaN</td>\n",
       "    </tr>\n",
       "    <tr>\n",
       "      <th>1</th>\n",
       "      <td>AUT</td>\n",
       "      <td>WORKEXPOV</td>\n",
       "      <td>SNGL2CHLD</td>\n",
       "      <td>HR_AVEWAGE</td>\n",
       "      <td>A</td>\n",
       "      <td>2020</td>\n",
       "      <td>20</td>\n",
       "      <td>NaN</td>\n",
       "    </tr>\n",
       "    <tr>\n",
       "      <th>2</th>\n",
       "      <td>AUT</td>\n",
       "      <td>WORKEXPOV</td>\n",
       "      <td>SNGL2CHLD</td>\n",
       "      <td>HR_AVEWAGE</td>\n",
       "      <td>A</td>\n",
       "      <td>2021</td>\n",
       "      <td>20</td>\n",
       "      <td>NaN</td>\n",
       "    </tr>\n",
       "    <tr>\n",
       "      <th>3</th>\n",
       "      <td>AUT</td>\n",
       "      <td>WORKEXPOV</td>\n",
       "      <td>SNGL2CHLD</td>\n",
       "      <td>HR_AVEWAGE</td>\n",
       "      <td>A</td>\n",
       "      <td>2022</td>\n",
       "      <td>21</td>\n",
       "      <td>NaN</td>\n",
       "    </tr>\n",
       "    <tr>\n",
       "      <th>4</th>\n",
       "      <td>AUT</td>\n",
       "      <td>WORKEXPOV</td>\n",
       "      <td>SNGLNOCHLD</td>\n",
       "      <td>HR_AVEWAGE</td>\n",
       "      <td>A</td>\n",
       "      <td>2019</td>\n",
       "      <td>14</td>\n",
       "      <td>NaN</td>\n",
       "    </tr>\n",
       "    <tr>\n",
       "      <th>...</th>\n",
       "      <td>...</td>\n",
       "      <td>...</td>\n",
       "      <td>...</td>\n",
       "      <td>...</td>\n",
       "      <td>...</td>\n",
       "      <td>...</td>\n",
       "      <td>...</td>\n",
       "      <td>...</td>\n",
       "    </tr>\n",
       "    <tr>\n",
       "      <th>227</th>\n",
       "      <td>OECD</td>\n",
       "      <td>WORKEXPOV</td>\n",
       "      <td>SNGL2CHLD</td>\n",
       "      <td>HR_AVEWAGE</td>\n",
       "      <td>A</td>\n",
       "      <td>2022</td>\n",
       "      <td>18</td>\n",
       "      <td>NaN</td>\n",
       "    </tr>\n",
       "    <tr>\n",
       "      <th>228</th>\n",
       "      <td>OECD</td>\n",
       "      <td>WORKEXPOV</td>\n",
       "      <td>SNGLNOCHLD</td>\n",
       "      <td>HR_AVEWAGE</td>\n",
       "      <td>A</td>\n",
       "      <td>2019</td>\n",
       "      <td>15</td>\n",
       "      <td>NaN</td>\n",
       "    </tr>\n",
       "    <tr>\n",
       "      <th>229</th>\n",
       "      <td>OECD</td>\n",
       "      <td>WORKEXPOV</td>\n",
       "      <td>SNGLNOCHLD</td>\n",
       "      <td>HR_AVEWAGE</td>\n",
       "      <td>A</td>\n",
       "      <td>2020</td>\n",
       "      <td>15</td>\n",
       "      <td>NaN</td>\n",
       "    </tr>\n",
       "    <tr>\n",
       "      <th>230</th>\n",
       "      <td>OECD</td>\n",
       "      <td>WORKEXPOV</td>\n",
       "      <td>SNGLNOCHLD</td>\n",
       "      <td>HR_AVEWAGE</td>\n",
       "      <td>A</td>\n",
       "      <td>2021</td>\n",
       "      <td>14</td>\n",
       "      <td>NaN</td>\n",
       "    </tr>\n",
       "    <tr>\n",
       "      <th>231</th>\n",
       "      <td>OECD</td>\n",
       "      <td>WORKEXPOV</td>\n",
       "      <td>SNGLNOCHLD</td>\n",
       "      <td>HR_AVEWAGE</td>\n",
       "      <td>A</td>\n",
       "      <td>2022</td>\n",
       "      <td>15</td>\n",
       "      <td>NaN</td>\n",
       "    </tr>\n",
       "  </tbody>\n",
       "</table>\n",
       "<p>232 rows × 8 columns</p>\n",
       "</div>"
      ],
      "text/plain": [
       "    LOCATION  INDICATOR     SUBJECT     MEASURE FREQUENCY  TIME  Value  \\\n",
       "0        AUT  WORKEXPOV   SNGL2CHLD  HR_AVEWAGE         A  2019     19   \n",
       "1        AUT  WORKEXPOV   SNGL2CHLD  HR_AVEWAGE         A  2020     20   \n",
       "2        AUT  WORKEXPOV   SNGL2CHLD  HR_AVEWAGE         A  2021     20   \n",
       "3        AUT  WORKEXPOV   SNGL2CHLD  HR_AVEWAGE         A  2022     21   \n",
       "4        AUT  WORKEXPOV  SNGLNOCHLD  HR_AVEWAGE         A  2019     14   \n",
       "..       ...        ...         ...         ...       ...   ...    ...   \n",
       "227     OECD  WORKEXPOV   SNGL2CHLD  HR_AVEWAGE         A  2022     18   \n",
       "228     OECD  WORKEXPOV  SNGLNOCHLD  HR_AVEWAGE         A  2019     15   \n",
       "229     OECD  WORKEXPOV  SNGLNOCHLD  HR_AVEWAGE         A  2020     15   \n",
       "230     OECD  WORKEXPOV  SNGLNOCHLD  HR_AVEWAGE         A  2021     14   \n",
       "231     OECD  WORKEXPOV  SNGLNOCHLD  HR_AVEWAGE         A  2022     15   \n",
       "\n",
       "     Flag Codes  \n",
       "0           NaN  \n",
       "1           NaN  \n",
       "2           NaN  \n",
       "3           NaN  \n",
       "4           NaN  \n",
       "..          ...  \n",
       "227         NaN  \n",
       "228         NaN  \n",
       "229         NaN  \n",
       "230         NaN  \n",
       "231         NaN  \n",
       "\n",
       "[232 rows x 8 columns]"
      ]
     },
     "execution_count": 4,
     "metadata": {},
     "output_type": "execute_result"
    }
   ],
   "source": [
    "df"
   ]
  },
  {
   "cell_type": "code",
   "execution_count": 5,
   "metadata": {},
   "outputs": [
    {
     "name": "stdout",
     "output_type": "stream",
     "text": [
      "<class 'pandas.core.frame.DataFrame'>\n",
      "RangeIndex: 232 entries, 0 to 231\n",
      "Data columns (total 8 columns):\n",
      " #   Column      Non-Null Count  Dtype  \n",
      "---  ------      --------------  -----  \n",
      " 0   LOCATION    232 non-null    object \n",
      " 1   INDICATOR   232 non-null    object \n",
      " 2   SUBJECT     232 non-null    object \n",
      " 3   MEASURE     232 non-null    object \n",
      " 4   FREQUENCY   232 non-null    object \n",
      " 5   TIME        232 non-null    int64  \n",
      " 6   Value       232 non-null    int64  \n",
      " 7   Flag Codes  0 non-null      float64\n",
      "dtypes: float64(1), int64(2), object(5)\n",
      "memory usage: 14.6+ KB\n"
     ]
    }
   ],
   "source": [
    "df.info()"
   ]
  },
  {
   "cell_type": "markdown",
   "metadata": {},
   "source": [
    "### Eliminate Clutter"
   ]
  },
  {
   "cell_type": "code",
   "execution_count": 6,
   "metadata": {},
   "outputs": [],
   "source": [
    "df.drop('FREQUENCY', axis=1, inplace=True)"
   ]
  },
  {
   "cell_type": "code",
   "execution_count": 7,
   "metadata": {},
   "outputs": [],
   "source": [
    "df.drop('Flag Codes', axis=1, inplace=True)"
   ]
  },
  {
   "cell_type": "code",
   "execution_count": 8,
   "metadata": {},
   "outputs": [],
   "source": [
    "df.drop('INDICATOR', axis=1, inplace=True)"
   ]
  },
  {
   "cell_type": "code",
   "execution_count": 9,
   "metadata": {},
   "outputs": [],
   "source": [
    "list_cat = ['LOCATION']\n",
    "df = df.astype('category')"
   ]
  },
  {
   "cell_type": "code",
   "execution_count": 10,
   "metadata": {},
   "outputs": [],
   "source": [
    "df['TIME'] = pd.to_datetime(df['TIME'], format='%Y').dt.year"
   ]
  },
  {
   "cell_type": "code",
   "execution_count": 11,
   "metadata": {},
   "outputs": [],
   "source": [
    "df.rename(columns={'Value': 'VALUE'}, inplace=True)"
   ]
  },
  {
   "cell_type": "code",
   "execution_count": 12,
   "metadata": {},
   "outputs": [],
   "source": [
    "df['VALUE'] = df['VALUE'].astype(int)"
   ]
  },
  {
   "cell_type": "code",
   "execution_count": 13,
   "metadata": {},
   "outputs": [
    {
     "name": "stdout",
     "output_type": "stream",
     "text": [
      "<class 'pandas.core.frame.DataFrame'>\n",
      "RangeIndex: 232 entries, 0 to 231\n",
      "Data columns (total 5 columns):\n",
      " #   Column    Non-Null Count  Dtype   \n",
      "---  ------    --------------  -----   \n",
      " 0   LOCATION  232 non-null    category\n",
      " 1   SUBJECT   232 non-null    category\n",
      " 2   MEASURE   232 non-null    category\n",
      " 3   TIME      232 non-null    int32   \n",
      " 4   VALUE     232 non-null    int64   \n",
      "dtypes: category(3), int32(1), int64(1)\n",
      "memory usage: 5.0 KB\n"
     ]
    }
   ],
   "source": [
    "df.info()"
   ]
  },
  {
   "cell_type": "code",
   "execution_count": 14,
   "metadata": {},
   "outputs": [
    {
     "data": {
      "text/html": [
       "<div>\n",
       "<style scoped>\n",
       "    .dataframe tbody tr th:only-of-type {\n",
       "        vertical-align: middle;\n",
       "    }\n",
       "\n",
       "    .dataframe tbody tr th {\n",
       "        vertical-align: top;\n",
       "    }\n",
       "\n",
       "    .dataframe thead th {\n",
       "        text-align: right;\n",
       "    }\n",
       "</style>\n",
       "<table border=\"1\" class=\"dataframe\">\n",
       "  <thead>\n",
       "    <tr style=\"text-align: right;\">\n",
       "      <th></th>\n",
       "      <th>LOCATION</th>\n",
       "      <th>SUBJECT</th>\n",
       "      <th>MEASURE</th>\n",
       "      <th>TIME</th>\n",
       "      <th>VALUE</th>\n",
       "    </tr>\n",
       "  </thead>\n",
       "  <tbody>\n",
       "    <tr>\n",
       "      <th>48</th>\n",
       "      <td>DEU</td>\n",
       "      <td>SNGL2CHLD</td>\n",
       "      <td>HR_AVEWAGE</td>\n",
       "      <td>2019</td>\n",
       "      <td>12</td>\n",
       "    </tr>\n",
       "    <tr>\n",
       "      <th>49</th>\n",
       "      <td>DEU</td>\n",
       "      <td>SNGL2CHLD</td>\n",
       "      <td>HR_AVEWAGE</td>\n",
       "      <td>2020</td>\n",
       "      <td>9</td>\n",
       "    </tr>\n",
       "    <tr>\n",
       "      <th>50</th>\n",
       "      <td>DEU</td>\n",
       "      <td>SNGL2CHLD</td>\n",
       "      <td>HR_AVEWAGE</td>\n",
       "      <td>2021</td>\n",
       "      <td>9</td>\n",
       "    </tr>\n",
       "    <tr>\n",
       "      <th>51</th>\n",
       "      <td>DEU</td>\n",
       "      <td>SNGL2CHLD</td>\n",
       "      <td>HR_AVEWAGE</td>\n",
       "      <td>2022</td>\n",
       "      <td>10</td>\n",
       "    </tr>\n",
       "    <tr>\n",
       "      <th>52</th>\n",
       "      <td>DEU</td>\n",
       "      <td>SNGLNOCHLD</td>\n",
       "      <td>HR_AVEWAGE</td>\n",
       "      <td>2019</td>\n",
       "      <td>13</td>\n",
       "    </tr>\n",
       "    <tr>\n",
       "      <th>53</th>\n",
       "      <td>DEU</td>\n",
       "      <td>SNGLNOCHLD</td>\n",
       "      <td>HR_AVEWAGE</td>\n",
       "      <td>2020</td>\n",
       "      <td>13</td>\n",
       "    </tr>\n",
       "    <tr>\n",
       "      <th>54</th>\n",
       "      <td>DEU</td>\n",
       "      <td>SNGLNOCHLD</td>\n",
       "      <td>HR_AVEWAGE</td>\n",
       "      <td>2021</td>\n",
       "      <td>13</td>\n",
       "    </tr>\n",
       "    <tr>\n",
       "      <th>55</th>\n",
       "      <td>DEU</td>\n",
       "      <td>SNGLNOCHLD</td>\n",
       "      <td>HR_AVEWAGE</td>\n",
       "      <td>2022</td>\n",
       "      <td>13</td>\n",
       "    </tr>\n",
       "    <tr>\n",
       "      <th>144</th>\n",
       "      <td>GBR</td>\n",
       "      <td>SNGL2CHLD</td>\n",
       "      <td>HR_AVEWAGE</td>\n",
       "      <td>2019</td>\n",
       "      <td>5</td>\n",
       "    </tr>\n",
       "    <tr>\n",
       "      <th>145</th>\n",
       "      <td>GBR</td>\n",
       "      <td>SNGL2CHLD</td>\n",
       "      <td>HR_AVEWAGE</td>\n",
       "      <td>2020</td>\n",
       "      <td>4</td>\n",
       "    </tr>\n",
       "    <tr>\n",
       "      <th>146</th>\n",
       "      <td>GBR</td>\n",
       "      <td>SNGL2CHLD</td>\n",
       "      <td>HR_AVEWAGE</td>\n",
       "      <td>2021</td>\n",
       "      <td>4</td>\n",
       "    </tr>\n",
       "    <tr>\n",
       "      <th>147</th>\n",
       "      <td>GBR</td>\n",
       "      <td>SNGL2CHLD</td>\n",
       "      <td>HR_AVEWAGE</td>\n",
       "      <td>2022</td>\n",
       "      <td>6</td>\n",
       "    </tr>\n",
       "    <tr>\n",
       "      <th>148</th>\n",
       "      <td>GBR</td>\n",
       "      <td>SNGLNOCHLD</td>\n",
       "      <td>HR_AVEWAGE</td>\n",
       "      <td>2019</td>\n",
       "      <td>10</td>\n",
       "    </tr>\n",
       "    <tr>\n",
       "      <th>149</th>\n",
       "      <td>GBR</td>\n",
       "      <td>SNGLNOCHLD</td>\n",
       "      <td>HR_AVEWAGE</td>\n",
       "      <td>2020</td>\n",
       "      <td>10</td>\n",
       "    </tr>\n",
       "    <tr>\n",
       "      <th>150</th>\n",
       "      <td>GBR</td>\n",
       "      <td>SNGLNOCHLD</td>\n",
       "      <td>HR_AVEWAGE</td>\n",
       "      <td>2021</td>\n",
       "      <td>10</td>\n",
       "    </tr>\n",
       "    <tr>\n",
       "      <th>151</th>\n",
       "      <td>GBR</td>\n",
       "      <td>SNGLNOCHLD</td>\n",
       "      <td>HR_AVEWAGE</td>\n",
       "      <td>2022</td>\n",
       "      <td>10</td>\n",
       "    </tr>\n",
       "    <tr>\n",
       "      <th>224</th>\n",
       "      <td>OECD</td>\n",
       "      <td>SNGL2CHLD</td>\n",
       "      <td>HR_AVEWAGE</td>\n",
       "      <td>2019</td>\n",
       "      <td>16</td>\n",
       "    </tr>\n",
       "    <tr>\n",
       "      <th>225</th>\n",
       "      <td>OECD</td>\n",
       "      <td>SNGL2CHLD</td>\n",
       "      <td>HR_AVEWAGE</td>\n",
       "      <td>2020</td>\n",
       "      <td>17</td>\n",
       "    </tr>\n",
       "    <tr>\n",
       "      <th>226</th>\n",
       "      <td>OECD</td>\n",
       "      <td>SNGL2CHLD</td>\n",
       "      <td>HR_AVEWAGE</td>\n",
       "      <td>2021</td>\n",
       "      <td>17</td>\n",
       "    </tr>\n",
       "    <tr>\n",
       "      <th>227</th>\n",
       "      <td>OECD</td>\n",
       "      <td>SNGL2CHLD</td>\n",
       "      <td>HR_AVEWAGE</td>\n",
       "      <td>2022</td>\n",
       "      <td>18</td>\n",
       "    </tr>\n",
       "    <tr>\n",
       "      <th>228</th>\n",
       "      <td>OECD</td>\n",
       "      <td>SNGLNOCHLD</td>\n",
       "      <td>HR_AVEWAGE</td>\n",
       "      <td>2019</td>\n",
       "      <td>15</td>\n",
       "    </tr>\n",
       "    <tr>\n",
       "      <th>229</th>\n",
       "      <td>OECD</td>\n",
       "      <td>SNGLNOCHLD</td>\n",
       "      <td>HR_AVEWAGE</td>\n",
       "      <td>2020</td>\n",
       "      <td>15</td>\n",
       "    </tr>\n",
       "    <tr>\n",
       "      <th>230</th>\n",
       "      <td>OECD</td>\n",
       "      <td>SNGLNOCHLD</td>\n",
       "      <td>HR_AVEWAGE</td>\n",
       "      <td>2021</td>\n",
       "      <td>14</td>\n",
       "    </tr>\n",
       "    <tr>\n",
       "      <th>231</th>\n",
       "      <td>OECD</td>\n",
       "      <td>SNGLNOCHLD</td>\n",
       "      <td>HR_AVEWAGE</td>\n",
       "      <td>2022</td>\n",
       "      <td>15</td>\n",
       "    </tr>\n",
       "  </tbody>\n",
       "</table>\n",
       "</div>"
      ],
      "text/plain": [
       "    LOCATION     SUBJECT     MEASURE  TIME  VALUE\n",
       "48       DEU   SNGL2CHLD  HR_AVEWAGE  2019     12\n",
       "49       DEU   SNGL2CHLD  HR_AVEWAGE  2020      9\n",
       "50       DEU   SNGL2CHLD  HR_AVEWAGE  2021      9\n",
       "51       DEU   SNGL2CHLD  HR_AVEWAGE  2022     10\n",
       "52       DEU  SNGLNOCHLD  HR_AVEWAGE  2019     13\n",
       "53       DEU  SNGLNOCHLD  HR_AVEWAGE  2020     13\n",
       "54       DEU  SNGLNOCHLD  HR_AVEWAGE  2021     13\n",
       "55       DEU  SNGLNOCHLD  HR_AVEWAGE  2022     13\n",
       "144      GBR   SNGL2CHLD  HR_AVEWAGE  2019      5\n",
       "145      GBR   SNGL2CHLD  HR_AVEWAGE  2020      4\n",
       "146      GBR   SNGL2CHLD  HR_AVEWAGE  2021      4\n",
       "147      GBR   SNGL2CHLD  HR_AVEWAGE  2022      6\n",
       "148      GBR  SNGLNOCHLD  HR_AVEWAGE  2019     10\n",
       "149      GBR  SNGLNOCHLD  HR_AVEWAGE  2020     10\n",
       "150      GBR  SNGLNOCHLD  HR_AVEWAGE  2021     10\n",
       "151      GBR  SNGLNOCHLD  HR_AVEWAGE  2022     10\n",
       "224     OECD   SNGL2CHLD  HR_AVEWAGE  2019     16\n",
       "225     OECD   SNGL2CHLD  HR_AVEWAGE  2020     17\n",
       "226     OECD   SNGL2CHLD  HR_AVEWAGE  2021     17\n",
       "227     OECD   SNGL2CHLD  HR_AVEWAGE  2022     18\n",
       "228     OECD  SNGLNOCHLD  HR_AVEWAGE  2019     15\n",
       "229     OECD  SNGLNOCHLD  HR_AVEWAGE  2020     15\n",
       "230     OECD  SNGLNOCHLD  HR_AVEWAGE  2021     14\n",
       "231     OECD  SNGLNOCHLD  HR_AVEWAGE  2022     15"
      ]
     },
     "execution_count": 14,
     "metadata": {},
     "output_type": "execute_result"
    }
   ],
   "source": [
    "df2_selectedlocations = df[df['LOCATION'].isin(['OECD', 'EU28', 'DEU', 'GBR'])]\n",
    "\n",
    "df2_selectedlocations"
   ]
  },
  {
   "cell_type": "code",
   "execution_count": 15,
   "metadata": {},
   "outputs": [
    {
     "data": {
      "text/plain": [
       "LOCATION    24\n",
       "SUBJECT     24\n",
       "MEASURE     24\n",
       "TIME        24\n",
       "VALUE       24\n",
       "dtype: int64"
      ]
     },
     "execution_count": 15,
     "metadata": {},
     "output_type": "execute_result"
    }
   ],
   "source": [
    "df2_selectedlocations.count()"
   ]
  },
  {
   "cell_type": "code",
   "execution_count": 16,
   "metadata": {},
   "outputs": [
    {
     "name": "stdout",
     "output_type": "stream",
     "text": [
      "<class 'pandas.core.frame.DataFrame'>\n",
      "Index: 24 entries, 48 to 231\n",
      "Data columns (total 5 columns):\n",
      " #   Column    Non-Null Count  Dtype   \n",
      "---  ------    --------------  -----   \n",
      " 0   LOCATION  24 non-null     category\n",
      " 1   SUBJECT   24 non-null     category\n",
      " 2   MEASURE   24 non-null     category\n",
      " 3   TIME      24 non-null     int32   \n",
      " 4   VALUE     24 non-null     int64   \n",
      "dtypes: category(3), int32(1), int64(1)\n",
      "memory usage: 2.0 KB\n"
     ]
    }
   ],
   "source": [
    "df2_selectedlocations.info()"
   ]
  },
  {
   "cell_type": "markdown",
   "metadata": {},
   "source": [
    "### Show different Dimensions of Data: Subject and Measure"
   ]
  },
  {
   "cell_type": "code",
   "execution_count": 17,
   "metadata": {},
   "outputs": [
    {
     "data": {
      "text/plain": [
       "48      DEU\n",
       "49      DEU\n",
       "50      DEU\n",
       "51      DEU\n",
       "52      DEU\n",
       "53      DEU\n",
       "54      DEU\n",
       "55      DEU\n",
       "144     GBR\n",
       "145     GBR\n",
       "146     GBR\n",
       "147     GBR\n",
       "148     GBR\n",
       "149     GBR\n",
       "150     GBR\n",
       "151     GBR\n",
       "224    OECD\n",
       "225    OECD\n",
       "226    OECD\n",
       "227    OECD\n",
       "228    OECD\n",
       "229    OECD\n",
       "230    OECD\n",
       "231    OECD\n",
       "Name: LOCATION, dtype: category\n",
       "Categories (29, object): ['AUT', 'BEL', 'BGR', 'CYP', ..., 'ROU', 'SVK', 'SVN', 'SWE']"
      ]
     },
     "execution_count": 17,
     "metadata": {},
     "output_type": "execute_result"
    }
   ],
   "source": [
    "# Warum fehlt \n",
    "df2_selectedlocations['LOCATION']"
   ]
  },
  {
   "cell_type": "code",
   "execution_count": 18,
   "metadata": {},
   "outputs": [
    {
     "data": {
      "text/plain": [
       "SUBJECT\n",
       "SNGL2CHLD     12\n",
       "SNGLNOCHLD    12\n",
       "Name: count, dtype: int64"
      ]
     },
     "execution_count": 18,
     "metadata": {},
     "output_type": "execute_result"
    }
   ],
   "source": [
    "df2_selectedlocations['SUBJECT'].value_counts()"
   ]
  },
  {
   "cell_type": "code",
   "execution_count": 19,
   "metadata": {},
   "outputs": [
    {
     "data": {
      "text/plain": [
       "MEASURE\n",
       "HR_AVEWAGE    24\n",
       "Name: count, dtype: int64"
      ]
     },
     "execution_count": 19,
     "metadata": {},
     "output_type": "execute_result"
    }
   ],
   "source": [
    "df2_selectedlocations['MEASURE'].value_counts()"
   ]
  },
  {
   "cell_type": "code",
   "execution_count": 20,
   "metadata": {},
   "outputs": [
    {
     "name": "stderr",
     "output_type": "stream",
     "text": [
      "/var/folders/cg/s479mj155734fxg40v_64y4r0000gn/T/ipykernel_34027/1367789694.py:1: SettingWithCopyWarning: \n",
      "A value is trying to be set on a copy of a slice from a DataFrame\n",
      "\n",
      "See the caveats in the documentation: https://pandas.pydata.org/pandas-docs/stable/user_guide/indexing.html#returning-a-view-versus-a-copy\n",
      "  df2_selectedlocations['LOCATION'].replace({'EU27': 'European Union', 'DEU': 'Germany', 'GBR': 'United Kingdom'}, inplace=True)\n"
     ]
    }
   ],
   "source": [
    "df2_selectedlocations['LOCATION'].replace({'EU27': 'European Union', 'DEU': 'Germany', 'GBR': 'United Kingdom'}, inplace=True)"
   ]
  },
  {
   "cell_type": "code",
   "execution_count": 21,
   "metadata": {},
   "outputs": [
    {
     "name": "stderr",
     "output_type": "stream",
     "text": [
      "/var/folders/cg/s479mj155734fxg40v_64y4r0000gn/T/ipykernel_34027/2072630289.py:1: SettingWithCopyWarning: \n",
      "A value is trying to be set on a copy of a slice from a DataFrame\n",
      "\n",
      "See the caveats in the documentation: https://pandas.pydata.org/pandas-docs/stable/user_guide/indexing.html#returning-a-view-versus-a-copy\n",
      "  df2_selectedlocations['SUBJECT'].replace({'SNGL2CHLD': '2 CHILDREN', 'SNGLNOCHLD': 'NO CHILDREN'}, inplace=True)\n"
     ]
    }
   ],
   "source": [
    "df2_selectedlocations['SUBJECT'].replace({'SNGL2CHLD': '2 CHILDREN', 'SNGLNOCHLD': 'NO CHILDREN'}, inplace=True)"
   ]
  },
  {
   "cell_type": "markdown",
   "metadata": {},
   "source": [
    "### Data Explo"
   ]
  },
  {
   "cell_type": "code",
   "execution_count": 22,
   "metadata": {},
   "outputs": [
    {
     "data": {
      "text/html": [
       "<div>\n",
       "<style scoped>\n",
       "    .dataframe tbody tr th:only-of-type {\n",
       "        vertical-align: middle;\n",
       "    }\n",
       "\n",
       "    .dataframe tbody tr th {\n",
       "        vertical-align: top;\n",
       "    }\n",
       "\n",
       "    .dataframe thead th {\n",
       "        text-align: right;\n",
       "    }\n",
       "</style>\n",
       "<table border=\"1\" class=\"dataframe\">\n",
       "  <thead>\n",
       "    <tr style=\"text-align: right;\">\n",
       "      <th></th>\n",
       "      <th>TIME</th>\n",
       "      <th>VALUE</th>\n",
       "    </tr>\n",
       "  </thead>\n",
       "  <tbody>\n",
       "    <tr>\n",
       "      <th>count</th>\n",
       "      <td>24</td>\n",
       "      <td>24</td>\n",
       "    </tr>\n",
       "    <tr>\n",
       "      <th>mean</th>\n",
       "      <td>2020</td>\n",
       "      <td>11</td>\n",
       "    </tr>\n",
       "    <tr>\n",
       "      <th>std</th>\n",
       "      <td>1</td>\n",
       "      <td>4</td>\n",
       "    </tr>\n",
       "    <tr>\n",
       "      <th>min</th>\n",
       "      <td>2019</td>\n",
       "      <td>4</td>\n",
       "    </tr>\n",
       "    <tr>\n",
       "      <th>25%</th>\n",
       "      <td>2019</td>\n",
       "      <td>9</td>\n",
       "    </tr>\n",
       "    <tr>\n",
       "      <th>50%</th>\n",
       "      <td>2020</td>\n",
       "      <td>12</td>\n",
       "    </tr>\n",
       "    <tr>\n",
       "      <th>75%</th>\n",
       "      <td>2021</td>\n",
       "      <td>15</td>\n",
       "    </tr>\n",
       "    <tr>\n",
       "      <th>max</th>\n",
       "      <td>2022</td>\n",
       "      <td>18</td>\n",
       "    </tr>\n",
       "  </tbody>\n",
       "</table>\n",
       "</div>"
      ],
      "text/plain": [
       "       TIME  VALUE\n",
       "count    24     24\n",
       "mean   2020     11\n",
       "std       1      4\n",
       "min    2019      4\n",
       "25%    2019      9\n",
       "50%    2020     12\n",
       "75%    2021     15\n",
       "max    2022     18"
      ]
     },
     "execution_count": 22,
     "metadata": {},
     "output_type": "execute_result"
    }
   ],
   "source": [
    "df2_selectedlocations.describe().astype(int)"
   ]
  },
  {
   "cell_type": "markdown",
   "metadata": {},
   "source": [
    "### Data Viz\n",
    "\n"
   ]
  },
  {
   "cell_type": "code",
   "execution_count": 23,
   "metadata": {},
   "outputs": [
    {
     "data": {
      "text/plain": [
       "Scale({\n",
       "  range: ['#003f5c', '#58508d', '#bc5090', '#ff6361', '#ffa600']\n",
       "})"
      ]
     },
     "execution_count": 23,
     "metadata": {},
     "output_type": "execute_result"
    }
   ],
   "source": [
    "#Color Scale\n",
    "\n",
    "colors = alt.Scale(\n",
    "    range=['#003f5c','#58508d','#bc5090','#ff6361','#ffa600']\n",
    ")\n",
    "colors"
   ]
  },
  {
   "cell_type": "code",
   "execution_count": 24,
   "metadata": {},
   "outputs": [
    {
     "data": {
      "text/html": [
       "\n",
       "<style>\n",
       "  #altair-viz-da73d048b24f45ad9b9b93f3c0ce40f0.vega-embed {\n",
       "    width: 100%;\n",
       "    display: flex;\n",
       "  }\n",
       "\n",
       "  #altair-viz-da73d048b24f45ad9b9b93f3c0ce40f0.vega-embed details,\n",
       "  #altair-viz-da73d048b24f45ad9b9b93f3c0ce40f0.vega-embed details summary {\n",
       "    position: relative;\n",
       "  }\n",
       "</style>\n",
       "<div id=\"altair-viz-da73d048b24f45ad9b9b93f3c0ce40f0\"></div>\n",
       "<script type=\"text/javascript\">\n",
       "  var VEGA_DEBUG = (typeof VEGA_DEBUG == \"undefined\") ? {} : VEGA_DEBUG;\n",
       "  (function(spec, embedOpt){\n",
       "    let outputDiv = document.currentScript.previousElementSibling;\n",
       "    if (outputDiv.id !== \"altair-viz-da73d048b24f45ad9b9b93f3c0ce40f0\") {\n",
       "      outputDiv = document.getElementById(\"altair-viz-da73d048b24f45ad9b9b93f3c0ce40f0\");\n",
       "    }\n",
       "    const paths = {\n",
       "      \"vega\": \"https://cdn.jsdelivr.net/npm/vega@5?noext\",\n",
       "      \"vega-lib\": \"https://cdn.jsdelivr.net/npm/vega-lib?noext\",\n",
       "      \"vega-lite\": \"https://cdn.jsdelivr.net/npm/vega-lite@5.15.1?noext\",\n",
       "      \"vega-embed\": \"https://cdn.jsdelivr.net/npm/vega-embed@6?noext\",\n",
       "    };\n",
       "\n",
       "    function maybeLoadScript(lib, version) {\n",
       "      var key = `${lib.replace(\"-\", \"\")}_version`;\n",
       "      return (VEGA_DEBUG[key] == version) ?\n",
       "        Promise.resolve(paths[lib]) :\n",
       "        new Promise(function(resolve, reject) {\n",
       "          var s = document.createElement('script');\n",
       "          document.getElementsByTagName(\"head\")[0].appendChild(s);\n",
       "          s.async = true;\n",
       "          s.onload = () => {\n",
       "            VEGA_DEBUG[key] = version;\n",
       "            return resolve(paths[lib]);\n",
       "          };\n",
       "          s.onerror = () => reject(`Error loading script: ${paths[lib]}`);\n",
       "          s.src = paths[lib];\n",
       "        });\n",
       "    }\n",
       "\n",
       "    function showError(err) {\n",
       "      outputDiv.innerHTML = `<div class=\"error\" style=\"color:red;\">${err}</div>`;\n",
       "      throw err;\n",
       "    }\n",
       "\n",
       "    function displayChart(vegaEmbed) {\n",
       "      vegaEmbed(outputDiv, spec, embedOpt)\n",
       "        .catch(err => showError(`Javascript Error: ${err.message}<br>This usually means there's a typo in your chart specification. See the javascript console for the full traceback.`));\n",
       "    }\n",
       "\n",
       "    if(typeof define === \"function\" && define.amd) {\n",
       "      requirejs.config({paths});\n",
       "      require([\"vega-embed\"], displayChart, err => showError(`Error loading script: ${err.message}`));\n",
       "    } else {\n",
       "      maybeLoadScript(\"vega\", \"5\")\n",
       "        .then(() => maybeLoadScript(\"vega-lite\", \"5.15.1\"))\n",
       "        .then(() => maybeLoadScript(\"vega-embed\", \"6\"))\n",
       "        .catch(showError)\n",
       "        .then(() => displayChart(vegaEmbed));\n",
       "    }\n",
       "  })({\"config\": {\"view\": {\"continuousWidth\": 300, \"continuousHeight\": 300}}, \"data\": {\"name\": \"data-7ac37f8d3de7093f73c28ba21ddf0d3e\"}, \"mark\": {\"type\": \"bar\"}, \"encoding\": {\"color\": {\"field\": \"SUBJECT\", \"scale\": {\"range\": [\"#003f5c\", \"#58508d\", \"#bc5090\", \"#ff6361\", \"#ffa600\"]}, \"type\": \"nominal\"}, \"x\": {\"axis\": {\"grid\": false, \"labelAngle\": 0}, \"field\": \"LOCATION\", \"title\": \"Location\", \"type\": \"nominal\"}, \"y\": {\"axis\": {\"grid\": false}, \"field\": \"VALUE\", \"title\": \"Value\", \"type\": \"quantitative\"}}, \"height\": 400, \"title\": \"Distribution Chart\", \"width\": 600, \"$schema\": \"https://vega.github.io/schema/vega-lite/v5.15.1.json\", \"datasets\": {\"data-7ac37f8d3de7093f73c28ba21ddf0d3e\": [{\"LOCATION\": \"Germany\", \"SUBJECT\": \"2 CHILDREN\", \"MEASURE\": \"HR_AVEWAGE\", \"TIME\": 2019, \"VALUE\": 12}, {\"LOCATION\": \"Germany\", \"SUBJECT\": \"2 CHILDREN\", \"MEASURE\": \"HR_AVEWAGE\", \"TIME\": 2020, \"VALUE\": 9}, {\"LOCATION\": \"Germany\", \"SUBJECT\": \"2 CHILDREN\", \"MEASURE\": \"HR_AVEWAGE\", \"TIME\": 2021, \"VALUE\": 9}, {\"LOCATION\": \"Germany\", \"SUBJECT\": \"2 CHILDREN\", \"MEASURE\": \"HR_AVEWAGE\", \"TIME\": 2022, \"VALUE\": 10}, {\"LOCATION\": \"Germany\", \"SUBJECT\": \"NO CHILDREN\", \"MEASURE\": \"HR_AVEWAGE\", \"TIME\": 2019, \"VALUE\": 13}, {\"LOCATION\": \"Germany\", \"SUBJECT\": \"NO CHILDREN\", \"MEASURE\": \"HR_AVEWAGE\", \"TIME\": 2020, \"VALUE\": 13}, {\"LOCATION\": \"Germany\", \"SUBJECT\": \"NO CHILDREN\", \"MEASURE\": \"HR_AVEWAGE\", \"TIME\": 2021, \"VALUE\": 13}, {\"LOCATION\": \"Germany\", \"SUBJECT\": \"NO CHILDREN\", \"MEASURE\": \"HR_AVEWAGE\", \"TIME\": 2022, \"VALUE\": 13}, {\"LOCATION\": \"United Kingdom\", \"SUBJECT\": \"2 CHILDREN\", \"MEASURE\": \"HR_AVEWAGE\", \"TIME\": 2019, \"VALUE\": 5}, {\"LOCATION\": \"United Kingdom\", \"SUBJECT\": \"2 CHILDREN\", \"MEASURE\": \"HR_AVEWAGE\", \"TIME\": 2020, \"VALUE\": 4}, {\"LOCATION\": \"United Kingdom\", \"SUBJECT\": \"2 CHILDREN\", \"MEASURE\": \"HR_AVEWAGE\", \"TIME\": 2021, \"VALUE\": 4}, {\"LOCATION\": \"United Kingdom\", \"SUBJECT\": \"2 CHILDREN\", \"MEASURE\": \"HR_AVEWAGE\", \"TIME\": 2022, \"VALUE\": 6}, {\"LOCATION\": \"United Kingdom\", \"SUBJECT\": \"NO CHILDREN\", \"MEASURE\": \"HR_AVEWAGE\", \"TIME\": 2019, \"VALUE\": 10}, {\"LOCATION\": \"United Kingdom\", \"SUBJECT\": \"NO CHILDREN\", \"MEASURE\": \"HR_AVEWAGE\", \"TIME\": 2020, \"VALUE\": 10}, {\"LOCATION\": \"United Kingdom\", \"SUBJECT\": \"NO CHILDREN\", \"MEASURE\": \"HR_AVEWAGE\", \"TIME\": 2021, \"VALUE\": 10}, {\"LOCATION\": \"United Kingdom\", \"SUBJECT\": \"NO CHILDREN\", \"MEASURE\": \"HR_AVEWAGE\", \"TIME\": 2022, \"VALUE\": 10}, {\"LOCATION\": \"OECD\", \"SUBJECT\": \"2 CHILDREN\", \"MEASURE\": \"HR_AVEWAGE\", \"TIME\": 2019, \"VALUE\": 16}, {\"LOCATION\": \"OECD\", \"SUBJECT\": \"2 CHILDREN\", \"MEASURE\": \"HR_AVEWAGE\", \"TIME\": 2020, \"VALUE\": 17}, {\"LOCATION\": \"OECD\", \"SUBJECT\": \"2 CHILDREN\", \"MEASURE\": \"HR_AVEWAGE\", \"TIME\": 2021, \"VALUE\": 17}, {\"LOCATION\": \"OECD\", \"SUBJECT\": \"2 CHILDREN\", \"MEASURE\": \"HR_AVEWAGE\", \"TIME\": 2022, \"VALUE\": 18}, {\"LOCATION\": \"OECD\", \"SUBJECT\": \"NO CHILDREN\", \"MEASURE\": \"HR_AVEWAGE\", \"TIME\": 2019, \"VALUE\": 15}, {\"LOCATION\": \"OECD\", \"SUBJECT\": \"NO CHILDREN\", \"MEASURE\": \"HR_AVEWAGE\", \"TIME\": 2020, \"VALUE\": 15}, {\"LOCATION\": \"OECD\", \"SUBJECT\": \"NO CHILDREN\", \"MEASURE\": \"HR_AVEWAGE\", \"TIME\": 2021, \"VALUE\": 14}, {\"LOCATION\": \"OECD\", \"SUBJECT\": \"NO CHILDREN\", \"MEASURE\": \"HR_AVEWAGE\", \"TIME\": 2022, \"VALUE\": 15}]}}, {\"mode\": \"vega-lite\"});\n",
       "</script>"
      ],
      "text/plain": [
       "alt.Chart(...)"
      ]
     },
     "execution_count": 24,
     "metadata": {},
     "output_type": "execute_result"
    }
   ],
   "source": [
    "alt.Chart(df2_selectedlocations).mark_bar().encode(\n",
    "    x=alt.X('LOCATION:N', title='Location').axis(\n",
    "        grid=False,\n",
    "        labelAngle=-0,\n",
    "    ),\n",
    "    y=alt.Y('VALUE:Q', title='Value').axis(\n",
    "        grid=False\n",
    "    ),\n",
    "    #tooltip='SUBJECT:N',\n",
    "    color=alt.Color('SUBJECT', scale=colors),\n",
    ").properties(\n",
    "    title='Distribution Chart',\n",
    "    width=600,\n",
    "    height=400\n",
    ")"
   ]
  },
  {
   "cell_type": "code",
   "execution_count": 25,
   "metadata": {},
   "outputs": [
    {
     "data": {
      "text/html": [
       "\n",
       "<style>\n",
       "  #altair-viz-3ece13f4fe9744e4a69abaf756f0007e.vega-embed {\n",
       "    width: 100%;\n",
       "    display: flex;\n",
       "  }\n",
       "\n",
       "  #altair-viz-3ece13f4fe9744e4a69abaf756f0007e.vega-embed details,\n",
       "  #altair-viz-3ece13f4fe9744e4a69abaf756f0007e.vega-embed details summary {\n",
       "    position: relative;\n",
       "  }\n",
       "</style>\n",
       "<div id=\"altair-viz-3ece13f4fe9744e4a69abaf756f0007e\"></div>\n",
       "<script type=\"text/javascript\">\n",
       "  var VEGA_DEBUG = (typeof VEGA_DEBUG == \"undefined\") ? {} : VEGA_DEBUG;\n",
       "  (function(spec, embedOpt){\n",
       "    let outputDiv = document.currentScript.previousElementSibling;\n",
       "    if (outputDiv.id !== \"altair-viz-3ece13f4fe9744e4a69abaf756f0007e\") {\n",
       "      outputDiv = document.getElementById(\"altair-viz-3ece13f4fe9744e4a69abaf756f0007e\");\n",
       "    }\n",
       "    const paths = {\n",
       "      \"vega\": \"https://cdn.jsdelivr.net/npm/vega@5?noext\",\n",
       "      \"vega-lib\": \"https://cdn.jsdelivr.net/npm/vega-lib?noext\",\n",
       "      \"vega-lite\": \"https://cdn.jsdelivr.net/npm/vega-lite@5.15.1?noext\",\n",
       "      \"vega-embed\": \"https://cdn.jsdelivr.net/npm/vega-embed@6?noext\",\n",
       "    };\n",
       "\n",
       "    function maybeLoadScript(lib, version) {\n",
       "      var key = `${lib.replace(\"-\", \"\")}_version`;\n",
       "      return (VEGA_DEBUG[key] == version) ?\n",
       "        Promise.resolve(paths[lib]) :\n",
       "        new Promise(function(resolve, reject) {\n",
       "          var s = document.createElement('script');\n",
       "          document.getElementsByTagName(\"head\")[0].appendChild(s);\n",
       "          s.async = true;\n",
       "          s.onload = () => {\n",
       "            VEGA_DEBUG[key] = version;\n",
       "            return resolve(paths[lib]);\n",
       "          };\n",
       "          s.onerror = () => reject(`Error loading script: ${paths[lib]}`);\n",
       "          s.src = paths[lib];\n",
       "        });\n",
       "    }\n",
       "\n",
       "    function showError(err) {\n",
       "      outputDiv.innerHTML = `<div class=\"error\" style=\"color:red;\">${err}</div>`;\n",
       "      throw err;\n",
       "    }\n",
       "\n",
       "    function displayChart(vegaEmbed) {\n",
       "      vegaEmbed(outputDiv, spec, embedOpt)\n",
       "        .catch(err => showError(`Javascript Error: ${err.message}<br>This usually means there's a typo in your chart specification. See the javascript console for the full traceback.`));\n",
       "    }\n",
       "\n",
       "    if(typeof define === \"function\" && define.amd) {\n",
       "      requirejs.config({paths});\n",
       "      require([\"vega-embed\"], displayChart, err => showError(`Error loading script: ${err.message}`));\n",
       "    } else {\n",
       "      maybeLoadScript(\"vega\", \"5\")\n",
       "        .then(() => maybeLoadScript(\"vega-lite\", \"5.15.1\"))\n",
       "        .then(() => maybeLoadScript(\"vega-embed\", \"6\"))\n",
       "        .catch(showError)\n",
       "        .then(() => displayChart(vegaEmbed));\n",
       "    }\n",
       "  })({\"config\": {\"view\": {\"continuousWidth\": 300, \"continuousHeight\": 300, \"strokeWidth\": 0}, \"title\": {\"anchor\": \"start\", \"color\": \"black\", \"font\": \"Arial\", \"fontSize\": 20}}, \"data\": {\"name\": \"data-7ac37f8d3de7093f73c28ba21ddf0d3e\"}, \"mark\": {\"type\": \"bar\"}, \"encoding\": {\"color\": {\"field\": \"SUBJECT\", \"scale\": {\"range\": [\"#003f5c\", \"#58508d\", \"#bc5090\", \"#ff6361\", \"#ffa600\"]}, \"type\": \"nominal\"}, \"x\": {\"axis\": {\"title\": \"Location\", \"titleAnchor\": \"end\", \"grid\": false, \"labelAngle\": 0}, \"field\": \"LOCATION\", \"sort\": \"-y\", \"type\": \"nominal\"}, \"y\": {\"axis\": {\"title\": \"Hours needed to exit poverty\", \"titleAnchor\": \"end\", \"grid\": false, \"labelAngle\": 0}, \"field\": \"VALUE\", \"type\": \"quantitative\"}}, \"height\": 300, \"title\": \"Bar Chart\", \"width\": 1000, \"$schema\": \"https://vega.github.io/schema/vega-lite/v5.15.1.json\", \"datasets\": {\"data-7ac37f8d3de7093f73c28ba21ddf0d3e\": [{\"LOCATION\": \"Germany\", \"SUBJECT\": \"2 CHILDREN\", \"MEASURE\": \"HR_AVEWAGE\", \"TIME\": 2019, \"VALUE\": 12}, {\"LOCATION\": \"Germany\", \"SUBJECT\": \"2 CHILDREN\", \"MEASURE\": \"HR_AVEWAGE\", \"TIME\": 2020, \"VALUE\": 9}, {\"LOCATION\": \"Germany\", \"SUBJECT\": \"2 CHILDREN\", \"MEASURE\": \"HR_AVEWAGE\", \"TIME\": 2021, \"VALUE\": 9}, {\"LOCATION\": \"Germany\", \"SUBJECT\": \"2 CHILDREN\", \"MEASURE\": \"HR_AVEWAGE\", \"TIME\": 2022, \"VALUE\": 10}, {\"LOCATION\": \"Germany\", \"SUBJECT\": \"NO CHILDREN\", \"MEASURE\": \"HR_AVEWAGE\", \"TIME\": 2019, \"VALUE\": 13}, {\"LOCATION\": \"Germany\", \"SUBJECT\": \"NO CHILDREN\", \"MEASURE\": \"HR_AVEWAGE\", \"TIME\": 2020, \"VALUE\": 13}, {\"LOCATION\": \"Germany\", \"SUBJECT\": \"NO CHILDREN\", \"MEASURE\": \"HR_AVEWAGE\", \"TIME\": 2021, \"VALUE\": 13}, {\"LOCATION\": \"Germany\", \"SUBJECT\": \"NO CHILDREN\", \"MEASURE\": \"HR_AVEWAGE\", \"TIME\": 2022, \"VALUE\": 13}, {\"LOCATION\": \"United Kingdom\", \"SUBJECT\": \"2 CHILDREN\", \"MEASURE\": \"HR_AVEWAGE\", \"TIME\": 2019, \"VALUE\": 5}, {\"LOCATION\": \"United Kingdom\", \"SUBJECT\": \"2 CHILDREN\", \"MEASURE\": \"HR_AVEWAGE\", \"TIME\": 2020, \"VALUE\": 4}, {\"LOCATION\": \"United Kingdom\", \"SUBJECT\": \"2 CHILDREN\", \"MEASURE\": \"HR_AVEWAGE\", \"TIME\": 2021, \"VALUE\": 4}, {\"LOCATION\": \"United Kingdom\", \"SUBJECT\": \"2 CHILDREN\", \"MEASURE\": \"HR_AVEWAGE\", \"TIME\": 2022, \"VALUE\": 6}, {\"LOCATION\": \"United Kingdom\", \"SUBJECT\": \"NO CHILDREN\", \"MEASURE\": \"HR_AVEWAGE\", \"TIME\": 2019, \"VALUE\": 10}, {\"LOCATION\": \"United Kingdom\", \"SUBJECT\": \"NO CHILDREN\", \"MEASURE\": \"HR_AVEWAGE\", \"TIME\": 2020, \"VALUE\": 10}, {\"LOCATION\": \"United Kingdom\", \"SUBJECT\": \"NO CHILDREN\", \"MEASURE\": \"HR_AVEWAGE\", \"TIME\": 2021, \"VALUE\": 10}, {\"LOCATION\": \"United Kingdom\", \"SUBJECT\": \"NO CHILDREN\", \"MEASURE\": \"HR_AVEWAGE\", \"TIME\": 2022, \"VALUE\": 10}, {\"LOCATION\": \"OECD\", \"SUBJECT\": \"2 CHILDREN\", \"MEASURE\": \"HR_AVEWAGE\", \"TIME\": 2019, \"VALUE\": 16}, {\"LOCATION\": \"OECD\", \"SUBJECT\": \"2 CHILDREN\", \"MEASURE\": \"HR_AVEWAGE\", \"TIME\": 2020, \"VALUE\": 17}, {\"LOCATION\": \"OECD\", \"SUBJECT\": \"2 CHILDREN\", \"MEASURE\": \"HR_AVEWAGE\", \"TIME\": 2021, \"VALUE\": 17}, {\"LOCATION\": \"OECD\", \"SUBJECT\": \"2 CHILDREN\", \"MEASURE\": \"HR_AVEWAGE\", \"TIME\": 2022, \"VALUE\": 18}, {\"LOCATION\": \"OECD\", \"SUBJECT\": \"NO CHILDREN\", \"MEASURE\": \"HR_AVEWAGE\", \"TIME\": 2019, \"VALUE\": 15}, {\"LOCATION\": \"OECD\", \"SUBJECT\": \"NO CHILDREN\", \"MEASURE\": \"HR_AVEWAGE\", \"TIME\": 2020, \"VALUE\": 15}, {\"LOCATION\": \"OECD\", \"SUBJECT\": \"NO CHILDREN\", \"MEASURE\": \"HR_AVEWAGE\", \"TIME\": 2021, \"VALUE\": 14}, {\"LOCATION\": \"OECD\", \"SUBJECT\": \"NO CHILDREN\", \"MEASURE\": \"HR_AVEWAGE\", \"TIME\": 2022, \"VALUE\": 15}]}}, {\"mode\": \"vega-lite\"});\n",
       "</script>"
      ],
      "text/plain": [
       "alt.Chart(...)"
      ]
     },
     "execution_count": 25,
     "metadata": {},
     "output_type": "execute_result"
    }
   ],
   "source": [
    "# A C M I \n",
    "#aggregate=count soll Ausprägungen der Variable Homeownership zählen \n",
    "\n",
    "alt.Chart(df2_selectedlocations).mark_bar().encode(\n",
    "    x=alt.X('LOCATION').sort('-y').axis  # - gibt an, dass nach absteigender Ausprägung sortiert wird\n",
    "    (title='Location',\n",
    "     titleAnchor='end',\n",
    "     grid=False,\n",
    "     labelAngle=0), # Labels von Homeownership werden gedreht\n",
    "    y=alt.Y('VALUE:Q').axis  \n",
    "    (title='Hours needed to exit poverty',\n",
    "     titleAnchor='end',\n",
    "      grid=False,\n",
    "     labelAngle=0),\n",
    "    color=alt.Color('SUBJECT', scale=colors),\n",
    ").properties(\n",
    "    title='Bar Chart',\n",
    "    width=1000,\n",
    "    height=300\n",
    ").configure_title(\n",
    "    fontSize=20,\n",
    "    font='Arial',\n",
    "    color='black',\n",
    "    anchor='start'\n",
    ").configure_view(strokeWidth=0)"
   ]
  },
  {
   "cell_type": "code",
   "execution_count": 26,
   "metadata": {},
   "outputs": [],
   "source": [
    "df2_selectedlocations.to_csv('df2_selectedlocations.csv', index=False)\n"
   ]
  },
  {
   "cell_type": "markdown",
   "metadata": {},
   "source": [
    "## Line Chart"
   ]
  },
  {
   "cell_type": "code",
   "execution_count": 27,
   "metadata": {},
   "outputs": [
    {
     "data": {
      "text/plain": [
       "Scale({\n",
       "  range: ['#58508d', '#ff6361', '#ffa600']\n",
       "})"
      ]
     },
     "execution_count": 27,
     "metadata": {},
     "output_type": "execute_result"
    }
   ],
   "source": [
    "colors2 = alt.Scale(\n",
    "    range=['#58508d','#ff6361','#ffa600']\n",
    ")\n",
    "colors2"
   ]
  },
  {
   "cell_type": "code",
   "execution_count": 28,
   "metadata": {},
   "outputs": [],
   "source": [
    "linechart2 = alt.Chart(df2_selectedlocations).mark_line().encode(\n",
    "    x=alt.X('TIME:O', title='Jahr').axis(\n",
    "        titleAnchor='start',\n",
    "        labelAngle= -0,\n",
    "        ),\n",
    "    y=alt.Y('mean(VALUE)').axis(\n",
    "        title='Anzahl Stunden',\n",
    "        titleAnchor='end',\n",
    "        grid= False,\n",
    "        ),\n",
    "    strokeWidth=alt.value(4), \n",
    "    color=alt.Color('SUBJECT', scale=colors2),\n",
    "    tooltip=['SUBJECT']\n",
    ")\n"
   ]
  },
  {
   "cell_type": "code",
   "execution_count": 29,
   "metadata": {},
   "outputs": [],
   "source": [
    "status_list = df2_selectedlocations['SUBJECT'].tolist()\n",
    "\n",
    "linechart2_labels = alt.Chart(df2_selectedlocations).mark_text(align='left', dx=10).encode(\n",
    "    alt.X('TIME:O', aggregate='max'),\n",
    "    alt.Y('VALUE', aggregate={'argmax': 'VALUE'}), #genauen Wert angeben\n",
    "    alt.Text('SUBJECT'),\n",
    "    alt.Color('SUBJECT:N', legend=None, scale=alt.Scale(domain=status_list,type='ordinal')),\n",
    ").properties(\n",
    "    width=800,\n",
    "    height=500,\n",
    "    title=alt.Title(\n",
    "        \"Hours needed to exit poverty\",\n",
    "        subtitle=\"in relation to family status\",\n",
    "        )     \n",
    ")"
   ]
  },
  {
   "cell_type": "code",
   "execution_count": 30,
   "metadata": {},
   "outputs": [
    {
     "data": {
      "text/html": [
       "\n",
       "<style>\n",
       "  #altair-viz-6e3e46c72b6140b9a7937e21951cf089.vega-embed {\n",
       "    width: 100%;\n",
       "    display: flex;\n",
       "  }\n",
       "\n",
       "  #altair-viz-6e3e46c72b6140b9a7937e21951cf089.vega-embed details,\n",
       "  #altair-viz-6e3e46c72b6140b9a7937e21951cf089.vega-embed details summary {\n",
       "    position: relative;\n",
       "  }\n",
       "</style>\n",
       "<div id=\"altair-viz-6e3e46c72b6140b9a7937e21951cf089\"></div>\n",
       "<script type=\"text/javascript\">\n",
       "  var VEGA_DEBUG = (typeof VEGA_DEBUG == \"undefined\") ? {} : VEGA_DEBUG;\n",
       "  (function(spec, embedOpt){\n",
       "    let outputDiv = document.currentScript.previousElementSibling;\n",
       "    if (outputDiv.id !== \"altair-viz-6e3e46c72b6140b9a7937e21951cf089\") {\n",
       "      outputDiv = document.getElementById(\"altair-viz-6e3e46c72b6140b9a7937e21951cf089\");\n",
       "    }\n",
       "    const paths = {\n",
       "      \"vega\": \"https://cdn.jsdelivr.net/npm/vega@5?noext\",\n",
       "      \"vega-lib\": \"https://cdn.jsdelivr.net/npm/vega-lib?noext\",\n",
       "      \"vega-lite\": \"https://cdn.jsdelivr.net/npm/vega-lite@5.15.1?noext\",\n",
       "      \"vega-embed\": \"https://cdn.jsdelivr.net/npm/vega-embed@6?noext\",\n",
       "    };\n",
       "\n",
       "    function maybeLoadScript(lib, version) {\n",
       "      var key = `${lib.replace(\"-\", \"\")}_version`;\n",
       "      return (VEGA_DEBUG[key] == version) ?\n",
       "        Promise.resolve(paths[lib]) :\n",
       "        new Promise(function(resolve, reject) {\n",
       "          var s = document.createElement('script');\n",
       "          document.getElementsByTagName(\"head\")[0].appendChild(s);\n",
       "          s.async = true;\n",
       "          s.onload = () => {\n",
       "            VEGA_DEBUG[key] = version;\n",
       "            return resolve(paths[lib]);\n",
       "          };\n",
       "          s.onerror = () => reject(`Error loading script: ${paths[lib]}`);\n",
       "          s.src = paths[lib];\n",
       "        });\n",
       "    }\n",
       "\n",
       "    function showError(err) {\n",
       "      outputDiv.innerHTML = `<div class=\"error\" style=\"color:red;\">${err}</div>`;\n",
       "      throw err;\n",
       "    }\n",
       "\n",
       "    function displayChart(vegaEmbed) {\n",
       "      vegaEmbed(outputDiv, spec, embedOpt)\n",
       "        .catch(err => showError(`Javascript Error: ${err.message}<br>This usually means there's a typo in your chart specification. See the javascript console for the full traceback.`));\n",
       "    }\n",
       "\n",
       "    if(typeof define === \"function\" && define.amd) {\n",
       "      requirejs.config({paths});\n",
       "      require([\"vega-embed\"], displayChart, err => showError(`Error loading script: ${err.message}`));\n",
       "    } else {\n",
       "      maybeLoadScript(\"vega\", \"5\")\n",
       "        .then(() => maybeLoadScript(\"vega-lite\", \"5.15.1\"))\n",
       "        .then(() => maybeLoadScript(\"vega-embed\", \"6\"))\n",
       "        .catch(showError)\n",
       "        .then(() => displayChart(vegaEmbed));\n",
       "    }\n",
       "  })({\"config\": {\"view\": {\"continuousWidth\": 300, \"continuousHeight\": 300, \"strokeWidth\": 0}, \"axis\": {\"labelFontSize\": 11, \"titleColor\": \"grey\", \"titleFontSize\": 12, \"titleFontWeight\": \"normal\"}, \"text\": {\"fontSize\": 12, \"fontWeight\": \"bold\"}, \"title\": {\"anchor\": \"start\", \"fontSize\": 20, \"fontWeight\": \"bold\"}}, \"layer\": [{\"mark\": {\"type\": \"line\"}, \"encoding\": {\"color\": {\"field\": \"SUBJECT\", \"scale\": {\"range\": [\"#58508d\", \"#ff6361\", \"#ffa600\"]}, \"type\": \"nominal\"}, \"strokeWidth\": {\"value\": 4}, \"tooltip\": [{\"field\": \"SUBJECT\", \"type\": \"nominal\"}], \"x\": {\"axis\": {\"titleAnchor\": \"start\", \"labelAngle\": 0}, \"field\": \"TIME\", \"title\": \"Jahr\", \"type\": \"ordinal\"}, \"y\": {\"aggregate\": \"mean\", \"axis\": {\"title\": \"Anzahl Stunden\", \"titleAnchor\": \"end\", \"grid\": false}, \"field\": \"VALUE\", \"type\": \"quantitative\"}}}, {\"mark\": {\"type\": \"text\", \"align\": \"left\", \"dx\": 10}, \"encoding\": {\"color\": {\"field\": \"SUBJECT\", \"legend\": null, \"scale\": {\"domain\": [\"2 CHILDREN\", \"2 CHILDREN\", \"2 CHILDREN\", \"2 CHILDREN\", \"NO CHILDREN\", \"NO CHILDREN\", \"NO CHILDREN\", \"NO CHILDREN\", \"2 CHILDREN\", \"2 CHILDREN\", \"2 CHILDREN\", \"2 CHILDREN\", \"NO CHILDREN\", \"NO CHILDREN\", \"NO CHILDREN\", \"NO CHILDREN\", \"2 CHILDREN\", \"2 CHILDREN\", \"2 CHILDREN\", \"2 CHILDREN\", \"NO CHILDREN\", \"NO CHILDREN\", \"NO CHILDREN\", \"NO CHILDREN\"], \"type\": \"ordinal\"}, \"type\": \"nominal\"}, \"text\": {\"field\": \"SUBJECT\", \"type\": \"nominal\"}, \"x\": {\"aggregate\": \"max\", \"field\": \"TIME\", \"type\": \"ordinal\"}, \"y\": {\"aggregate\": {\"argmax\": \"VALUE\"}, \"field\": \"VALUE\", \"type\": \"quantitative\"}}, \"title\": {\"text\": \"Hours needed to exit poverty\", \"subtitle\": \"in relation to family status\"}}], \"data\": {\"name\": \"data-7ac37f8d3de7093f73c28ba21ddf0d3e\"}, \"height\": 500, \"width\": 800, \"$schema\": \"https://vega.github.io/schema/vega-lite/v5.15.1.json\", \"datasets\": {\"data-7ac37f8d3de7093f73c28ba21ddf0d3e\": [{\"LOCATION\": \"Germany\", \"SUBJECT\": \"2 CHILDREN\", \"MEASURE\": \"HR_AVEWAGE\", \"TIME\": 2019, \"VALUE\": 12}, {\"LOCATION\": \"Germany\", \"SUBJECT\": \"2 CHILDREN\", \"MEASURE\": \"HR_AVEWAGE\", \"TIME\": 2020, \"VALUE\": 9}, {\"LOCATION\": \"Germany\", \"SUBJECT\": \"2 CHILDREN\", \"MEASURE\": \"HR_AVEWAGE\", \"TIME\": 2021, \"VALUE\": 9}, {\"LOCATION\": \"Germany\", \"SUBJECT\": \"2 CHILDREN\", \"MEASURE\": \"HR_AVEWAGE\", \"TIME\": 2022, \"VALUE\": 10}, {\"LOCATION\": \"Germany\", \"SUBJECT\": \"NO CHILDREN\", \"MEASURE\": \"HR_AVEWAGE\", \"TIME\": 2019, \"VALUE\": 13}, {\"LOCATION\": \"Germany\", \"SUBJECT\": \"NO CHILDREN\", \"MEASURE\": \"HR_AVEWAGE\", \"TIME\": 2020, \"VALUE\": 13}, {\"LOCATION\": \"Germany\", \"SUBJECT\": \"NO CHILDREN\", \"MEASURE\": \"HR_AVEWAGE\", \"TIME\": 2021, \"VALUE\": 13}, {\"LOCATION\": \"Germany\", \"SUBJECT\": \"NO CHILDREN\", \"MEASURE\": \"HR_AVEWAGE\", \"TIME\": 2022, \"VALUE\": 13}, {\"LOCATION\": \"United Kingdom\", \"SUBJECT\": \"2 CHILDREN\", \"MEASURE\": \"HR_AVEWAGE\", \"TIME\": 2019, \"VALUE\": 5}, {\"LOCATION\": \"United Kingdom\", \"SUBJECT\": \"2 CHILDREN\", \"MEASURE\": \"HR_AVEWAGE\", \"TIME\": 2020, \"VALUE\": 4}, {\"LOCATION\": \"United Kingdom\", \"SUBJECT\": \"2 CHILDREN\", \"MEASURE\": \"HR_AVEWAGE\", \"TIME\": 2021, \"VALUE\": 4}, {\"LOCATION\": \"United Kingdom\", \"SUBJECT\": \"2 CHILDREN\", \"MEASURE\": \"HR_AVEWAGE\", \"TIME\": 2022, \"VALUE\": 6}, {\"LOCATION\": \"United Kingdom\", \"SUBJECT\": \"NO CHILDREN\", \"MEASURE\": \"HR_AVEWAGE\", \"TIME\": 2019, \"VALUE\": 10}, {\"LOCATION\": \"United Kingdom\", \"SUBJECT\": \"NO CHILDREN\", \"MEASURE\": \"HR_AVEWAGE\", \"TIME\": 2020, \"VALUE\": 10}, {\"LOCATION\": \"United Kingdom\", \"SUBJECT\": \"NO CHILDREN\", \"MEASURE\": \"HR_AVEWAGE\", \"TIME\": 2021, \"VALUE\": 10}, {\"LOCATION\": \"United Kingdom\", \"SUBJECT\": \"NO CHILDREN\", \"MEASURE\": \"HR_AVEWAGE\", \"TIME\": 2022, \"VALUE\": 10}, {\"LOCATION\": \"OECD\", \"SUBJECT\": \"2 CHILDREN\", \"MEASURE\": \"HR_AVEWAGE\", \"TIME\": 2019, \"VALUE\": 16}, {\"LOCATION\": \"OECD\", \"SUBJECT\": \"2 CHILDREN\", \"MEASURE\": \"HR_AVEWAGE\", \"TIME\": 2020, \"VALUE\": 17}, {\"LOCATION\": \"OECD\", \"SUBJECT\": \"2 CHILDREN\", \"MEASURE\": \"HR_AVEWAGE\", \"TIME\": 2021, \"VALUE\": 17}, {\"LOCATION\": \"OECD\", \"SUBJECT\": \"2 CHILDREN\", \"MEASURE\": \"HR_AVEWAGE\", \"TIME\": 2022, \"VALUE\": 18}, {\"LOCATION\": \"OECD\", \"SUBJECT\": \"NO CHILDREN\", \"MEASURE\": \"HR_AVEWAGE\", \"TIME\": 2019, \"VALUE\": 15}, {\"LOCATION\": \"OECD\", \"SUBJECT\": \"NO CHILDREN\", \"MEASURE\": \"HR_AVEWAGE\", \"TIME\": 2020, \"VALUE\": 15}, {\"LOCATION\": \"OECD\", \"SUBJECT\": \"NO CHILDREN\", \"MEASURE\": \"HR_AVEWAGE\", \"TIME\": 2021, \"VALUE\": 14}, {\"LOCATION\": \"OECD\", \"SUBJECT\": \"NO CHILDREN\", \"MEASURE\": \"HR_AVEWAGE\", \"TIME\": 2022, \"VALUE\": 15}]}}, {\"mode\": \"vega-lite\"});\n",
       "</script>"
      ],
      "text/plain": [
       "alt.LayerChart(...)"
      ]
     },
     "execution_count": 30,
     "metadata": {},
     "output_type": "execute_result"
    }
   ],
   "source": [
    "linechart2_final = alt.layer(linechart2, linechart2_labels).configure_view(\n",
    "    strokeWidth=0\n",
    ").configure_title(\n",
    "    fontSize=20,\n",
    "    anchor='start',\n",
    "    fontWeight='bold',\n",
    ").configure_axis(\n",
    "    labelFontSize = 11,\n",
    "    titleFontSize = 12,\n",
    "    titleFontWeight= 'normal',\n",
    "    titleColor='grey'\n",
    ").configure_text(\n",
    "    fontWeight='bold',\n",
    "    fontSize = 12\n",
    ")\n",
    "\n",
    "linechart2_final"
   ]
  },
  {
   "cell_type": "markdown",
   "metadata": {},
   "source": [
    "Boxplot"
   ]
  },
  {
   "cell_type": "code",
   "execution_count": 31,
   "metadata": {},
   "outputs": [
    {
     "data": {
      "text/html": [
       "\n",
       "<style>\n",
       "  #altair-viz-a2c72f1f636c4435ada3af6ac0e67080.vega-embed {\n",
       "    width: 100%;\n",
       "    display: flex;\n",
       "  }\n",
       "\n",
       "  #altair-viz-a2c72f1f636c4435ada3af6ac0e67080.vega-embed details,\n",
       "  #altair-viz-a2c72f1f636c4435ada3af6ac0e67080.vega-embed details summary {\n",
       "    position: relative;\n",
       "  }\n",
       "</style>\n",
       "<div id=\"altair-viz-a2c72f1f636c4435ada3af6ac0e67080\"></div>\n",
       "<script type=\"text/javascript\">\n",
       "  var VEGA_DEBUG = (typeof VEGA_DEBUG == \"undefined\") ? {} : VEGA_DEBUG;\n",
       "  (function(spec, embedOpt){\n",
       "    let outputDiv = document.currentScript.previousElementSibling;\n",
       "    if (outputDiv.id !== \"altair-viz-a2c72f1f636c4435ada3af6ac0e67080\") {\n",
       "      outputDiv = document.getElementById(\"altair-viz-a2c72f1f636c4435ada3af6ac0e67080\");\n",
       "    }\n",
       "    const paths = {\n",
       "      \"vega\": \"https://cdn.jsdelivr.net/npm/vega@5?noext\",\n",
       "      \"vega-lib\": \"https://cdn.jsdelivr.net/npm/vega-lib?noext\",\n",
       "      \"vega-lite\": \"https://cdn.jsdelivr.net/npm/vega-lite@5.15.1?noext\",\n",
       "      \"vega-embed\": \"https://cdn.jsdelivr.net/npm/vega-embed@6?noext\",\n",
       "    };\n",
       "\n",
       "    function maybeLoadScript(lib, version) {\n",
       "      var key = `${lib.replace(\"-\", \"\")}_version`;\n",
       "      return (VEGA_DEBUG[key] == version) ?\n",
       "        Promise.resolve(paths[lib]) :\n",
       "        new Promise(function(resolve, reject) {\n",
       "          var s = document.createElement('script');\n",
       "          document.getElementsByTagName(\"head\")[0].appendChild(s);\n",
       "          s.async = true;\n",
       "          s.onload = () => {\n",
       "            VEGA_DEBUG[key] = version;\n",
       "            return resolve(paths[lib]);\n",
       "          };\n",
       "          s.onerror = () => reject(`Error loading script: ${paths[lib]}`);\n",
       "          s.src = paths[lib];\n",
       "        });\n",
       "    }\n",
       "\n",
       "    function showError(err) {\n",
       "      outputDiv.innerHTML = `<div class=\"error\" style=\"color:red;\">${err}</div>`;\n",
       "      throw err;\n",
       "    }\n",
       "\n",
       "    function displayChart(vegaEmbed) {\n",
       "      vegaEmbed(outputDiv, spec, embedOpt)\n",
       "        .catch(err => showError(`Javascript Error: ${err.message}<br>This usually means there's a typo in your chart specification. See the javascript console for the full traceback.`));\n",
       "    }\n",
       "\n",
       "    if(typeof define === \"function\" && define.amd) {\n",
       "      requirejs.config({paths});\n",
       "      require([\"vega-embed\"], displayChart, err => showError(`Error loading script: ${err.message}`));\n",
       "    } else {\n",
       "      maybeLoadScript(\"vega\", \"5\")\n",
       "        .then(() => maybeLoadScript(\"vega-lite\", \"5.15.1\"))\n",
       "        .then(() => maybeLoadScript(\"vega-embed\", \"6\"))\n",
       "        .catch(showError)\n",
       "        .then(() => displayChart(vegaEmbed));\n",
       "    }\n",
       "  })({\"config\": {\"view\": {\"continuousWidth\": 300, \"continuousHeight\": 300, \"strokeWidth\": 0}, \"axis\": {\"labelFontSize\": 11, \"labelFontWeight\": \"bold\", \"titleColor\": \"grey\", \"titleFontSize\": 12, \"titleFontWeight\": \"normal\"}, \"text\": {\"fontSize\": 12, \"fontWeight\": \"bold\"}, \"title\": {\"anchor\": \"middle\", \"fontSize\": 20, \"fontWeight\": \"bold\"}}, \"layer\": [{\"mark\": {\"type\": \"boxplot\", \"extent\": 0.5, \"size\": 50}, \"encoding\": {\"color\": {\"field\": \"SUBJECT\", \"legend\": null, \"scale\": {\"range\": [\"#58508d\", \"#ff6361\", \"#ffa600\"]}, \"type\": \"nominal\"}, \"x\": {\"axis\": {\"title\": null, \"labelAngle\": 0, \"grid\": false, \"labelColor\": \"black\", \"tickColor\": \"grey\"}, \"field\": \"SUBJECT\", \"type\": \"nominal\"}, \"y\": {\"axis\": {\"titleAnchor\": \"start\", \"grid\": false, \"labelColor\": \"black\", \"tickColor\": \"black\"}, \"field\": \"VALUE\", \"scale\": {\"bins\": [0, 2, 4, 6, 8, 10, 12, 14, 16, 18], \"domain\": [0, 20]}, \"type\": \"quantitative\"}}, \"title\": {\"text\": \"Hours needed to exit poverty\", \"subtitle\": \"in relation to family status\"}}], \"data\": {\"name\": \"data-7ac37f8d3de7093f73c28ba21ddf0d3e\"}, \"height\": 500, \"width\": 800, \"$schema\": \"https://vega.github.io/schema/vega-lite/v5.15.1.json\", \"datasets\": {\"data-7ac37f8d3de7093f73c28ba21ddf0d3e\": [{\"LOCATION\": \"Germany\", \"SUBJECT\": \"2 CHILDREN\", \"MEASURE\": \"HR_AVEWAGE\", \"TIME\": 2019, \"VALUE\": 12}, {\"LOCATION\": \"Germany\", \"SUBJECT\": \"2 CHILDREN\", \"MEASURE\": \"HR_AVEWAGE\", \"TIME\": 2020, \"VALUE\": 9}, {\"LOCATION\": \"Germany\", \"SUBJECT\": \"2 CHILDREN\", \"MEASURE\": \"HR_AVEWAGE\", \"TIME\": 2021, \"VALUE\": 9}, {\"LOCATION\": \"Germany\", \"SUBJECT\": \"2 CHILDREN\", \"MEASURE\": \"HR_AVEWAGE\", \"TIME\": 2022, \"VALUE\": 10}, {\"LOCATION\": \"Germany\", \"SUBJECT\": \"NO CHILDREN\", \"MEASURE\": \"HR_AVEWAGE\", \"TIME\": 2019, \"VALUE\": 13}, {\"LOCATION\": \"Germany\", \"SUBJECT\": \"NO CHILDREN\", \"MEASURE\": \"HR_AVEWAGE\", \"TIME\": 2020, \"VALUE\": 13}, {\"LOCATION\": \"Germany\", \"SUBJECT\": \"NO CHILDREN\", \"MEASURE\": \"HR_AVEWAGE\", \"TIME\": 2021, \"VALUE\": 13}, {\"LOCATION\": \"Germany\", \"SUBJECT\": \"NO CHILDREN\", \"MEASURE\": \"HR_AVEWAGE\", \"TIME\": 2022, \"VALUE\": 13}, {\"LOCATION\": \"United Kingdom\", \"SUBJECT\": \"2 CHILDREN\", \"MEASURE\": \"HR_AVEWAGE\", \"TIME\": 2019, \"VALUE\": 5}, {\"LOCATION\": \"United Kingdom\", \"SUBJECT\": \"2 CHILDREN\", \"MEASURE\": \"HR_AVEWAGE\", \"TIME\": 2020, \"VALUE\": 4}, {\"LOCATION\": \"United Kingdom\", \"SUBJECT\": \"2 CHILDREN\", \"MEASURE\": \"HR_AVEWAGE\", \"TIME\": 2021, \"VALUE\": 4}, {\"LOCATION\": \"United Kingdom\", \"SUBJECT\": \"2 CHILDREN\", \"MEASURE\": \"HR_AVEWAGE\", \"TIME\": 2022, \"VALUE\": 6}, {\"LOCATION\": \"United Kingdom\", \"SUBJECT\": \"NO CHILDREN\", \"MEASURE\": \"HR_AVEWAGE\", \"TIME\": 2019, \"VALUE\": 10}, {\"LOCATION\": \"United Kingdom\", \"SUBJECT\": \"NO CHILDREN\", \"MEASURE\": \"HR_AVEWAGE\", \"TIME\": 2020, \"VALUE\": 10}, {\"LOCATION\": \"United Kingdom\", \"SUBJECT\": \"NO CHILDREN\", \"MEASURE\": \"HR_AVEWAGE\", \"TIME\": 2021, \"VALUE\": 10}, {\"LOCATION\": \"United Kingdom\", \"SUBJECT\": \"NO CHILDREN\", \"MEASURE\": \"HR_AVEWAGE\", \"TIME\": 2022, \"VALUE\": 10}, {\"LOCATION\": \"OECD\", \"SUBJECT\": \"2 CHILDREN\", \"MEASURE\": \"HR_AVEWAGE\", \"TIME\": 2019, \"VALUE\": 16}, {\"LOCATION\": \"OECD\", \"SUBJECT\": \"2 CHILDREN\", \"MEASURE\": \"HR_AVEWAGE\", \"TIME\": 2020, \"VALUE\": 17}, {\"LOCATION\": \"OECD\", \"SUBJECT\": \"2 CHILDREN\", \"MEASURE\": \"HR_AVEWAGE\", \"TIME\": 2021, \"VALUE\": 17}, {\"LOCATION\": \"OECD\", \"SUBJECT\": \"2 CHILDREN\", \"MEASURE\": \"HR_AVEWAGE\", \"TIME\": 2022, \"VALUE\": 18}, {\"LOCATION\": \"OECD\", \"SUBJECT\": \"NO CHILDREN\", \"MEASURE\": \"HR_AVEWAGE\", \"TIME\": 2019, \"VALUE\": 15}, {\"LOCATION\": \"OECD\", \"SUBJECT\": \"NO CHILDREN\", \"MEASURE\": \"HR_AVEWAGE\", \"TIME\": 2020, \"VALUE\": 15}, {\"LOCATION\": \"OECD\", \"SUBJECT\": \"NO CHILDREN\", \"MEASURE\": \"HR_AVEWAGE\", \"TIME\": 2021, \"VALUE\": 14}, {\"LOCATION\": \"OECD\", \"SUBJECT\": \"NO CHILDREN\", \"MEASURE\": \"HR_AVEWAGE\", \"TIME\": 2022, \"VALUE\": 15}]}}, {\"mode\": \"vega-lite\"});\n",
       "</script>"
      ],
      "text/plain": [
       "alt.LayerChart(...)"
      ]
     },
     "execution_count": 31,
     "metadata": {},
     "output_type": "execute_result"
    }
   ],
   "source": [
    "boxplot = alt.Chart(df2_selectedlocations).mark_boxplot(size=50, extent=0.5).encode(\n",
    "    x=alt.X('SUBJECT').axis(\n",
    "        title=None,\n",
    "        labelAngle=0,\n",
    "        grid=False,\n",
    "        labelColor='black',\n",
    "        tickColor='grey'),\n",
    "    y=alt.Y('VALUE:Q', scale=alt.Scale(bins=[0,2,4,6,8,10,12,14,16,18],domain=(0,20))).axis(\n",
    "        titleAnchor='start',\n",
    "        grid=False,\n",
    "        labelColor='black',\n",
    "        tickColor='black'),\n",
    "    color=alt.Color('SUBJECT', scale=colors2, legend=None),\n",
    ").properties(\n",
    "    width=800,\n",
    "    height=500,\n",
    "    title=alt.Title(\n",
    "        \"Hours needed to exit poverty\",\n",
    "        subtitle=\"in relation to family status\",\n",
    "    )\n",
    ")\n",
    "\n",
    "boxplot_final = alt.layer(boxplot).configure_view(\n",
    "    strokeWidth=0\n",
    ").configure_title(\n",
    "    fontSize=20,\n",
    "    anchor='middle',\n",
    "    fontWeight='bold',\n",
    ").configure_axis(\n",
    "    labelFontSize = 11,\n",
    "    labelFontWeight='bold',\n",
    "    titleFontSize = 12,\n",
    "    titleFontWeight= 'normal',\n",
    "    titleColor='grey'\n",
    ").configure_text(\n",
    "    fontWeight='bold',\n",
    "    fontSize = 12\n",
    ")\n",
    "\n",
    "boxplot_final\n",
    "\n"
   ]
  },
  {
   "cell_type": "code",
   "execution_count": 41,
   "metadata": {},
   "outputs": [
    {
     "data": {
      "text/plain": [
       "10.6"
      ]
     },
     "execution_count": 41,
     "metadata": {},
     "output_type": "execute_result"
    }
   ],
   "source": [
    "mean_2children = df2_selectedlocations[df2_selectedlocations['SUBJECT'] == '2 CHILDREN']['VALUE'].mean()\n",
    "mean_2children.round(1)\n"
   ]
  },
  {
   "cell_type": "code",
   "execution_count": 42,
   "metadata": {},
   "outputs": [
    {
     "data": {
      "text/plain": [
       "12.6"
      ]
     },
     "execution_count": 42,
     "metadata": {},
     "output_type": "execute_result"
    }
   ],
   "source": [
    "mean_0children = df2_selectedlocations[df2_selectedlocations['SUBJECT'] == 'NO CHILDREN']['VALUE'].mean()\n",
    "mean_0children.round(1)"
   ]
  },
  {
   "cell_type": "code",
   "execution_count": 32,
   "metadata": {},
   "outputs": [
    {
     "data": {
      "text/html": [
       "\n",
       "<style>\n",
       "  #altair-viz-ca084b73623b4ecc987cb028e6392289.vega-embed {\n",
       "    width: 100%;\n",
       "    display: flex;\n",
       "  }\n",
       "\n",
       "  #altair-viz-ca084b73623b4ecc987cb028e6392289.vega-embed details,\n",
       "  #altair-viz-ca084b73623b4ecc987cb028e6392289.vega-embed details summary {\n",
       "    position: relative;\n",
       "  }\n",
       "</style>\n",
       "<div id=\"altair-viz-ca084b73623b4ecc987cb028e6392289\"></div>\n",
       "<script type=\"text/javascript\">\n",
       "  var VEGA_DEBUG = (typeof VEGA_DEBUG == \"undefined\") ? {} : VEGA_DEBUG;\n",
       "  (function(spec, embedOpt){\n",
       "    let outputDiv = document.currentScript.previousElementSibling;\n",
       "    if (outputDiv.id !== \"altair-viz-ca084b73623b4ecc987cb028e6392289\") {\n",
       "      outputDiv = document.getElementById(\"altair-viz-ca084b73623b4ecc987cb028e6392289\");\n",
       "    }\n",
       "    const paths = {\n",
       "      \"vega\": \"https://cdn.jsdelivr.net/npm/vega@5?noext\",\n",
       "      \"vega-lib\": \"https://cdn.jsdelivr.net/npm/vega-lib?noext\",\n",
       "      \"vega-lite\": \"https://cdn.jsdelivr.net/npm/vega-lite@5.15.1?noext\",\n",
       "      \"vega-embed\": \"https://cdn.jsdelivr.net/npm/vega-embed@6?noext\",\n",
       "    };\n",
       "\n",
       "    function maybeLoadScript(lib, version) {\n",
       "      var key = `${lib.replace(\"-\", \"\")}_version`;\n",
       "      return (VEGA_DEBUG[key] == version) ?\n",
       "        Promise.resolve(paths[lib]) :\n",
       "        new Promise(function(resolve, reject) {\n",
       "          var s = document.createElement('script');\n",
       "          document.getElementsByTagName(\"head\")[0].appendChild(s);\n",
       "          s.async = true;\n",
       "          s.onload = () => {\n",
       "            VEGA_DEBUG[key] = version;\n",
       "            return resolve(paths[lib]);\n",
       "          };\n",
       "          s.onerror = () => reject(`Error loading script: ${paths[lib]}`);\n",
       "          s.src = paths[lib];\n",
       "        });\n",
       "    }\n",
       "\n",
       "    function showError(err) {\n",
       "      outputDiv.innerHTML = `<div class=\"error\" style=\"color:red;\">${err}</div>`;\n",
       "      throw err;\n",
       "    }\n",
       "\n",
       "    function displayChart(vegaEmbed) {\n",
       "      vegaEmbed(outputDiv, spec, embedOpt)\n",
       "        .catch(err => showError(`Javascript Error: ${err.message}<br>This usually means there's a typo in your chart specification. See the javascript console for the full traceback.`));\n",
       "    }\n",
       "\n",
       "    if(typeof define === \"function\" && define.amd) {\n",
       "      requirejs.config({paths});\n",
       "      require([\"vega-embed\"], displayChart, err => showError(`Error loading script: ${err.message}`));\n",
       "    } else {\n",
       "      maybeLoadScript(\"vega\", \"5\")\n",
       "        .then(() => maybeLoadScript(\"vega-lite\", \"5.15.1\"))\n",
       "        .then(() => maybeLoadScript(\"vega-embed\", \"6\"))\n",
       "        .catch(showError)\n",
       "        .then(() => displayChart(vegaEmbed));\n",
       "    }\n",
       "  })({\"config\": {\"view\": {\"continuousWidth\": 300, \"continuousHeight\": 300}}, \"hconcat\": [{\"mark\": {\"type\": \"point\", \"filled\": true, \"size\": 200}, \"encoding\": {\"color\": {\"condition\": {\"param\": \"param_1\", \"field\": \"SUBJECT\", \"type\": \"nominal\", \"scale\": {\"domain\": [\"2 CHILDREN\", \"NO CHILDREN\"], \"range\": [\"#58508d\", \"#ff6361\"]}}, \"value\": \"lightgray\"}, \"x\": {\"axis\": {\"labelAngle\": 0}, \"field\": \"TIME\", \"type\": \"ordinal\"}, \"y\": {\"aggregate\": \"mean\", \"field\": \"VALUE\", \"type\": \"quantitative\"}}, \"height\": 250, \"name\": \"view_1\", \"width\": 250}, {\"mark\": {\"type\": \"bar\", \"opacity\": 0.5, \"thickness\": 100}, \"encoding\": {\"color\": {\"field\": \"SUBJECT\", \"scale\": {\"domain\": [\"2 CHILDREN\", \"NO CHILDREN\"], \"range\": [\"#58508d\", \"#ff6361\"]}, \"type\": \"nominal\"}, \"x\": {\"bin\": {\"step\": 5}, \"field\": \"VALUE\", \"title\": \"Stundenanzahl\", \"type\": \"quantitative\"}, \"y\": {\"aggregate\": \"count\", \"scale\": {\"domain\": [0, 15]}, \"stack\": null, \"title\": \"H\\u00e4ufigkeit\", \"type\": \"quantitative\"}}, \"height\": 250, \"name\": \"view_2\", \"transform\": [{\"filter\": {\"param\": \"param_1\"}}], \"width\": 250}], \"data\": {\"name\": \"data-7ac37f8d3de7093f73c28ba21ddf0d3e\"}, \"params\": [{\"name\": \"param_1\", \"select\": {\"type\": \"point\", \"fields\": [\"SUBJECT\"]}, \"views\": [\"view_1\", \"view_2\"]}], \"$schema\": \"https://vega.github.io/schema/vega-lite/v5.15.1.json\", \"datasets\": {\"data-7ac37f8d3de7093f73c28ba21ddf0d3e\": [{\"LOCATION\": \"Germany\", \"SUBJECT\": \"2 CHILDREN\", \"MEASURE\": \"HR_AVEWAGE\", \"TIME\": 2019, \"VALUE\": 12}, {\"LOCATION\": \"Germany\", \"SUBJECT\": \"2 CHILDREN\", \"MEASURE\": \"HR_AVEWAGE\", \"TIME\": 2020, \"VALUE\": 9}, {\"LOCATION\": \"Germany\", \"SUBJECT\": \"2 CHILDREN\", \"MEASURE\": \"HR_AVEWAGE\", \"TIME\": 2021, \"VALUE\": 9}, {\"LOCATION\": \"Germany\", \"SUBJECT\": \"2 CHILDREN\", \"MEASURE\": \"HR_AVEWAGE\", \"TIME\": 2022, \"VALUE\": 10}, {\"LOCATION\": \"Germany\", \"SUBJECT\": \"NO CHILDREN\", \"MEASURE\": \"HR_AVEWAGE\", \"TIME\": 2019, \"VALUE\": 13}, {\"LOCATION\": \"Germany\", \"SUBJECT\": \"NO CHILDREN\", \"MEASURE\": \"HR_AVEWAGE\", \"TIME\": 2020, \"VALUE\": 13}, {\"LOCATION\": \"Germany\", \"SUBJECT\": \"NO CHILDREN\", \"MEASURE\": \"HR_AVEWAGE\", \"TIME\": 2021, \"VALUE\": 13}, {\"LOCATION\": \"Germany\", \"SUBJECT\": \"NO CHILDREN\", \"MEASURE\": \"HR_AVEWAGE\", \"TIME\": 2022, \"VALUE\": 13}, {\"LOCATION\": \"United Kingdom\", \"SUBJECT\": \"2 CHILDREN\", \"MEASURE\": \"HR_AVEWAGE\", \"TIME\": 2019, \"VALUE\": 5}, {\"LOCATION\": \"United Kingdom\", \"SUBJECT\": \"2 CHILDREN\", \"MEASURE\": \"HR_AVEWAGE\", \"TIME\": 2020, \"VALUE\": 4}, {\"LOCATION\": \"United Kingdom\", \"SUBJECT\": \"2 CHILDREN\", \"MEASURE\": \"HR_AVEWAGE\", \"TIME\": 2021, \"VALUE\": 4}, {\"LOCATION\": \"United Kingdom\", \"SUBJECT\": \"2 CHILDREN\", \"MEASURE\": \"HR_AVEWAGE\", \"TIME\": 2022, \"VALUE\": 6}, {\"LOCATION\": \"United Kingdom\", \"SUBJECT\": \"NO CHILDREN\", \"MEASURE\": \"HR_AVEWAGE\", \"TIME\": 2019, \"VALUE\": 10}, {\"LOCATION\": \"United Kingdom\", \"SUBJECT\": \"NO CHILDREN\", \"MEASURE\": \"HR_AVEWAGE\", \"TIME\": 2020, \"VALUE\": 10}, {\"LOCATION\": \"United Kingdom\", \"SUBJECT\": \"NO CHILDREN\", \"MEASURE\": \"HR_AVEWAGE\", \"TIME\": 2021, \"VALUE\": 10}, {\"LOCATION\": \"United Kingdom\", \"SUBJECT\": \"NO CHILDREN\", \"MEASURE\": \"HR_AVEWAGE\", \"TIME\": 2022, \"VALUE\": 10}, {\"LOCATION\": \"OECD\", \"SUBJECT\": \"2 CHILDREN\", \"MEASURE\": \"HR_AVEWAGE\", \"TIME\": 2019, \"VALUE\": 16}, {\"LOCATION\": \"OECD\", \"SUBJECT\": \"2 CHILDREN\", \"MEASURE\": \"HR_AVEWAGE\", \"TIME\": 2020, \"VALUE\": 17}, {\"LOCATION\": \"OECD\", \"SUBJECT\": \"2 CHILDREN\", \"MEASURE\": \"HR_AVEWAGE\", \"TIME\": 2021, \"VALUE\": 17}, {\"LOCATION\": \"OECD\", \"SUBJECT\": \"2 CHILDREN\", \"MEASURE\": \"HR_AVEWAGE\", \"TIME\": 2022, \"VALUE\": 18}, {\"LOCATION\": \"OECD\", \"SUBJECT\": \"NO CHILDREN\", \"MEASURE\": \"HR_AVEWAGE\", \"TIME\": 2019, \"VALUE\": 15}, {\"LOCATION\": \"OECD\", \"SUBJECT\": \"NO CHILDREN\", \"MEASURE\": \"HR_AVEWAGE\", \"TIME\": 2020, \"VALUE\": 15}, {\"LOCATION\": \"OECD\", \"SUBJECT\": \"NO CHILDREN\", \"MEASURE\": \"HR_AVEWAGE\", \"TIME\": 2021, \"VALUE\": 14}, {\"LOCATION\": \"OECD\", \"SUBJECT\": \"NO CHILDREN\", \"MEASURE\": \"HR_AVEWAGE\", \"TIME\": 2022, \"VALUE\": 15}]}}, {\"mode\": \"vega-lite\"});\n",
       "</script>"
      ],
      "text/plain": [
       "alt.HConcatChart(...)"
      ]
     },
     "execution_count": 32,
     "metadata": {},
     "output_type": "execute_result"
    }
   ],
   "source": [
    "# Histogramm\n",
    "\n",
    "selector = alt.selection_point(fields=['SUBJECT'])\n",
    "\n",
    "color_scale = alt.Scale(domain=['2 CHILDREN', 'NO CHILDREN'],\n",
    "                        range=['#58508d','#ff6361'])\n",
    "\n",
    "base = alt.Chart(df2_selectedlocations).properties(\n",
    "    width=250,\n",
    "    height=250\n",
    ").add_params(selector)\n",
    "\n",
    "points = base.mark_point(filled=True, size=200).encode(\n",
    "    x=alt.X('TIME:O').axis(\n",
    "        labelAngle=0),\n",
    "    y=alt.Y('mean(VALUE):Q'),\n",
    "    color=alt.condition(\n",
    "        selector,\n",
    "        'SUBJECT:N',\n",
    "        alt.value('lightgray'),\n",
    "        scale=color_scale),\n",
    ")\n",
    "\n",
    "histogram2 = base.mark_bar(opacity=0.5, thickness=100).encode(\n",
    "    alt.X('VALUE', title=\"Stundenanzahl\")\n",
    "        .bin(step=5), # step keeps bin size the same\n",
    "    alt.Y('count()', title=\"Häufigkeit\")\n",
    "        .stack(None)\n",
    "        .scale(domain=[0,15])\n",
    "        ,\n",
    "    alt.Color('SUBJECT:N').scale(color_scale)\n",
    ").transform_filter(\n",
    "    selector\n",
    ")\n",
    "\n",
    "points | histogram2"
   ]
  }
 ],
 "metadata": {
  "kernelspec": {
   "display_name": "dst2",
   "language": "python",
   "name": "python3"
  },
  "language_info": {
   "codemirror_mode": {
    "name": "ipython",
    "version": 3
   },
   "file_extension": ".py",
   "mimetype": "text/x-python",
   "name": "python",
   "nbconvert_exporter": "python",
   "pygments_lexer": "ipython3",
   "version": "3.11.5"
  }
 },
 "nbformat": 4,
 "nbformat_minor": 2
}
