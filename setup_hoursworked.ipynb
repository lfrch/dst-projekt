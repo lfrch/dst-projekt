{
 "cells": [
  {
   "cell_type": "markdown",
   "metadata": {},
   "source": [
    "# Hours worked"
   ]
  },
  {
   "cell_type": "markdown",
   "metadata": {},
   "source": [
    "Time Horizont: 2019-2022\n",
    "\n",
    "Average annual hours worked is defined as the total number of hours actually worked per year divided by the average number of people in employment per year. Actual hours worked include regular work hours of full-time, part-time and part-year workers, paid and unpaid overtime, hours worked in additional jobs, and exclude time not worked because of public holidays, annual paid leave, own illness, injury and temporary disability, maternity leave, parental leave, schooling or training, slack work for technical or economic reasons, strike or labour dispute, bad weather, compensation leave and other reasons. The data cover employees and self-employed workers. This indicator is measured in terms of hours per worker per year. The data are published with the following health warning: The data are intended for comparisons of trends over time; they are unsuitable for comparisons of the level of average annual hours of work for a given year, because of differences in their sources and method of calculation."
   ]
  },
  {
   "cell_type": "markdown",
   "metadata": {},
   "source": [
    "Variablen: LOCATION,SUBJECT,MEASURE,TIME,Value\n"
   ]
  },
  {
   "cell_type": "markdown",
   "metadata": {},
   "source": [
    "### Setup"
   ]
  },
  {
   "cell_type": "code",
   "execution_count": 2,
   "metadata": {},
   "outputs": [],
   "source": [
    "import pandas as pd\n",
    "import altair as alt"
   ]
  },
  {
   "cell_type": "code",
   "execution_count": 3,
   "metadata": {},
   "outputs": [
    {
     "data": {
      "text/plain": [
       "DataTransformerRegistry.enable('default')"
      ]
     },
     "execution_count": 3,
     "metadata": {},
     "output_type": "execute_result"
    }
   ],
   "source": [
    "# Zeilenlimit deaktivieren (n=5000)\n",
    "# Falls Datensatz mehr als 5000 Zeilen, dann soll es deaktiviert werden\n",
    "\n",
    "alt.data_transformers.disable_max_rows()"
   ]
  },
  {
   "cell_type": "markdown",
   "metadata": {},
   "source": [
    "## Data"
   ]
  },
  {
   "cell_type": "markdown",
   "metadata": {},
   "source": [
    "Data Import"
   ]
  },
  {
   "cell_type": "markdown",
   "metadata": {},
   "source": [
    "#### Dataset Average annual hours actually worked, 2022 or latest"
   ]
  },
  {
   "cell_type": "code",
   "execution_count": 4,
   "metadata": {},
   "outputs": [],
   "source": [
    "# falls Datei lokal liegt, einfach den Pfad zur CSV eingeben: ins Terminal 'pwd' eingeben, dann wird Pfad gezeigt\n",
    "LINK = '/Users/Lea/Desktop/dst-projekt/hoursworked_20192022.csv'\n",
    "\n",
    "df = pd.read_csv(LINK)"
   ]
  },
  {
   "cell_type": "code",
   "execution_count": 5,
   "metadata": {},
   "outputs": [
    {
     "data": {
      "text/html": [
       "<div>\n",
       "<style scoped>\n",
       "    .dataframe tbody tr th:only-of-type {\n",
       "        vertical-align: middle;\n",
       "    }\n",
       "\n",
       "    .dataframe tbody tr th {\n",
       "        vertical-align: top;\n",
       "    }\n",
       "\n",
       "    .dataframe thead th {\n",
       "        text-align: right;\n",
       "    }\n",
       "</style>\n",
       "<table border=\"1\" class=\"dataframe\">\n",
       "  <thead>\n",
       "    <tr style=\"text-align: right;\">\n",
       "      <th></th>\n",
       "      <th>LOCATION</th>\n",
       "      <th>INDICATOR</th>\n",
       "      <th>SUBJECT</th>\n",
       "      <th>MEASURE</th>\n",
       "      <th>FREQUENCY</th>\n",
       "      <th>TIME</th>\n",
       "      <th>Value</th>\n",
       "      <th>Flag Codes</th>\n",
       "    </tr>\n",
       "  </thead>\n",
       "  <tbody>\n",
       "    <tr>\n",
       "      <th>0</th>\n",
       "      <td>AUT</td>\n",
       "      <td>HRWKD</td>\n",
       "      <td>TOT</td>\n",
       "      <td>HR_WKD</td>\n",
       "      <td>A</td>\n",
       "      <td>2019</td>\n",
       "      <td>1509.591660</td>\n",
       "      <td>NaN</td>\n",
       "    </tr>\n",
       "    <tr>\n",
       "      <th>1</th>\n",
       "      <td>AUT</td>\n",
       "      <td>HRWKD</td>\n",
       "      <td>TOT</td>\n",
       "      <td>HR_WKD</td>\n",
       "      <td>A</td>\n",
       "      <td>2020</td>\n",
       "      <td>1400.786923</td>\n",
       "      <td>NaN</td>\n",
       "    </tr>\n",
       "    <tr>\n",
       "      <th>2</th>\n",
       "      <td>AUT</td>\n",
       "      <td>HRWKD</td>\n",
       "      <td>TOT</td>\n",
       "      <td>HR_WKD</td>\n",
       "      <td>A</td>\n",
       "      <td>2021</td>\n",
       "      <td>1439.093920</td>\n",
       "      <td>NaN</td>\n",
       "    </tr>\n",
       "    <tr>\n",
       "      <th>3</th>\n",
       "      <td>AUT</td>\n",
       "      <td>HRWKD</td>\n",
       "      <td>TOT</td>\n",
       "      <td>HR_WKD</td>\n",
       "      <td>A</td>\n",
       "      <td>2022</td>\n",
       "      <td>1443.720369</td>\n",
       "      <td>NaN</td>\n",
       "    </tr>\n",
       "    <tr>\n",
       "      <th>4</th>\n",
       "      <td>BEL</td>\n",
       "      <td>HRWKD</td>\n",
       "      <td>TOT</td>\n",
       "      <td>HR_WKD</td>\n",
       "      <td>A</td>\n",
       "      <td>2019</td>\n",
       "      <td>1577.095522</td>\n",
       "      <td>NaN</td>\n",
       "    </tr>\n",
       "    <tr>\n",
       "      <th>...</th>\n",
       "      <td>...</td>\n",
       "      <td>...</td>\n",
       "      <td>...</td>\n",
       "      <td>...</td>\n",
       "      <td>...</td>\n",
       "      <td>...</td>\n",
       "      <td>...</td>\n",
       "      <td>...</td>\n",
       "    </tr>\n",
       "    <tr>\n",
       "      <th>114</th>\n",
       "      <td>ROU</td>\n",
       "      <td>HRWKD</td>\n",
       "      <td>TOT</td>\n",
       "      <td>HR_WKD</td>\n",
       "      <td>A</td>\n",
       "      <td>2022</td>\n",
       "      <td>1808.232842</td>\n",
       "      <td>NaN</td>\n",
       "    </tr>\n",
       "    <tr>\n",
       "      <th>115</th>\n",
       "      <td>EU27</td>\n",
       "      <td>HRWKD</td>\n",
       "      <td>TOT</td>\n",
       "      <td>HR_WKD</td>\n",
       "      <td>A</td>\n",
       "      <td>2019</td>\n",
       "      <td>1592.987477</td>\n",
       "      <td>NaN</td>\n",
       "    </tr>\n",
       "    <tr>\n",
       "      <th>116</th>\n",
       "      <td>EU27</td>\n",
       "      <td>HRWKD</td>\n",
       "      <td>TOT</td>\n",
       "      <td>HR_WKD</td>\n",
       "      <td>A</td>\n",
       "      <td>2020</td>\n",
       "      <td>1505.611235</td>\n",
       "      <td>NaN</td>\n",
       "    </tr>\n",
       "    <tr>\n",
       "      <th>117</th>\n",
       "      <td>EU27</td>\n",
       "      <td>HRWKD</td>\n",
       "      <td>TOT</td>\n",
       "      <td>HR_WKD</td>\n",
       "      <td>A</td>\n",
       "      <td>2021</td>\n",
       "      <td>1560.286783</td>\n",
       "      <td>NaN</td>\n",
       "    </tr>\n",
       "    <tr>\n",
       "      <th>118</th>\n",
       "      <td>EU27</td>\n",
       "      <td>HRWKD</td>\n",
       "      <td>TOT</td>\n",
       "      <td>HR_WKD</td>\n",
       "      <td>A</td>\n",
       "      <td>2022</td>\n",
       "      <td>1570.796361</td>\n",
       "      <td>NaN</td>\n",
       "    </tr>\n",
       "  </tbody>\n",
       "</table>\n",
       "<p>119 rows × 8 columns</p>\n",
       "</div>"
      ],
      "text/plain": [
       "    LOCATION INDICATOR SUBJECT MEASURE FREQUENCY  TIME        Value  \\\n",
       "0        AUT     HRWKD     TOT  HR_WKD         A  2019  1509.591660   \n",
       "1        AUT     HRWKD     TOT  HR_WKD         A  2020  1400.786923   \n",
       "2        AUT     HRWKD     TOT  HR_WKD         A  2021  1439.093920   \n",
       "3        AUT     HRWKD     TOT  HR_WKD         A  2022  1443.720369   \n",
       "4        BEL     HRWKD     TOT  HR_WKD         A  2019  1577.095522   \n",
       "..       ...       ...     ...     ...       ...   ...          ...   \n",
       "114      ROU     HRWKD     TOT  HR_WKD         A  2022  1808.232842   \n",
       "115     EU27     HRWKD     TOT  HR_WKD         A  2019  1592.987477   \n",
       "116     EU27     HRWKD     TOT  HR_WKD         A  2020  1505.611235   \n",
       "117     EU27     HRWKD     TOT  HR_WKD         A  2021  1560.286783   \n",
       "118     EU27     HRWKD     TOT  HR_WKD         A  2022  1570.796361   \n",
       "\n",
       "     Flag Codes  \n",
       "0           NaN  \n",
       "1           NaN  \n",
       "2           NaN  \n",
       "3           NaN  \n",
       "4           NaN  \n",
       "..          ...  \n",
       "114         NaN  \n",
       "115         NaN  \n",
       "116         NaN  \n",
       "117         NaN  \n",
       "118         NaN  \n",
       "\n",
       "[119 rows x 8 columns]"
      ]
     },
     "execution_count": 5,
     "metadata": {},
     "output_type": "execute_result"
    }
   ],
   "source": [
    "df\n",
    "# falls 50 Zeilen werden alle angezeigt \n",
    "#df.head() für begrenzte Anzeigen"
   ]
  },
  {
   "cell_type": "code",
   "execution_count": 6,
   "metadata": {},
   "outputs": [
    {
     "name": "stdout",
     "output_type": "stream",
     "text": [
      "<class 'pandas.core.frame.DataFrame'>\n",
      "RangeIndex: 119 entries, 0 to 118\n",
      "Data columns (total 8 columns):\n",
      " #   Column      Non-Null Count  Dtype  \n",
      "---  ------      --------------  -----  \n",
      " 0   LOCATION    119 non-null    object \n",
      " 1   INDICATOR   119 non-null    object \n",
      " 2   SUBJECT     119 non-null    object \n",
      " 3   MEASURE     119 non-null    object \n",
      " 4   FREQUENCY   119 non-null    object \n",
      " 5   TIME        119 non-null    int64  \n",
      " 6   Value       119 non-null    float64\n",
      " 7   Flag Codes  0 non-null      float64\n",
      "dtypes: float64(2), int64(1), object(5)\n",
      "memory usage: 7.6+ KB\n"
     ]
    }
   ],
   "source": [
    "df.info()\n",
    "\n",
    "# Objekt kann immer alles sein\n",
    "# float = numerisch stetig"
   ]
  },
  {
   "cell_type": "markdown",
   "metadata": {},
   "source": [
    "### Eliminate Clutter"
   ]
  },
  {
   "cell_type": "code",
   "execution_count": 7,
   "metadata": {},
   "outputs": [],
   "source": [
    "df.drop('FREQUENCY', axis=1, inplace=True)"
   ]
  },
  {
   "cell_type": "code",
   "execution_count": 8,
   "metadata": {},
   "outputs": [],
   "source": [
    "df.drop('Flag Codes', axis=1, inplace=True)"
   ]
  },
  {
   "cell_type": "code",
   "execution_count": 9,
   "metadata": {},
   "outputs": [],
   "source": [
    "df.drop('INDICATOR', axis=1, inplace=True)"
   ]
  },
  {
   "cell_type": "code",
   "execution_count": 10,
   "metadata": {},
   "outputs": [],
   "source": [
    "#df.drop('SUBJECT', axis=1, inplace=True)"
   ]
  },
  {
   "cell_type": "code",
   "execution_count": 11,
   "metadata": {},
   "outputs": [],
   "source": [
    "list_cat = ['LOCATION']\n",
    "df = df.astype('category')"
   ]
  },
  {
   "cell_type": "code",
   "execution_count": 12,
   "metadata": {},
   "outputs": [],
   "source": [
    "# Time as Year\n",
    "df['TIME'] = pd.to_datetime(df['TIME'], format='%Y').dt.year\n"
   ]
  },
  {
   "cell_type": "code",
   "execution_count": 13,
   "metadata": {},
   "outputs": [],
   "source": [
    "df.rename(columns={'Value': 'VALUE'}, inplace=True)\n"
   ]
  },
  {
   "cell_type": "code",
   "execution_count": 14,
   "metadata": {},
   "outputs": [],
   "source": [
    "# NUR GANZZAHLIGE VALUE EINTRÄGE\n",
    "df['VALUE'] = df['VALUE'].astype(int)"
   ]
  },
  {
   "cell_type": "code",
   "execution_count": 15,
   "metadata": {},
   "outputs": [
    {
     "name": "stdout",
     "output_type": "stream",
     "text": [
      "<class 'pandas.core.frame.DataFrame'>\n",
      "RangeIndex: 119 entries, 0 to 118\n",
      "Data columns (total 5 columns):\n",
      " #   Column    Non-Null Count  Dtype   \n",
      "---  ------    --------------  -----   \n",
      " 0   LOCATION  119 non-null    category\n",
      " 1   SUBJECT   119 non-null    category\n",
      " 2   MEASURE   119 non-null    category\n",
      " 3   TIME      119 non-null    int32   \n",
      " 4   VALUE     119 non-null    int64   \n",
      "dtypes: category(3), int32(1), int64(1)\n",
      "memory usage: 3.4 KB\n"
     ]
    }
   ],
   "source": [
    "df.info()"
   ]
  },
  {
   "cell_type": "code",
   "execution_count": 16,
   "metadata": {},
   "outputs": [],
   "source": [
    "#df['TIME'] = pd.to_datetime(df['TIME'], format='%Y')\n"
   ]
  },
  {
   "cell_type": "markdown",
   "metadata": {},
   "source": [
    "### First Impression of Data and Distribution"
   ]
  },
  {
   "cell_type": "code",
   "execution_count": 17,
   "metadata": {},
   "outputs": [
    {
     "data": {
      "text/plain": [
       "count     119\n",
       "mean     1619\n",
       "std       156\n",
       "min      1319\n",
       "25%      1507\n",
       "50%      1619\n",
       "75%      1742\n",
       "max      2075\n",
       "Name: VALUE, dtype: int64"
      ]
     },
     "execution_count": 17,
     "metadata": {},
     "output_type": "execute_result"
    }
   ],
   "source": [
    "df['VALUE'].describe().astype(int)"
   ]
  },
  {
   "cell_type": "markdown",
   "metadata": {},
   "source": [
    "Focus on selected countries and eliminate double listing"
   ]
  },
  {
   "cell_type": "code",
   "execution_count": 18,
   "metadata": {},
   "outputs": [
    {
     "data": {
      "text/html": [
       "<div>\n",
       "<style scoped>\n",
       "    .dataframe tbody tr th:only-of-type {\n",
       "        vertical-align: middle;\n",
       "    }\n",
       "\n",
       "    .dataframe tbody tr th {\n",
       "        vertical-align: top;\n",
       "    }\n",
       "\n",
       "    .dataframe thead th {\n",
       "        text-align: right;\n",
       "    }\n",
       "</style>\n",
       "<table border=\"1\" class=\"dataframe\">\n",
       "  <thead>\n",
       "    <tr style=\"text-align: right;\">\n",
       "      <th></th>\n",
       "      <th>LOCATION</th>\n",
       "      <th>SUBJECT</th>\n",
       "      <th>MEASURE</th>\n",
       "      <th>TIME</th>\n",
       "      <th>VALUE</th>\n",
       "    </tr>\n",
       "  </thead>\n",
       "  <tbody>\n",
       "    <tr>\n",
       "      <th>23</th>\n",
       "      <td>DEU</td>\n",
       "      <td>TOT</td>\n",
       "      <td>HR_WKD</td>\n",
       "      <td>2019</td>\n",
       "      <td>1372</td>\n",
       "    </tr>\n",
       "    <tr>\n",
       "      <th>24</th>\n",
       "      <td>DEU</td>\n",
       "      <td>TOT</td>\n",
       "      <td>HR_WKD</td>\n",
       "      <td>2020</td>\n",
       "      <td>1319</td>\n",
       "    </tr>\n",
       "    <tr>\n",
       "      <th>25</th>\n",
       "      <td>DEU</td>\n",
       "      <td>TOT</td>\n",
       "      <td>HR_WKD</td>\n",
       "      <td>2021</td>\n",
       "      <td>1340</td>\n",
       "    </tr>\n",
       "    <tr>\n",
       "      <th>26</th>\n",
       "      <td>DEU</td>\n",
       "      <td>TOT</td>\n",
       "      <td>HR_WKD</td>\n",
       "      <td>2022</td>\n",
       "      <td>1340</td>\n",
       "    </tr>\n",
       "    <tr>\n",
       "      <th>71</th>\n",
       "      <td>GBR</td>\n",
       "      <td>TOT</td>\n",
       "      <td>HR_WKD</td>\n",
       "      <td>2019</td>\n",
       "      <td>1537</td>\n",
       "    </tr>\n",
       "    <tr>\n",
       "      <th>72</th>\n",
       "      <td>GBR</td>\n",
       "      <td>TOT</td>\n",
       "      <td>HR_WKD</td>\n",
       "      <td>2020</td>\n",
       "      <td>1364</td>\n",
       "    </tr>\n",
       "    <tr>\n",
       "      <th>73</th>\n",
       "      <td>GBR</td>\n",
       "      <td>TOT</td>\n",
       "      <td>HR_WKD</td>\n",
       "      <td>2021</td>\n",
       "      <td>1498</td>\n",
       "    </tr>\n",
       "    <tr>\n",
       "      <th>74</th>\n",
       "      <td>GBR</td>\n",
       "      <td>TOT</td>\n",
       "      <td>HR_WKD</td>\n",
       "      <td>2022</td>\n",
       "      <td>1531</td>\n",
       "    </tr>\n",
       "    <tr>\n",
       "      <th>83</th>\n",
       "      <td>OECD</td>\n",
       "      <td>TOT</td>\n",
       "      <td>HR_WKD</td>\n",
       "      <td>2019</td>\n",
       "      <td>1766</td>\n",
       "    </tr>\n",
       "    <tr>\n",
       "      <th>84</th>\n",
       "      <td>OECD</td>\n",
       "      <td>TOT</td>\n",
       "      <td>HR_WKD</td>\n",
       "      <td>2020</td>\n",
       "      <td>1687</td>\n",
       "    </tr>\n",
       "    <tr>\n",
       "      <th>85</th>\n",
       "      <td>OECD</td>\n",
       "      <td>TOT</td>\n",
       "      <td>HR_WKD</td>\n",
       "      <td>2021</td>\n",
       "      <td>1744</td>\n",
       "    </tr>\n",
       "    <tr>\n",
       "      <th>86</th>\n",
       "      <td>OECD</td>\n",
       "      <td>TOT</td>\n",
       "      <td>HR_WKD</td>\n",
       "      <td>2022</td>\n",
       "      <td>1751</td>\n",
       "    </tr>\n",
       "    <tr>\n",
       "      <th>115</th>\n",
       "      <td>EU27</td>\n",
       "      <td>TOT</td>\n",
       "      <td>HR_WKD</td>\n",
       "      <td>2019</td>\n",
       "      <td>1592</td>\n",
       "    </tr>\n",
       "    <tr>\n",
       "      <th>116</th>\n",
       "      <td>EU27</td>\n",
       "      <td>TOT</td>\n",
       "      <td>HR_WKD</td>\n",
       "      <td>2020</td>\n",
       "      <td>1505</td>\n",
       "    </tr>\n",
       "    <tr>\n",
       "      <th>117</th>\n",
       "      <td>EU27</td>\n",
       "      <td>TOT</td>\n",
       "      <td>HR_WKD</td>\n",
       "      <td>2021</td>\n",
       "      <td>1560</td>\n",
       "    </tr>\n",
       "    <tr>\n",
       "      <th>118</th>\n",
       "      <td>EU27</td>\n",
       "      <td>TOT</td>\n",
       "      <td>HR_WKD</td>\n",
       "      <td>2022</td>\n",
       "      <td>1570</td>\n",
       "    </tr>\n",
       "  </tbody>\n",
       "</table>\n",
       "</div>"
      ],
      "text/plain": [
       "    LOCATION SUBJECT MEASURE  TIME  VALUE\n",
       "23       DEU     TOT  HR_WKD  2019   1372\n",
       "24       DEU     TOT  HR_WKD  2020   1319\n",
       "25       DEU     TOT  HR_WKD  2021   1340\n",
       "26       DEU     TOT  HR_WKD  2022   1340\n",
       "71       GBR     TOT  HR_WKD  2019   1537\n",
       "72       GBR     TOT  HR_WKD  2020   1364\n",
       "73       GBR     TOT  HR_WKD  2021   1498\n",
       "74       GBR     TOT  HR_WKD  2022   1531\n",
       "83      OECD     TOT  HR_WKD  2019   1766\n",
       "84      OECD     TOT  HR_WKD  2020   1687\n",
       "85      OECD     TOT  HR_WKD  2021   1744\n",
       "86      OECD     TOT  HR_WKD  2022   1751\n",
       "115     EU27     TOT  HR_WKD  2019   1592\n",
       "116     EU27     TOT  HR_WKD  2020   1505\n",
       "117     EU27     TOT  HR_WKD  2021   1560\n",
       "118     EU27     TOT  HR_WKD  2022   1570"
      ]
     },
     "execution_count": 18,
     "metadata": {},
     "output_type": "execute_result"
    }
   ],
   "source": [
    "df_selectedlocations = df[df['LOCATION'].isin(['OECD', 'EU27', 'DEU', 'GBR'])]\n",
    "\n",
    "df_selectedlocations"
   ]
  },
  {
   "cell_type": "code",
   "execution_count": 19,
   "metadata": {},
   "outputs": [
    {
     "data": {
      "text/plain": [
       "LOCATION    16\n",
       "SUBJECT     16\n",
       "MEASURE     16\n",
       "TIME        16\n",
       "VALUE       16\n",
       "dtype: int64"
      ]
     },
     "execution_count": 19,
     "metadata": {},
     "output_type": "execute_result"
    }
   ],
   "source": [
    "df_selectedlocations.count()"
   ]
  },
  {
   "cell_type": "code",
   "execution_count": 20,
   "metadata": {},
   "outputs": [
    {
     "name": "stderr",
     "output_type": "stream",
     "text": [
      "/var/folders/cg/s479mj155734fxg40v_64y4r0000gn/T/ipykernel_1223/2203825450.py:1: SettingWithCopyWarning: \n",
      "A value is trying to be set on a copy of a slice from a DataFrame\n",
      "\n",
      "See the caveats in the documentation: https://pandas.pydata.org/pandas-docs/stable/user_guide/indexing.html#returning-a-view-versus-a-copy\n",
      "  df_selectedlocations['LOCATION'].replace({'OECD': 'Organization for Economic Cooperation and Development', 'EU27': 'European Union', 'DEU': 'Germany', 'GBR': 'United Kingdom'}, inplace=True)\n"
     ]
    }
   ],
   "source": [
    "df_selectedlocations['LOCATION'].replace({'OECD': 'Organization for Economic Cooperation and Development', 'EU27': 'European Union', 'DEU': 'Germany', 'GBR': 'United Kingdom'}, inplace=True)"
   ]
  },
  {
   "cell_type": "markdown",
   "metadata": {},
   "source": [
    "### Data Exploration"
   ]
  },
  {
   "cell_type": "code",
   "execution_count": 21,
   "metadata": {},
   "outputs": [
    {
     "data": {
      "text/plain": [
       "Scale({\n",
       "  range: ['#003f5c', '#58508d', '#bc5090', '#ff6361', '#ffa600']\n",
       "})"
      ]
     },
     "execution_count": 21,
     "metadata": {},
     "output_type": "execute_result"
    }
   ],
   "source": [
    "#Color Scale\n",
    "\n",
    "colors = alt.Scale(\n",
    "    range=['#003f5c','#58508d','#bc5090','#ff6361','#ffa600']\n",
    ")\n",
    "colors\n"
   ]
  },
  {
   "cell_type": "code",
   "execution_count": 22,
   "metadata": {},
   "outputs": [
    {
     "data": {
      "text/html": [
       "<div>\n",
       "<style scoped>\n",
       "    .dataframe tbody tr th:only-of-type {\n",
       "        vertical-align: middle;\n",
       "    }\n",
       "\n",
       "    .dataframe tbody tr th {\n",
       "        vertical-align: top;\n",
       "    }\n",
       "\n",
       "    .dataframe thead th {\n",
       "        text-align: right;\n",
       "    }\n",
       "</style>\n",
       "<table border=\"1\" class=\"dataframe\">\n",
       "  <thead>\n",
       "    <tr style=\"text-align: right;\">\n",
       "      <th></th>\n",
       "      <th>LOCATION</th>\n",
       "      <th>SUBJECT</th>\n",
       "      <th>MEASURE</th>\n",
       "      <th>TIME</th>\n",
       "      <th>VALUE</th>\n",
       "    </tr>\n",
       "  </thead>\n",
       "  <tbody>\n",
       "    <tr>\n",
       "      <th>23</th>\n",
       "      <td>Germany</td>\n",
       "      <td>TOT</td>\n",
       "      <td>HR_WKD</td>\n",
       "      <td>2019</td>\n",
       "      <td>1372</td>\n",
       "    </tr>\n",
       "    <tr>\n",
       "      <th>24</th>\n",
       "      <td>Germany</td>\n",
       "      <td>TOT</td>\n",
       "      <td>HR_WKD</td>\n",
       "      <td>2020</td>\n",
       "      <td>1319</td>\n",
       "    </tr>\n",
       "    <tr>\n",
       "      <th>25</th>\n",
       "      <td>Germany</td>\n",
       "      <td>TOT</td>\n",
       "      <td>HR_WKD</td>\n",
       "      <td>2021</td>\n",
       "      <td>1340</td>\n",
       "    </tr>\n",
       "    <tr>\n",
       "      <th>26</th>\n",
       "      <td>Germany</td>\n",
       "      <td>TOT</td>\n",
       "      <td>HR_WKD</td>\n",
       "      <td>2022</td>\n",
       "      <td>1340</td>\n",
       "    </tr>\n",
       "    <tr>\n",
       "      <th>71</th>\n",
       "      <td>United Kingdom</td>\n",
       "      <td>TOT</td>\n",
       "      <td>HR_WKD</td>\n",
       "      <td>2019</td>\n",
       "      <td>1537</td>\n",
       "    </tr>\n",
       "    <tr>\n",
       "      <th>72</th>\n",
       "      <td>United Kingdom</td>\n",
       "      <td>TOT</td>\n",
       "      <td>HR_WKD</td>\n",
       "      <td>2020</td>\n",
       "      <td>1364</td>\n",
       "    </tr>\n",
       "    <tr>\n",
       "      <th>73</th>\n",
       "      <td>United Kingdom</td>\n",
       "      <td>TOT</td>\n",
       "      <td>HR_WKD</td>\n",
       "      <td>2021</td>\n",
       "      <td>1498</td>\n",
       "    </tr>\n",
       "    <tr>\n",
       "      <th>74</th>\n",
       "      <td>United Kingdom</td>\n",
       "      <td>TOT</td>\n",
       "      <td>HR_WKD</td>\n",
       "      <td>2022</td>\n",
       "      <td>1531</td>\n",
       "    </tr>\n",
       "    <tr>\n",
       "      <th>83</th>\n",
       "      <td>Organization for Economic Cooperation and Deve...</td>\n",
       "      <td>TOT</td>\n",
       "      <td>HR_WKD</td>\n",
       "      <td>2019</td>\n",
       "      <td>1766</td>\n",
       "    </tr>\n",
       "    <tr>\n",
       "      <th>84</th>\n",
       "      <td>Organization for Economic Cooperation and Deve...</td>\n",
       "      <td>TOT</td>\n",
       "      <td>HR_WKD</td>\n",
       "      <td>2020</td>\n",
       "      <td>1687</td>\n",
       "    </tr>\n",
       "    <tr>\n",
       "      <th>85</th>\n",
       "      <td>Organization for Economic Cooperation and Deve...</td>\n",
       "      <td>TOT</td>\n",
       "      <td>HR_WKD</td>\n",
       "      <td>2021</td>\n",
       "      <td>1744</td>\n",
       "    </tr>\n",
       "    <tr>\n",
       "      <th>86</th>\n",
       "      <td>Organization for Economic Cooperation and Deve...</td>\n",
       "      <td>TOT</td>\n",
       "      <td>HR_WKD</td>\n",
       "      <td>2022</td>\n",
       "      <td>1751</td>\n",
       "    </tr>\n",
       "    <tr>\n",
       "      <th>115</th>\n",
       "      <td>European Union</td>\n",
       "      <td>TOT</td>\n",
       "      <td>HR_WKD</td>\n",
       "      <td>2019</td>\n",
       "      <td>1592</td>\n",
       "    </tr>\n",
       "    <tr>\n",
       "      <th>116</th>\n",
       "      <td>European Union</td>\n",
       "      <td>TOT</td>\n",
       "      <td>HR_WKD</td>\n",
       "      <td>2020</td>\n",
       "      <td>1505</td>\n",
       "    </tr>\n",
       "    <tr>\n",
       "      <th>117</th>\n",
       "      <td>European Union</td>\n",
       "      <td>TOT</td>\n",
       "      <td>HR_WKD</td>\n",
       "      <td>2021</td>\n",
       "      <td>1560</td>\n",
       "    </tr>\n",
       "    <tr>\n",
       "      <th>118</th>\n",
       "      <td>European Union</td>\n",
       "      <td>TOT</td>\n",
       "      <td>HR_WKD</td>\n",
       "      <td>2022</td>\n",
       "      <td>1570</td>\n",
       "    </tr>\n",
       "  </tbody>\n",
       "</table>\n",
       "</div>"
      ],
      "text/plain": [
       "                                              LOCATION SUBJECT MEASURE  TIME  \\\n",
       "23                                             Germany     TOT  HR_WKD  2019   \n",
       "24                                             Germany     TOT  HR_WKD  2020   \n",
       "25                                             Germany     TOT  HR_WKD  2021   \n",
       "26                                             Germany     TOT  HR_WKD  2022   \n",
       "71                                      United Kingdom     TOT  HR_WKD  2019   \n",
       "72                                      United Kingdom     TOT  HR_WKD  2020   \n",
       "73                                      United Kingdom     TOT  HR_WKD  2021   \n",
       "74                                      United Kingdom     TOT  HR_WKD  2022   \n",
       "83   Organization for Economic Cooperation and Deve...     TOT  HR_WKD  2019   \n",
       "84   Organization for Economic Cooperation and Deve...     TOT  HR_WKD  2020   \n",
       "85   Organization for Economic Cooperation and Deve...     TOT  HR_WKD  2021   \n",
       "86   Organization for Economic Cooperation and Deve...     TOT  HR_WKD  2022   \n",
       "115                                     European Union     TOT  HR_WKD  2019   \n",
       "116                                     European Union     TOT  HR_WKD  2020   \n",
       "117                                     European Union     TOT  HR_WKD  2021   \n",
       "118                                     European Union     TOT  HR_WKD  2022   \n",
       "\n",
       "     VALUE  \n",
       "23    1372  \n",
       "24    1319  \n",
       "25    1340  \n",
       "26    1340  \n",
       "71    1537  \n",
       "72    1364  \n",
       "73    1498  \n",
       "74    1531  \n",
       "83    1766  \n",
       "84    1687  \n",
       "85    1744  \n",
       "86    1751  \n",
       "115   1592  \n",
       "116   1505  \n",
       "117   1560  \n",
       "118   1570  "
      ]
     },
     "execution_count": 22,
     "metadata": {},
     "output_type": "execute_result"
    }
   ],
   "source": [
    "df_selectedlocations"
   ]
  },
  {
   "cell_type": "code",
   "execution_count": 23,
   "metadata": {},
   "outputs": [
    {
     "data": {
      "text/html": [
       "\n",
       "<style>\n",
       "  #altair-viz-98837c4745b7476b99fd65391da1b1f8.vega-embed {\n",
       "    width: 100%;\n",
       "    display: flex;\n",
       "  }\n",
       "\n",
       "  #altair-viz-98837c4745b7476b99fd65391da1b1f8.vega-embed details,\n",
       "  #altair-viz-98837c4745b7476b99fd65391da1b1f8.vega-embed details summary {\n",
       "    position: relative;\n",
       "  }\n",
       "</style>\n",
       "<div id=\"altair-viz-98837c4745b7476b99fd65391da1b1f8\"></div>\n",
       "<script type=\"text/javascript\">\n",
       "  var VEGA_DEBUG = (typeof VEGA_DEBUG == \"undefined\") ? {} : VEGA_DEBUG;\n",
       "  (function(spec, embedOpt){\n",
       "    let outputDiv = document.currentScript.previousElementSibling;\n",
       "    if (outputDiv.id !== \"altair-viz-98837c4745b7476b99fd65391da1b1f8\") {\n",
       "      outputDiv = document.getElementById(\"altair-viz-98837c4745b7476b99fd65391da1b1f8\");\n",
       "    }\n",
       "    const paths = {\n",
       "      \"vega\": \"https://cdn.jsdelivr.net/npm/vega@5?noext\",\n",
       "      \"vega-lib\": \"https://cdn.jsdelivr.net/npm/vega-lib?noext\",\n",
       "      \"vega-lite\": \"https://cdn.jsdelivr.net/npm/vega-lite@5.15.1?noext\",\n",
       "      \"vega-embed\": \"https://cdn.jsdelivr.net/npm/vega-embed@6?noext\",\n",
       "    };\n",
       "\n",
       "    function maybeLoadScript(lib, version) {\n",
       "      var key = `${lib.replace(\"-\", \"\")}_version`;\n",
       "      return (VEGA_DEBUG[key] == version) ?\n",
       "        Promise.resolve(paths[lib]) :\n",
       "        new Promise(function(resolve, reject) {\n",
       "          var s = document.createElement('script');\n",
       "          document.getElementsByTagName(\"head\")[0].appendChild(s);\n",
       "          s.async = true;\n",
       "          s.onload = () => {\n",
       "            VEGA_DEBUG[key] = version;\n",
       "            return resolve(paths[lib]);\n",
       "          };\n",
       "          s.onerror = () => reject(`Error loading script: ${paths[lib]}`);\n",
       "          s.src = paths[lib];\n",
       "        });\n",
       "    }\n",
       "\n",
       "    function showError(err) {\n",
       "      outputDiv.innerHTML = `<div class=\"error\" style=\"color:red;\">${err}</div>`;\n",
       "      throw err;\n",
       "    }\n",
       "\n",
       "    function displayChart(vegaEmbed) {\n",
       "      vegaEmbed(outputDiv, spec, embedOpt)\n",
       "        .catch(err => showError(`Javascript Error: ${err.message}<br>This usually means there's a typo in your chart specification. See the javascript console for the full traceback.`));\n",
       "    }\n",
       "\n",
       "    if(typeof define === \"function\" && define.amd) {\n",
       "      requirejs.config({paths});\n",
       "      require([\"vega-embed\"], displayChart, err => showError(`Error loading script: ${err.message}`));\n",
       "    } else {\n",
       "      maybeLoadScript(\"vega\", \"5\")\n",
       "        .then(() => maybeLoadScript(\"vega-lite\", \"5.15.1\"))\n",
       "        .then(() => maybeLoadScript(\"vega-embed\", \"6\"))\n",
       "        .catch(showError)\n",
       "        .then(() => displayChart(vegaEmbed));\n",
       "    }\n",
       "  })({\"config\": {\"view\": {\"continuousWidth\": 300, \"continuousHeight\": 300}}, \"data\": {\"name\": \"data-c3f4fc7fe5411b88a46e9888b3a81bd9\"}, \"mark\": {\"type\": \"geoshape\", \"fill\": \"lightgray\", \"stroke\": \"white\"}, \"height\": 300, \"projection\": {\"type\": \"equirectangular\"}, \"width\": 500, \"$schema\": \"https://vega.github.io/schema/vega-lite/v5.15.1.json\", \"datasets\": {\"data-c3f4fc7fe5411b88a46e9888b3a81bd9\": [{\"LOCATION\": \"Germany\", \"SUBJECT\": \"TOT\", \"MEASURE\": \"HR_WKD\", \"TIME\": 2019, \"VALUE\": 1372}, {\"LOCATION\": \"Germany\", \"SUBJECT\": \"TOT\", \"MEASURE\": \"HR_WKD\", \"TIME\": 2020, \"VALUE\": 1319}, {\"LOCATION\": \"Germany\", \"SUBJECT\": \"TOT\", \"MEASURE\": \"HR_WKD\", \"TIME\": 2021, \"VALUE\": 1340}, {\"LOCATION\": \"Germany\", \"SUBJECT\": \"TOT\", \"MEASURE\": \"HR_WKD\", \"TIME\": 2022, \"VALUE\": 1340}, {\"LOCATION\": \"United Kingdom\", \"SUBJECT\": \"TOT\", \"MEASURE\": \"HR_WKD\", \"TIME\": 2019, \"VALUE\": 1537}, {\"LOCATION\": \"United Kingdom\", \"SUBJECT\": \"TOT\", \"MEASURE\": \"HR_WKD\", \"TIME\": 2020, \"VALUE\": 1364}, {\"LOCATION\": \"United Kingdom\", \"SUBJECT\": \"TOT\", \"MEASURE\": \"HR_WKD\", \"TIME\": 2021, \"VALUE\": 1498}, {\"LOCATION\": \"United Kingdom\", \"SUBJECT\": \"TOT\", \"MEASURE\": \"HR_WKD\", \"TIME\": 2022, \"VALUE\": 1531}, {\"LOCATION\": \"Organization for Economic Cooperation and Development\", \"SUBJECT\": \"TOT\", \"MEASURE\": \"HR_WKD\", \"TIME\": 2019, \"VALUE\": 1766}, {\"LOCATION\": \"Organization for Economic Cooperation and Development\", \"SUBJECT\": \"TOT\", \"MEASURE\": \"HR_WKD\", \"TIME\": 2020, \"VALUE\": 1687}, {\"LOCATION\": \"Organization for Economic Cooperation and Development\", \"SUBJECT\": \"TOT\", \"MEASURE\": \"HR_WKD\", \"TIME\": 2021, \"VALUE\": 1744}, {\"LOCATION\": \"Organization for Economic Cooperation and Development\", \"SUBJECT\": \"TOT\", \"MEASURE\": \"HR_WKD\", \"TIME\": 2022, \"VALUE\": 1751}, {\"LOCATION\": \"European Union\", \"SUBJECT\": \"TOT\", \"MEASURE\": \"HR_WKD\", \"TIME\": 2019, \"VALUE\": 1592}, {\"LOCATION\": \"European Union\", \"SUBJECT\": \"TOT\", \"MEASURE\": \"HR_WKD\", \"TIME\": 2020, \"VALUE\": 1505}, {\"LOCATION\": \"European Union\", \"SUBJECT\": \"TOT\", \"MEASURE\": \"HR_WKD\", \"TIME\": 2021, \"VALUE\": 1560}, {\"LOCATION\": \"European Union\", \"SUBJECT\": \"TOT\", \"MEASURE\": \"HR_WKD\", \"TIME\": 2022, \"VALUE\": 1570}]}}, {\"mode\": \"vega-lite\"});\n",
       "</script>"
      ],
      "text/plain": [
       "alt.Chart(...)"
      ]
     },
     "execution_count": 23,
     "metadata": {},
     "output_type": "execute_result"
    }
   ],
   "source": [
    "location_list = df_selectedlocations['LOCATION'].tolist()\n",
    "\n",
    "alt.Chart(df_selectedlocations).mark_geoshape(\n",
    "    fill='lightgray',\n",
    "    stroke='white'\n",
    ").project(\n",
    "    \"equirectangular\"\n",
    ").properties(\n",
    "    width=500,\n",
    "    height=300\n",
    ")"
   ]
  },
  {
   "cell_type": "code",
   "execution_count": 24,
   "metadata": {},
   "outputs": [
    {
     "data": {
      "text/html": [
       "\n",
       "<style>\n",
       "  #altair-viz-4cd1a9b936c74c62a4d2159c153b0952.vega-embed {\n",
       "    width: 100%;\n",
       "    display: flex;\n",
       "  }\n",
       "\n",
       "  #altair-viz-4cd1a9b936c74c62a4d2159c153b0952.vega-embed details,\n",
       "  #altair-viz-4cd1a9b936c74c62a4d2159c153b0952.vega-embed details summary {\n",
       "    position: relative;\n",
       "  }\n",
       "</style>\n",
       "<div id=\"altair-viz-4cd1a9b936c74c62a4d2159c153b0952\"></div>\n",
       "<script type=\"text/javascript\">\n",
       "  var VEGA_DEBUG = (typeof VEGA_DEBUG == \"undefined\") ? {} : VEGA_DEBUG;\n",
       "  (function(spec, embedOpt){\n",
       "    let outputDiv = document.currentScript.previousElementSibling;\n",
       "    if (outputDiv.id !== \"altair-viz-4cd1a9b936c74c62a4d2159c153b0952\") {\n",
       "      outputDiv = document.getElementById(\"altair-viz-4cd1a9b936c74c62a4d2159c153b0952\");\n",
       "    }\n",
       "    const paths = {\n",
       "      \"vega\": \"https://cdn.jsdelivr.net/npm/vega@5?noext\",\n",
       "      \"vega-lib\": \"https://cdn.jsdelivr.net/npm/vega-lib?noext\",\n",
       "      \"vega-lite\": \"https://cdn.jsdelivr.net/npm/vega-lite@5.15.1?noext\",\n",
       "      \"vega-embed\": \"https://cdn.jsdelivr.net/npm/vega-embed@6?noext\",\n",
       "    };\n",
       "\n",
       "    function maybeLoadScript(lib, version) {\n",
       "      var key = `${lib.replace(\"-\", \"\")}_version`;\n",
       "      return (VEGA_DEBUG[key] == version) ?\n",
       "        Promise.resolve(paths[lib]) :\n",
       "        new Promise(function(resolve, reject) {\n",
       "          var s = document.createElement('script');\n",
       "          document.getElementsByTagName(\"head\")[0].appendChild(s);\n",
       "          s.async = true;\n",
       "          s.onload = () => {\n",
       "            VEGA_DEBUG[key] = version;\n",
       "            return resolve(paths[lib]);\n",
       "          };\n",
       "          s.onerror = () => reject(`Error loading script: ${paths[lib]}`);\n",
       "          s.src = paths[lib];\n",
       "        });\n",
       "    }\n",
       "\n",
       "    function showError(err) {\n",
       "      outputDiv.innerHTML = `<div class=\"error\" style=\"color:red;\">${err}</div>`;\n",
       "      throw err;\n",
       "    }\n",
       "\n",
       "    function displayChart(vegaEmbed) {\n",
       "      vegaEmbed(outputDiv, spec, embedOpt)\n",
       "        .catch(err => showError(`Javascript Error: ${err.message}<br>This usually means there's a typo in your chart specification. See the javascript console for the full traceback.`));\n",
       "    }\n",
       "\n",
       "    if(typeof define === \"function\" && define.amd) {\n",
       "      requirejs.config({paths});\n",
       "      require([\"vega-embed\"], displayChart, err => showError(`Error loading script: ${err.message}`));\n",
       "    } else {\n",
       "      maybeLoadScript(\"vega\", \"5\")\n",
       "        .then(() => maybeLoadScript(\"vega-lite\", \"5.15.1\"))\n",
       "        .then(() => maybeLoadScript(\"vega-embed\", \"6\"))\n",
       "        .catch(showError)\n",
       "        .then(() => displayChart(vegaEmbed));\n",
       "    }\n",
       "  })({\"config\": {\"view\": {\"continuousWidth\": 300, \"continuousHeight\": 300}}, \"data\": {\"url\": \"https://cdn.jsdelivr.net/npm/vega-datasets@v1.29.0/data/world-110m.json\", \"format\": {\"feature\": \"countries\", \"type\": \"topojson\"}}, \"mark\": {\"type\": \"geoshape\", \"fill\": \"lightgray\", \"stroke\": \"gray\"}, \"height\": 400, \"params\": [{\"name\": \"param_1\", \"value\": \"equalEarth\"}], \"projection\": {\"type\": {\"expr\": \"param_1\"}}, \"width\": 800, \"$schema\": \"https://vega.github.io/schema/vega-lite/v5.15.1.json\"}, {\"mode\": \"vega-lite\"});\n",
       "</script>"
      ],
      "text/plain": [
       "alt.Chart(...)"
      ]
     },
     "execution_count": 24,
     "metadata": {},
     "output_type": "execute_result"
    }
   ],
   "source": [
    "from vega_datasets import data\n",
    "\n",
    "source = alt.topo_feature(data.world_110m.url, 'countries')\n",
    "\n",
    "#input_dropdown = alt.binding_select\n",
    "param_projection = alt.param(value=\"equalEarth\")\n",
    "\n",
    "alt.Chart(source, width=500, height=300).mark_geoshape(\n",
    "    fill='lightgray',\n",
    "    stroke='gray'\n",
    ").project(\n",
    "    type=alt.expr(param_projection.name)\n",
    ").add_params(param_projection).properties(\n",
    "    width=800,\n",
    "    height=400\n",
    ")\n",
    "# No channel encoding options are specified in this chart\n",
    "# so the code is the same as for the method-based syntax."
   ]
  },
  {
   "cell_type": "code",
   "execution_count": 61,
   "metadata": {},
   "outputs": [],
   "source": [
    "linechart1 = alt.Chart(df_selectedlocations).mark_line().encode(\n",
    "    x=alt.X('TIME:O', title='Jahr').axis(\n",
    "        titleAnchor='start',\n",
    "        labelAngle= -0,\n",
    "        ),\n",
    "    y=alt.Y('VALUE').scale(domain=(1000,1800)).axis(\n",
    "        title='Gearbeitete Stunden',\n",
    "        titleAnchor='end',\n",
    "        ),\n",
    "    strokeWidth=alt.value(4), \n",
    "    color=alt.Color('LOCATION', scale=colors),\n",
    "    tooltip=['LOCATION']\n",
    ").properties(\n",
    "    title='Hours Worked',\n",
    "    #fontSize= 20,\n",
    "\n",
    ")\n"
   ]
  },
  {
   "cell_type": "code",
   "execution_count": 64,
   "metadata": {},
   "outputs": [],
   "source": [
    "location_list = df_selectedlocations['LOCATION'].tolist()\n",
    "\n",
    "linechart_labels = alt.Chart(df_selectedlocations).mark_text(align='left', dx=3).encode(\n",
    "    alt.X('TIME:O', aggregate='max'),\n",
    "    alt.Y('VALUE:Q', aggregate={'argmax': 'VALUE'}, scale=alt.Scale(domain=(1000,1800))),\n",
    "    alt.Text('LOCATION'),\n",
    "    alt.Color('LOCATION:N', legend=None, scale=alt.Scale(domain=location_list,type='ordinal')), \n",
    ").properties(\n",
    "    width=600,\n",
    "    height=400,    \n",
    ")"
   ]
  },
  {
   "cell_type": "code",
   "execution_count": null,
   "metadata": {},
   "outputs": [],
   "source": [
    "linechart1_final = alt.layer(linechart1, linechart_labels).configure_view(\n",
    "    strokeWidth=0\n",
    ").configure_title(\n",
    "    fontSize=20,\n",
    "    anchor='start',\n",
    "    fontWeight='normal',\n",
    "    #subtitleColor='grey',\n",
    "    #subtitleFontSize=15\n",
    ").configure_axis(\n",
    "    labelFontSize = 11,\n",
    "    titleFontSize = 12,\n",
    "    titleFontWeight= 'normal',\n",
    "    titleColor='grey'\n",
    ")"
   ]
  },
  {
   "cell_type": "code",
   "execution_count": 26,
   "metadata": {},
   "outputs": [
    {
     "data": {
      "text/html": [
       "\n",
       "<style>\n",
       "  #altair-viz-fbdd81d1b1bc491fabc036128ce0e569.vega-embed {\n",
       "    width: 100%;\n",
       "    display: flex;\n",
       "  }\n",
       "\n",
       "  #altair-viz-fbdd81d1b1bc491fabc036128ce0e569.vega-embed details,\n",
       "  #altair-viz-fbdd81d1b1bc491fabc036128ce0e569.vega-embed details summary {\n",
       "    position: relative;\n",
       "  }\n",
       "</style>\n",
       "<div id=\"altair-viz-fbdd81d1b1bc491fabc036128ce0e569\"></div>\n",
       "<script type=\"text/javascript\">\n",
       "  var VEGA_DEBUG = (typeof VEGA_DEBUG == \"undefined\") ? {} : VEGA_DEBUG;\n",
       "  (function(spec, embedOpt){\n",
       "    let outputDiv = document.currentScript.previousElementSibling;\n",
       "    if (outputDiv.id !== \"altair-viz-fbdd81d1b1bc491fabc036128ce0e569\") {\n",
       "      outputDiv = document.getElementById(\"altair-viz-fbdd81d1b1bc491fabc036128ce0e569\");\n",
       "    }\n",
       "    const paths = {\n",
       "      \"vega\": \"https://cdn.jsdelivr.net/npm/vega@5?noext\",\n",
       "      \"vega-lib\": \"https://cdn.jsdelivr.net/npm/vega-lib?noext\",\n",
       "      \"vega-lite\": \"https://cdn.jsdelivr.net/npm/vega-lite@5.15.1?noext\",\n",
       "      \"vega-embed\": \"https://cdn.jsdelivr.net/npm/vega-embed@6?noext\",\n",
       "    };\n",
       "\n",
       "    function maybeLoadScript(lib, version) {\n",
       "      var key = `${lib.replace(\"-\", \"\")}_version`;\n",
       "      return (VEGA_DEBUG[key] == version) ?\n",
       "        Promise.resolve(paths[lib]) :\n",
       "        new Promise(function(resolve, reject) {\n",
       "          var s = document.createElement('script');\n",
       "          document.getElementsByTagName(\"head\")[0].appendChild(s);\n",
       "          s.async = true;\n",
       "          s.onload = () => {\n",
       "            VEGA_DEBUG[key] = version;\n",
       "            return resolve(paths[lib]);\n",
       "          };\n",
       "          s.onerror = () => reject(`Error loading script: ${paths[lib]}`);\n",
       "          s.src = paths[lib];\n",
       "        });\n",
       "    }\n",
       "\n",
       "    function showError(err) {\n",
       "      outputDiv.innerHTML = `<div class=\"error\" style=\"color:red;\">${err}</div>`;\n",
       "      throw err;\n",
       "    }\n",
       "\n",
       "    function displayChart(vegaEmbed) {\n",
       "      vegaEmbed(outputDiv, spec, embedOpt)\n",
       "        .catch(err => showError(`Javascript Error: ${err.message}<br>This usually means there's a typo in your chart specification. See the javascript console for the full traceback.`));\n",
       "    }\n",
       "\n",
       "    if(typeof define === \"function\" && define.amd) {\n",
       "      requirejs.config({paths});\n",
       "      require([\"vega-embed\"], displayChart, err => showError(`Error loading script: ${err.message}`));\n",
       "    } else {\n",
       "      maybeLoadScript(\"vega\", \"5\")\n",
       "        .then(() => maybeLoadScript(\"vega-lite\", \"5.15.1\"))\n",
       "        .then(() => maybeLoadScript(\"vega-embed\", \"6\"))\n",
       "        .catch(showError)\n",
       "        .then(() => displayChart(vegaEmbed));\n",
       "    }\n",
       "  })({\"config\": {\"view\": {\"continuousWidth\": 300, \"continuousHeight\": 300}}, \"data\": {\"name\": \"data-c3f4fc7fe5411b88a46e9888b3a81bd9\"}, \"mark\": {\"type\": \"bar\"}, \"encoding\": {\"color\": {\"field\": \"TIME\", \"scale\": {\"range\": [\"#003f5c\", \"#58508d\", \"#bc5090\", \"#ff6361\", \"#ffa600\"]}, \"type\": \"ordinal\"}, \"tooltip\": [{\"field\": \"TIME\", \"type\": \"quantitative\"}], \"x\": {\"axis\": {\"title\": \"Location\", \"titleAnchor\": \"start\", \"labelAngle\": 0, \"grid\": false, \"labelColor\": \"black\", \"tickColor\": \"grey\"}, \"field\": \"LOCATION\", \"type\": \"nominal\"}, \"y\": {\"axis\": {\"title\": \"Value\", \"titleAnchor\": \"end\", \"grid\": false, \"labelColor\": \"black\", \"tickColor\": \"black\"}, \"field\": \"VALUE\", \"type\": \"quantitative\"}}, \"height\": 400, \"width\": 600, \"$schema\": \"https://vega.github.io/schema/vega-lite/v5.15.1.json\", \"datasets\": {\"data-c3f4fc7fe5411b88a46e9888b3a81bd9\": [{\"LOCATION\": \"Germany\", \"SUBJECT\": \"TOT\", \"MEASURE\": \"HR_WKD\", \"TIME\": 2019, \"VALUE\": 1372}, {\"LOCATION\": \"Germany\", \"SUBJECT\": \"TOT\", \"MEASURE\": \"HR_WKD\", \"TIME\": 2020, \"VALUE\": 1319}, {\"LOCATION\": \"Germany\", \"SUBJECT\": \"TOT\", \"MEASURE\": \"HR_WKD\", \"TIME\": 2021, \"VALUE\": 1340}, {\"LOCATION\": \"Germany\", \"SUBJECT\": \"TOT\", \"MEASURE\": \"HR_WKD\", \"TIME\": 2022, \"VALUE\": 1340}, {\"LOCATION\": \"United Kingdom\", \"SUBJECT\": \"TOT\", \"MEASURE\": \"HR_WKD\", \"TIME\": 2019, \"VALUE\": 1537}, {\"LOCATION\": \"United Kingdom\", \"SUBJECT\": \"TOT\", \"MEASURE\": \"HR_WKD\", \"TIME\": 2020, \"VALUE\": 1364}, {\"LOCATION\": \"United Kingdom\", \"SUBJECT\": \"TOT\", \"MEASURE\": \"HR_WKD\", \"TIME\": 2021, \"VALUE\": 1498}, {\"LOCATION\": \"United Kingdom\", \"SUBJECT\": \"TOT\", \"MEASURE\": \"HR_WKD\", \"TIME\": 2022, \"VALUE\": 1531}, {\"LOCATION\": \"Organization for Economic Cooperation and Development\", \"SUBJECT\": \"TOT\", \"MEASURE\": \"HR_WKD\", \"TIME\": 2019, \"VALUE\": 1766}, {\"LOCATION\": \"Organization for Economic Cooperation and Development\", \"SUBJECT\": \"TOT\", \"MEASURE\": \"HR_WKD\", \"TIME\": 2020, \"VALUE\": 1687}, {\"LOCATION\": \"Organization for Economic Cooperation and Development\", \"SUBJECT\": \"TOT\", \"MEASURE\": \"HR_WKD\", \"TIME\": 2021, \"VALUE\": 1744}, {\"LOCATION\": \"Organization for Economic Cooperation and Development\", \"SUBJECT\": \"TOT\", \"MEASURE\": \"HR_WKD\", \"TIME\": 2022, \"VALUE\": 1751}, {\"LOCATION\": \"European Union\", \"SUBJECT\": \"TOT\", \"MEASURE\": \"HR_WKD\", \"TIME\": 2019, \"VALUE\": 1592}, {\"LOCATION\": \"European Union\", \"SUBJECT\": \"TOT\", \"MEASURE\": \"HR_WKD\", \"TIME\": 2020, \"VALUE\": 1505}, {\"LOCATION\": \"European Union\", \"SUBJECT\": \"TOT\", \"MEASURE\": \"HR_WKD\", \"TIME\": 2021, \"VALUE\": 1560}, {\"LOCATION\": \"European Union\", \"SUBJECT\": \"TOT\", \"MEASURE\": \"HR_WKD\", \"TIME\": 2022, \"VALUE\": 1570}]}}, {\"mode\": \"vega-lite\"});\n",
       "</script>"
      ],
      "text/plain": [
       "alt.Chart(...)"
      ]
     },
     "execution_count": 26,
     "metadata": {},
     "output_type": "execute_result"
    }
   ],
   "source": [
    "alt.Chart(df_selectedlocations).mark_bar().encode(\n",
    "    x=alt.X('LOCATION').axis(\n",
    "        title='Location',\n",
    "        titleAnchor='start',\n",
    "        labelAngle=0,\n",
    "        grid=False,\n",
    "        labelColor='black',\n",
    "        tickColor='grey'),\n",
    "    y=alt.Y('VALUE').axis(\n",
    "        title='Value',\n",
    "        titleAnchor='end',\n",
    "        grid=False,\n",
    "        labelColor='black',\n",
    "        tickColor='black'),\n",
    "    color=alt.Color('TIME:O', scale=colors),\n",
    "    tooltip=['TIME']\n",
    ").properties(\n",
    "    width=600,\n",
    "    height=400\n",
    ")#.interactive()\n"
   ]
  },
  {
   "cell_type": "code",
   "execution_count": 27,
   "metadata": {},
   "outputs": [],
   "source": [
    "df_selectedlocations.to_csv('df_selectedlocations.csv', index=False)\n"
   ]
  },
  {
   "cell_type": "markdown",
   "metadata": {},
   "source": [
    "### Finding Connections"
   ]
  },
  {
   "cell_type": "code",
   "execution_count": null,
   "metadata": {},
   "outputs": [],
   "source": []
  },
  {
   "cell_type": "code",
   "execution_count": 28,
   "metadata": {},
   "outputs": [
    {
     "ename": "ValueError",
     "evalue": "could not convert string to float: 'Germany'",
     "output_type": "error",
     "traceback": [
      "\u001b[0;31m---------------------------------------------------------------------------\u001b[0m",
      "\u001b[0;31mValueError\u001b[0m                                Traceback (most recent call last)",
      "Cell \u001b[0;32mIn[28], line 1\u001b[0m\n\u001b[0;32m----> 1\u001b[0m \u001b[43mdf_selectedlocations\u001b[49m\u001b[38;5;241;43m.\u001b[39;49m\u001b[43mcorr\u001b[49m\u001b[43m(\u001b[49m\u001b[43m)\u001b[49m\n",
      "File \u001b[0;32m~/anaconda3/envs/dst2/lib/python3.11/site-packages/pandas/core/frame.py:10707\u001b[0m, in \u001b[0;36mDataFrame.corr\u001b[0;34m(self, method, min_periods, numeric_only)\u001b[0m\n\u001b[1;32m  10705\u001b[0m cols \u001b[38;5;241m=\u001b[39m data\u001b[38;5;241m.\u001b[39mcolumns\n\u001b[1;32m  10706\u001b[0m idx \u001b[38;5;241m=\u001b[39m cols\u001b[38;5;241m.\u001b[39mcopy()\n\u001b[0;32m> 10707\u001b[0m mat \u001b[38;5;241m=\u001b[39m \u001b[43mdata\u001b[49m\u001b[38;5;241;43m.\u001b[39;49m\u001b[43mto_numpy\u001b[49m\u001b[43m(\u001b[49m\u001b[43mdtype\u001b[49m\u001b[38;5;241;43m=\u001b[39;49m\u001b[38;5;28;43mfloat\u001b[39;49m\u001b[43m,\u001b[49m\u001b[43m \u001b[49m\u001b[43mna_value\u001b[49m\u001b[38;5;241;43m=\u001b[39;49m\u001b[43mnp\u001b[49m\u001b[38;5;241;43m.\u001b[39;49m\u001b[43mnan\u001b[49m\u001b[43m,\u001b[49m\u001b[43m \u001b[49m\u001b[43mcopy\u001b[49m\u001b[38;5;241;43m=\u001b[39;49m\u001b[38;5;28;43;01mFalse\u001b[39;49;00m\u001b[43m)\u001b[49m\n\u001b[1;32m  10709\u001b[0m \u001b[38;5;28;01mif\u001b[39;00m method \u001b[38;5;241m==\u001b[39m \u001b[38;5;124m\"\u001b[39m\u001b[38;5;124mpearson\u001b[39m\u001b[38;5;124m\"\u001b[39m:\n\u001b[1;32m  10710\u001b[0m     correl \u001b[38;5;241m=\u001b[39m libalgos\u001b[38;5;241m.\u001b[39mnancorr(mat, minp\u001b[38;5;241m=\u001b[39mmin_periods)\n",
      "File \u001b[0;32m~/anaconda3/envs/dst2/lib/python3.11/site-packages/pandas/core/frame.py:1892\u001b[0m, in \u001b[0;36mDataFrame.to_numpy\u001b[0;34m(self, dtype, copy, na_value)\u001b[0m\n\u001b[1;32m   1890\u001b[0m \u001b[38;5;28;01mif\u001b[39;00m dtype \u001b[38;5;129;01mis\u001b[39;00m \u001b[38;5;129;01mnot\u001b[39;00m \u001b[38;5;28;01mNone\u001b[39;00m:\n\u001b[1;32m   1891\u001b[0m     dtype \u001b[38;5;241m=\u001b[39m np\u001b[38;5;241m.\u001b[39mdtype(dtype)\n\u001b[0;32m-> 1892\u001b[0m result \u001b[38;5;241m=\u001b[39m \u001b[38;5;28;43mself\u001b[39;49m\u001b[38;5;241;43m.\u001b[39;49m\u001b[43m_mgr\u001b[49m\u001b[38;5;241;43m.\u001b[39;49m\u001b[43mas_array\u001b[49m\u001b[43m(\u001b[49m\u001b[43mdtype\u001b[49m\u001b[38;5;241;43m=\u001b[39;49m\u001b[43mdtype\u001b[49m\u001b[43m,\u001b[49m\u001b[43m \u001b[49m\u001b[43mcopy\u001b[49m\u001b[38;5;241;43m=\u001b[39;49m\u001b[43mcopy\u001b[49m\u001b[43m,\u001b[49m\u001b[43m \u001b[49m\u001b[43mna_value\u001b[49m\u001b[38;5;241;43m=\u001b[39;49m\u001b[43mna_value\u001b[49m\u001b[43m)\u001b[49m\n\u001b[1;32m   1893\u001b[0m \u001b[38;5;28;01mif\u001b[39;00m result\u001b[38;5;241m.\u001b[39mdtype \u001b[38;5;129;01mis\u001b[39;00m \u001b[38;5;129;01mnot\u001b[39;00m dtype:\n\u001b[1;32m   1894\u001b[0m     result \u001b[38;5;241m=\u001b[39m np\u001b[38;5;241m.\u001b[39marray(result, dtype\u001b[38;5;241m=\u001b[39mdtype, copy\u001b[38;5;241m=\u001b[39m\u001b[38;5;28;01mFalse\u001b[39;00m)\n",
      "File \u001b[0;32m~/anaconda3/envs/dst2/lib/python3.11/site-packages/pandas/core/internals/managers.py:1656\u001b[0m, in \u001b[0;36mBlockManager.as_array\u001b[0;34m(self, dtype, copy, na_value)\u001b[0m\n\u001b[1;32m   1654\u001b[0m         arr\u001b[38;5;241m.\u001b[39mflags\u001b[38;5;241m.\u001b[39mwriteable \u001b[38;5;241m=\u001b[39m \u001b[38;5;28;01mFalse\u001b[39;00m\n\u001b[1;32m   1655\u001b[0m \u001b[38;5;28;01melse\u001b[39;00m:\n\u001b[0;32m-> 1656\u001b[0m     arr \u001b[38;5;241m=\u001b[39m \u001b[38;5;28;43mself\u001b[39;49m\u001b[38;5;241;43m.\u001b[39;49m\u001b[43m_interleave\u001b[49m\u001b[43m(\u001b[49m\u001b[43mdtype\u001b[49m\u001b[38;5;241;43m=\u001b[39;49m\u001b[43mdtype\u001b[49m\u001b[43m,\u001b[49m\u001b[43m \u001b[49m\u001b[43mna_value\u001b[49m\u001b[38;5;241;43m=\u001b[39;49m\u001b[43mna_value\u001b[49m\u001b[43m)\u001b[49m\n\u001b[1;32m   1657\u001b[0m     \u001b[38;5;66;03m# The underlying data was copied within _interleave, so no need\u001b[39;00m\n\u001b[1;32m   1658\u001b[0m     \u001b[38;5;66;03m# to further copy if copy=True or setting na_value\u001b[39;00m\n\u001b[1;32m   1660\u001b[0m \u001b[38;5;28;01mif\u001b[39;00m na_value \u001b[38;5;129;01mis\u001b[39;00m lib\u001b[38;5;241m.\u001b[39mno_default:\n",
      "File \u001b[0;32m~/anaconda3/envs/dst2/lib/python3.11/site-packages/pandas/core/internals/managers.py:1709\u001b[0m, in \u001b[0;36mBlockManager._interleave\u001b[0;34m(self, dtype, na_value)\u001b[0m\n\u001b[1;32m   1703\u001b[0m rl \u001b[38;5;241m=\u001b[39m blk\u001b[38;5;241m.\u001b[39mmgr_locs\n\u001b[1;32m   1704\u001b[0m \u001b[38;5;28;01mif\u001b[39;00m blk\u001b[38;5;241m.\u001b[39mis_extension:\n\u001b[1;32m   1705\u001b[0m     \u001b[38;5;66;03m# Avoid implicit conversion of extension blocks to object\u001b[39;00m\n\u001b[1;32m   1706\u001b[0m \n\u001b[1;32m   1707\u001b[0m     \u001b[38;5;66;03m# error: Item \"ndarray\" of \"Union[ndarray, ExtensionArray]\" has no\u001b[39;00m\n\u001b[1;32m   1708\u001b[0m     \u001b[38;5;66;03m# attribute \"to_numpy\"\u001b[39;00m\n\u001b[0;32m-> 1709\u001b[0m     arr \u001b[38;5;241m=\u001b[39m \u001b[43mblk\u001b[49m\u001b[38;5;241;43m.\u001b[39;49m\u001b[43mvalues\u001b[49m\u001b[38;5;241;43m.\u001b[39;49m\u001b[43mto_numpy\u001b[49m\u001b[43m(\u001b[49m\u001b[43m  \u001b[49m\u001b[38;5;66;43;03m# type: ignore[union-attr]\u001b[39;49;00m\n\u001b[1;32m   1710\u001b[0m \u001b[43m        \u001b[49m\u001b[43mdtype\u001b[49m\u001b[38;5;241;43m=\u001b[39;49m\u001b[43mdtype\u001b[49m\u001b[43m,\u001b[49m\n\u001b[1;32m   1711\u001b[0m \u001b[43m        \u001b[49m\u001b[43mna_value\u001b[49m\u001b[38;5;241;43m=\u001b[39;49m\u001b[43mna_value\u001b[49m\u001b[43m,\u001b[49m\n\u001b[1;32m   1712\u001b[0m \u001b[43m    \u001b[49m\u001b[43m)\u001b[49m\n\u001b[1;32m   1713\u001b[0m \u001b[38;5;28;01melse\u001b[39;00m:\n\u001b[1;32m   1714\u001b[0m     arr \u001b[38;5;241m=\u001b[39m blk\u001b[38;5;241m.\u001b[39mget_values(dtype)\n",
      "File \u001b[0;32m~/anaconda3/envs/dst2/lib/python3.11/site-packages/pandas/core/arrays/base.py:530\u001b[0m, in \u001b[0;36mExtensionArray.to_numpy\u001b[0;34m(self, dtype, copy, na_value)\u001b[0m\n\u001b[1;32m    501\u001b[0m \u001b[38;5;28;01mdef\u001b[39;00m \u001b[38;5;21mto_numpy\u001b[39m(\n\u001b[1;32m    502\u001b[0m     \u001b[38;5;28mself\u001b[39m,\n\u001b[1;32m    503\u001b[0m     dtype: npt\u001b[38;5;241m.\u001b[39mDTypeLike \u001b[38;5;241m|\u001b[39m \u001b[38;5;28;01mNone\u001b[39;00m \u001b[38;5;241m=\u001b[39m \u001b[38;5;28;01mNone\u001b[39;00m,\n\u001b[1;32m    504\u001b[0m     copy: \u001b[38;5;28mbool\u001b[39m \u001b[38;5;241m=\u001b[39m \u001b[38;5;28;01mFalse\u001b[39;00m,\n\u001b[1;32m    505\u001b[0m     na_value: \u001b[38;5;28mobject\u001b[39m \u001b[38;5;241m=\u001b[39m lib\u001b[38;5;241m.\u001b[39mno_default,\n\u001b[1;32m    506\u001b[0m ) \u001b[38;5;241m-\u001b[39m\u001b[38;5;241m>\u001b[39m np\u001b[38;5;241m.\u001b[39mndarray:\n\u001b[1;32m    507\u001b[0m \u001b[38;5;250m    \u001b[39m\u001b[38;5;124;03m\"\"\"\u001b[39;00m\n\u001b[1;32m    508\u001b[0m \u001b[38;5;124;03m    Convert to a NumPy ndarray.\u001b[39;00m\n\u001b[1;32m    509\u001b[0m \n\u001b[0;32m   (...)\u001b[0m\n\u001b[1;32m    528\u001b[0m \u001b[38;5;124;03m    numpy.ndarray\u001b[39;00m\n\u001b[1;32m    529\u001b[0m \u001b[38;5;124;03m    \"\"\"\u001b[39;00m\n\u001b[0;32m--> 530\u001b[0m     result \u001b[38;5;241m=\u001b[39m \u001b[43mnp\u001b[49m\u001b[38;5;241;43m.\u001b[39;49m\u001b[43masarray\u001b[49m\u001b[43m(\u001b[49m\u001b[38;5;28;43mself\u001b[39;49m\u001b[43m,\u001b[49m\u001b[43m \u001b[49m\u001b[43mdtype\u001b[49m\u001b[38;5;241;43m=\u001b[39;49m\u001b[43mdtype\u001b[49m\u001b[43m)\u001b[49m\n\u001b[1;32m    531\u001b[0m     \u001b[38;5;28;01mif\u001b[39;00m copy \u001b[38;5;129;01mor\u001b[39;00m na_value \u001b[38;5;129;01mis\u001b[39;00m \u001b[38;5;129;01mnot\u001b[39;00m lib\u001b[38;5;241m.\u001b[39mno_default:\n\u001b[1;32m    532\u001b[0m         result \u001b[38;5;241m=\u001b[39m result\u001b[38;5;241m.\u001b[39mcopy()\n",
      "File \u001b[0;32m~/anaconda3/envs/dst2/lib/python3.11/site-packages/pandas/core/arrays/_mixins.py:80\u001b[0m, in \u001b[0;36mravel_compat.<locals>.method\u001b[0;34m(self, *args, **kwargs)\u001b[0m\n\u001b[1;32m     77\u001b[0m \u001b[38;5;129m@wraps\u001b[39m(meth)\n\u001b[1;32m     78\u001b[0m \u001b[38;5;28;01mdef\u001b[39;00m \u001b[38;5;21mmethod\u001b[39m(\u001b[38;5;28mself\u001b[39m, \u001b[38;5;241m*\u001b[39margs, \u001b[38;5;241m*\u001b[39m\u001b[38;5;241m*\u001b[39mkwargs):\n\u001b[1;32m     79\u001b[0m     \u001b[38;5;28;01mif\u001b[39;00m \u001b[38;5;28mself\u001b[39m\u001b[38;5;241m.\u001b[39mndim \u001b[38;5;241m==\u001b[39m \u001b[38;5;241m1\u001b[39m:\n\u001b[0;32m---> 80\u001b[0m         \u001b[38;5;28;01mreturn\u001b[39;00m \u001b[43mmeth\u001b[49m\u001b[43m(\u001b[49m\u001b[38;5;28;43mself\u001b[39;49m\u001b[43m,\u001b[49m\u001b[43m \u001b[49m\u001b[38;5;241;43m*\u001b[39;49m\u001b[43margs\u001b[49m\u001b[43m,\u001b[49m\u001b[43m \u001b[49m\u001b[38;5;241;43m*\u001b[39;49m\u001b[38;5;241;43m*\u001b[39;49m\u001b[43mkwargs\u001b[49m\u001b[43m)\u001b[49m\n\u001b[1;32m     82\u001b[0m     flags \u001b[38;5;241m=\u001b[39m \u001b[38;5;28mself\u001b[39m\u001b[38;5;241m.\u001b[39m_ndarray\u001b[38;5;241m.\u001b[39mflags\n\u001b[1;32m     83\u001b[0m     flat \u001b[38;5;241m=\u001b[39m \u001b[38;5;28mself\u001b[39m\u001b[38;5;241m.\u001b[39mravel(\u001b[38;5;124m\"\u001b[39m\u001b[38;5;124mK\u001b[39m\u001b[38;5;124m\"\u001b[39m)\n",
      "File \u001b[0;32m~/anaconda3/envs/dst2/lib/python3.11/site-packages/pandas/core/arrays/categorical.py:1635\u001b[0m, in \u001b[0;36mCategorical.__array__\u001b[0;34m(self, dtype)\u001b[0m\n\u001b[1;32m   1633\u001b[0m ret \u001b[38;5;241m=\u001b[39m take_nd(\u001b[38;5;28mself\u001b[39m\u001b[38;5;241m.\u001b[39mcategories\u001b[38;5;241m.\u001b[39m_values, \u001b[38;5;28mself\u001b[39m\u001b[38;5;241m.\u001b[39m_codes)\n\u001b[1;32m   1634\u001b[0m \u001b[38;5;28;01mif\u001b[39;00m dtype \u001b[38;5;129;01mand\u001b[39;00m np\u001b[38;5;241m.\u001b[39mdtype(dtype) \u001b[38;5;241m!=\u001b[39m \u001b[38;5;28mself\u001b[39m\u001b[38;5;241m.\u001b[39mcategories\u001b[38;5;241m.\u001b[39mdtype:\n\u001b[0;32m-> 1635\u001b[0m     \u001b[38;5;28;01mreturn\u001b[39;00m np\u001b[38;5;241m.\u001b[39masarray(ret, dtype)\n\u001b[1;32m   1636\u001b[0m \u001b[38;5;66;03m# When we're a Categorical[ExtensionArray], like Interval,\u001b[39;00m\n\u001b[1;32m   1637\u001b[0m \u001b[38;5;66;03m# we need to ensure __array__ gets all the way to an\u001b[39;00m\n\u001b[1;32m   1638\u001b[0m \u001b[38;5;66;03m# ndarray.\u001b[39;00m\n\u001b[1;32m   1639\u001b[0m \u001b[38;5;28;01mreturn\u001b[39;00m np\u001b[38;5;241m.\u001b[39masarray(ret)\n",
      "\u001b[0;31mValueError\u001b[0m: could not convert string to float: 'Germany'"
     ]
    }
   ],
   "source": [
    "df_selectedlocations.corr()"
   ]
  }
 ],
 "metadata": {
  "kernelspec": {
   "display_name": "dst2",
   "language": "python",
   "name": "python3"
  },
  "language_info": {
   "codemirror_mode": {
    "name": "ipython",
    "version": 3
   },
   "file_extension": ".py",
   "mimetype": "text/x-python",
   "name": "python",
   "nbconvert_exporter": "python",
   "pygments_lexer": "ipython3",
   "version": "3.11.5"
  }
 },
 "nbformat": 4,
 "nbformat_minor": 2
}
